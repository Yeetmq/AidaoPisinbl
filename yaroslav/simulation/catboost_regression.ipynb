{
 "cells": [
  {
   "cell_type": "code",
   "execution_count": 1,
   "id": "9c86f8bd",
   "metadata": {},
   "outputs": [],
   "source": [
    "import warnings\n",
    "\n",
    "import matplotlib.pyplot as plt\n",
    "import numpy as np\n",
    "import pandas as pd\n",
    "from catboost import CatBoostClassifier, CatBoostRegressor\n",
    "from sklearn.metrics import accuracy_score, classification_report, mean_squared_error\n",
    "from sklearn.model_selection import train_test_split\n",
    "from sklearn.preprocessing import LabelEncoder\n",
    "\n",
    "warnings.filterwarnings(\"ignore\")"
   ]
  },
  {
   "cell_type": "code",
   "execution_count": 2,
   "id": "5217cc3f",
   "metadata": {},
   "outputs": [],
   "source": [
    "df = pd.read_csv(\"../../data/frames_errors.csv\", header=None)\n",
    "df.columns = [\n",
    "    \"block_id\",\n",
    "    \"frame_idx\",\n",
    "    \"E_mu_Z\",\n",
    "    \"E_mu_phys_est\",\n",
    "    \"E_mu_X\",\n",
    "    \"E_nu1_X\",\n",
    "    \"E_nu2_X\",\n",
    "    \"E_nu1_Z\",\n",
    "    \"E_nu2_Z\",\n",
    "    \"N_mu_X\",\n",
    "    \"M_mu_XX\",\n",
    "    \"M_mu_XZ\",\n",
    "    \"M_mu_X\",\n",
    "    \"N_mu_Z\",\n",
    "    \"M_mu_ZZ\",\n",
    "    \"M_mu_Z\",\n",
    "    \"N_nu1_X\",\n",
    "    \"M_nu1_XX\",\n",
    "    \"M_nu1_XZ\",\n",
    "    \"M_nu1_X\",\n",
    "    \"N_nu1_Z\",\n",
    "    \"M_nu1_ZZ\",\n",
    "    \"M_nu1_Z\",\n",
    "    \"N_nu2_X\",\n",
    "    \"M_nu2_XX\",\n",
    "    \"M_nu2_XZ\",\n",
    "    \"M_nu2_X\",\n",
    "    \"N_nu2_Z\",\n",
    "    \"M_nu2_ZZ\",\n",
    "    \"M_nu2_Z\",\n",
    "    \"nTot\",\n",
    "    \"bayesImVoltage\",\n",
    "    \"opticalPower\",\n",
    "    \"polarizerVoltages[0]\",\n",
    "    \"polarizerVoltages[1]\",\n",
    "    \"polarizerVoltages[2]\",\n",
    "    \"polarizerVoltages[3]\",\n",
    "    \"temp_1\",\n",
    "    \"biasVoltage_1\",\n",
    "    \"temp_2\",\n",
    "    \"biasVoltage_2\",\n",
    "    \"synErr\",\n",
    "    \"N_EC_rounds\",\n",
    "    \"maintenance_flag\",\n",
    "    \"estimator_name\",\n",
    "    \"f_EC\",\n",
    "    \"E_mu_Z_est\",\n",
    "    \"R\",\n",
    "    \"s\",\n",
    "    \"p\",\n",
    "]"
   ]
  },
  {
   "cell_type": "code",
   "execution_count": 3,
   "id": "be9ac7ee",
   "metadata": {},
   "outputs": [],
   "source": [
    "id_features = [\n",
    "    \"block_id\",\n",
    "    \"frame_idx\",\n",
    "]\n",
    "\n",
    "phys_gt_features = [\n",
    "    \"E_mu_Z\",\n",
    "    \"E_mu_X\",\n",
    "    \"E_nu1_X\",\n",
    "    \"E_nu2_X\",\n",
    "    \"E_nu1_Z\",\n",
    "    \"E_nu2_Z\",\n",
    "    \"N_mu_X\",\n",
    "    \"M_mu_XX\",\n",
    "    \"M_mu_XZ\",\n",
    "    \"M_mu_X\",\n",
    "    \"N_mu_Z\",\n",
    "    \"M_mu_ZZ\",\n",
    "    \"M_mu_Z\",\n",
    "    \"N_nu1_X\",\n",
    "    \"M_nu1_XX\",\n",
    "    \"M_nu1_XZ\",\n",
    "    \"M_nu1_X\",\n",
    "    \"N_nu1_Z\",\n",
    "    \"M_nu1_ZZ\",\n",
    "    \"M_nu1_Z\",\n",
    "    \"N_nu2_X\",\n",
    "    \"M_nu2_XX\",\n",
    "    \"M_nu2_XZ\",\n",
    "    \"M_nu2_X\",\n",
    "    \"N_nu2_Z\",\n",
    "    \"M_nu2_ZZ\",\n",
    "    \"M_nu2_Z\",\n",
    "]\n",
    "\n",
    "phys_features = [\n",
    "    \"bayesImVoltage\",\n",
    "    \"opticalPower\",\n",
    "    \"polarizerVoltages[0]\",\n",
    "    \"polarizerVoltages[1]\",\n",
    "    \"polarizerVoltages[2]\",\n",
    "    \"polarizerVoltages[3]\",\n",
    "    \"temp_1\",\n",
    "    \"biasVoltage_1\",\n",
    "    \"temp_2\",\n",
    "    \"biasVoltage_2\",\n",
    "]\n",
    "\n",
    "est_features = [\n",
    "    # \"E_mu_phys_est\",\n",
    "    \"E_mu_Z_est\",\n",
    "    \"R\",\n",
    "    \"s\",\n",
    "    \"p\",\n",
    "]\n",
    "\n",
    "proxy_features = [\n",
    "    \"N_EC_rounds\",\n",
    "    # \"f_EC\",\n",
    "]\n",
    "\n",
    "df = df[id_features + phys_gt_features + phys_features + est_features + proxy_features]"
   ]
  },
  {
   "cell_type": "code",
   "execution_count": 4,
   "id": "0961f92a",
   "metadata": {},
   "outputs": [
    {
     "name": "stdout",
     "output_type": "stream",
     "text": [
      "Столбцы с пропусками и их количество:\n",
      "Series([], dtype: int64)\n",
      "Количество фреймов / Количество рядов\n",
      "frame_idx\n",
      "399    569\n",
      "400    251\n",
      "398      2\n",
      "390      1\n",
      "Name: count, dtype: int64\n",
      "Shape: (328617, 44)\n"
     ]
    }
   ],
   "source": [
    "missing_counts = df.isna().sum()\n",
    "columns_with_missing = missing_counts[missing_counts > 0]\n",
    "print(\"Столбцы с пропусками и их количество:\")\n",
    "print(columns_with_missing)\n",
    "timestamp_counts = df.groupby(\"block_id\")[\"frame_idx\"].nunique()\n",
    "print(\"Количество фреймов / Количество рядов\")\n",
    "print(timestamp_counts.value_counts())\n",
    "print(\"Shape:\", df.shape)"
   ]
  },
  {
   "cell_type": "code",
   "execution_count": 5,
   "id": "43442169",
   "metadata": {},
   "outputs": [
    {
     "name": "stdout",
     "output_type": "stream",
     "text": [
      "count    328617.000000\n",
      "mean          5.504049\n",
      "std           6.734518\n",
      "min           0.000000\n",
      "25%           1.000000\n",
      "50%           2.000000\n",
      "75%           7.000000\n",
      "max          59.000000\n",
      "Name: N_EC_rounds, dtype: float64\n"
     ]
    },
    {
     "data": {
      "image/png": "[encoded data removed]",
      "text/plain": [
       "<Figure size 1100x300 with 2 Axes>"
      ]
     },
     "metadata": {},
     "output_type": "display_data"
    }
   ],
   "source": [
    "print(df[\"N_EC_rounds\"].describe())\n",
    "plt.figure(figsize=(11, 3))\n",
    "plt.subplot(1, 2, 1)\n",
    "plt.hist(df[\"N_EC_rounds\"], bins=20)\n",
    "plt.xlabel(\"Number of EC Rounds\")\n",
    "plt.ylabel(\"Frequency\")\n",
    "plt.subplot(1, 2, 2)\n",
    "plt.boxplot(df[\"N_EC_rounds\"], vert=False)\n",
    "plt.xlabel(\"Number of EC Rounds\")\n",
    "plt.suptitle(\"Distribution of Number of EC Rounds\")\n",
    "plt.show()"
   ]
  },
  {
   "cell_type": "code",
   "execution_count": 7,
   "id": "49ef1af1",
   "metadata": {},
   "outputs": [
    {
     "data": {
      "text/plain": [
       "<Axes: >"
      ]
     },
     "execution_count": 7,
     "metadata": {},
     "output_type": "execute_result"
    },
    {
     "data": {
      "image/png": "[encoded data removed]",
      "text/plain": [
       "<Figure size 640x480 with 1 Axes>"
      ]
     },
     "metadata": {},
     "output_type": "display_data"
    }
   ],
   "source": [
    "def process_n_ec_rounds(n):\n",
    "    if n > 20 or n == 0:\n",
    "        return 20\n",
    "    return n\n",
    "\n",
    "\n",
    "df[\"N_EC_rounds_cat\"] = df[\"N_EC_rounds\"].apply(process_n_ec_rounds)\n",
    "df[\"N_EC_rounds_cat\"].hist()"
   ]
  },
  {
   "cell_type": "code",
   "execution_count": 8,
   "id": "b4633ca2",
   "metadata": {},
   "outputs": [],
   "source": [
    "def create_features(df, features, lag, window):\n",
    "    df = df.copy()\n",
    "    created_features = []\n",
    "\n",
    "    for feature in features:\n",
    "        for l in lag:\n",
    "            df[f\"{feature}_lag_{l}\"] = df.groupby(\"block_id\")[feature].shift(l)\n",
    "            created_features.append(f\"{feature}_lag_{l}\")\n",
    "        for w in window:\n",
    "            df[f\"{feature}_roll_mean_{w}\"] = (\n",
    "                df.groupby(\"block_id\")[feature].shift(1).rolling(window=w).mean()\n",
    "            )\n",
    "            created_features.append(f\"{feature}_roll_mean_{w}\")\n",
    "            df[f\"{feature}_roll_std_{w}\"] = (\n",
    "                df.groupby(\"block_id\")[feature].shift(1).rolling(window=w).std()\n",
    "            )\n",
    "            created_features.append(f\"{feature}_roll_std_{w}\")\n",
    "\n",
    "    df = df.bfill().ffill()\n",
    "    return df, created_features"
   ]
  },
  {
   "cell_type": "code",
   "execution_count": 9,
   "id": "58747efa",
   "metadata": {},
   "outputs": [
    {
     "name": "stdout",
     "output_type": "stream",
     "text": [
      "Созданные признаки: ['bayesImVoltage_lag_2', 'bayesImVoltage_lag_5', 'bayesImVoltage_lag_10', 'bayesImVoltage_lag_20', 'bayesImVoltage_roll_mean_5', 'bayesImVoltage_roll_std_5', 'bayesImVoltage_roll_mean_10', 'bayesImVoltage_roll_std_10', 'opticalPower_lag_2', 'opticalPower_lag_5', 'opticalPower_lag_10', 'opticalPower_lag_20', 'opticalPower_roll_mean_5', 'opticalPower_roll_std_5', 'opticalPower_roll_mean_10', 'opticalPower_roll_std_10', 'polarizerVoltages[0]_lag_2', 'polarizerVoltages[0]_lag_5', 'polarizerVoltages[0]_lag_10', 'polarizerVoltages[0]_lag_20', 'polarizerVoltages[0]_roll_mean_5', 'polarizerVoltages[0]_roll_std_5', 'polarizerVoltages[0]_roll_mean_10', 'polarizerVoltages[0]_roll_std_10', 'polarizerVoltages[1]_lag_2', 'polarizerVoltages[1]_lag_5', 'polarizerVoltages[1]_lag_10', 'polarizerVoltages[1]_lag_20', 'polarizerVoltages[1]_roll_mean_5', 'polarizerVoltages[1]_roll_std_5', 'polarizerVoltages[1]_roll_mean_10', 'polarizerVoltages[1]_roll_std_10', 'polarizerVoltages[2]_lag_2', 'polarizerVoltages[2]_lag_5', 'polarizerVoltages[2]_lag_10', 'polarizerVoltages[2]_lag_20', 'polarizerVoltages[2]_roll_mean_5', 'polarizerVoltages[2]_roll_std_5', 'polarizerVoltages[2]_roll_mean_10', 'polarizerVoltages[2]_roll_std_10', 'polarizerVoltages[3]_lag_2', 'polarizerVoltages[3]_lag_5', 'polarizerVoltages[3]_lag_10', 'polarizerVoltages[3]_lag_20', 'polarizerVoltages[3]_roll_mean_5', 'polarizerVoltages[3]_roll_std_5', 'polarizerVoltages[3]_roll_mean_10', 'polarizerVoltages[3]_roll_std_10', 'temp_1_lag_2', 'temp_1_lag_5', 'temp_1_lag_10', 'temp_1_lag_20', 'temp_1_roll_mean_5', 'temp_1_roll_std_5', 'temp_1_roll_mean_10', 'temp_1_roll_std_10', 'biasVoltage_1_lag_2', 'biasVoltage_1_lag_5', 'biasVoltage_1_lag_10', 'biasVoltage_1_lag_20', 'biasVoltage_1_roll_mean_5', 'biasVoltage_1_roll_std_5', 'biasVoltage_1_roll_mean_10', 'biasVoltage_1_roll_std_10', 'temp_2_lag_2', 'temp_2_lag_5', 'temp_2_lag_10', 'temp_2_lag_20', 'temp_2_roll_mean_5', 'temp_2_roll_std_5', 'temp_2_roll_mean_10', 'temp_2_roll_std_10', 'biasVoltage_2_lag_2', 'biasVoltage_2_lag_5', 'biasVoltage_2_lag_10', 'biasVoltage_2_lag_20', 'biasVoltage_2_roll_mean_5', 'biasVoltage_2_roll_std_5', 'biasVoltage_2_roll_mean_10', 'biasVoltage_2_roll_std_10', 'E_mu_Z_lag_2', 'E_mu_Z_lag_5', 'E_mu_Z_lag_10', 'E_mu_Z_lag_20', 'E_mu_Z_roll_mean_5', 'E_mu_Z_roll_std_5', 'E_mu_Z_roll_mean_10', 'E_mu_Z_roll_std_10', 'E_mu_X_lag_2', 'E_mu_X_lag_5', 'E_mu_X_lag_10', 'E_mu_X_lag_20', 'E_mu_X_roll_mean_5', 'E_mu_X_roll_std_5', 'E_mu_X_roll_mean_10', 'E_mu_X_roll_std_10', 'E_nu1_X_lag_2', 'E_nu1_X_lag_5', 'E_nu1_X_lag_10', 'E_nu1_X_lag_20', 'E_nu1_X_roll_mean_5', 'E_nu1_X_roll_std_5', 'E_nu1_X_roll_mean_10', 'E_nu1_X_roll_std_10', 'E_nu2_X_lag_2', 'E_nu2_X_lag_5', 'E_nu2_X_lag_10', 'E_nu2_X_lag_20', 'E_nu2_X_roll_mean_5', 'E_nu2_X_roll_std_5', 'E_nu2_X_roll_mean_10', 'E_nu2_X_roll_std_10', 'E_nu1_Z_lag_2', 'E_nu1_Z_lag_5', 'E_nu1_Z_lag_10', 'E_nu1_Z_lag_20', 'E_nu1_Z_roll_mean_5', 'E_nu1_Z_roll_std_5', 'E_nu1_Z_roll_mean_10', 'E_nu1_Z_roll_std_10', 'E_nu2_Z_lag_2', 'E_nu2_Z_lag_5', 'E_nu2_Z_lag_10', 'E_nu2_Z_lag_20', 'E_nu2_Z_roll_mean_5', 'E_nu2_Z_roll_std_5', 'E_nu2_Z_roll_mean_10', 'E_nu2_Z_roll_std_10', 'N_mu_X_lag_2', 'N_mu_X_lag_5', 'N_mu_X_lag_10', 'N_mu_X_lag_20', 'N_mu_X_roll_mean_5', 'N_mu_X_roll_std_5', 'N_mu_X_roll_mean_10', 'N_mu_X_roll_std_10', 'M_mu_XX_lag_2', 'M_mu_XX_lag_5', 'M_mu_XX_lag_10', 'M_mu_XX_lag_20', 'M_mu_XX_roll_mean_5', 'M_mu_XX_roll_std_5', 'M_mu_XX_roll_mean_10', 'M_mu_XX_roll_std_10', 'M_mu_XZ_lag_2', 'M_mu_XZ_lag_5', 'M_mu_XZ_lag_10', 'M_mu_XZ_lag_20', 'M_mu_XZ_roll_mean_5', 'M_mu_XZ_roll_std_5', 'M_mu_XZ_roll_mean_10', 'M_mu_XZ_roll_std_10', 'M_mu_X_lag_2', 'M_mu_X_lag_5', 'M_mu_X_lag_10', 'M_mu_X_lag_20', 'M_mu_X_roll_mean_5', 'M_mu_X_roll_std_5', 'M_mu_X_roll_mean_10', 'M_mu_X_roll_std_10', 'N_mu_Z_lag_2', 'N_mu_Z_lag_5', 'N_mu_Z_lag_10', 'N_mu_Z_lag_20', 'N_mu_Z_roll_mean_5', 'N_mu_Z_roll_std_5', 'N_mu_Z_roll_mean_10', 'N_mu_Z_roll_std_10', 'M_mu_ZZ_lag_2', 'M_mu_ZZ_lag_5', 'M_mu_ZZ_lag_10', 'M_mu_ZZ_lag_20', 'M_mu_ZZ_roll_mean_5', 'M_mu_ZZ_roll_std_5', 'M_mu_ZZ_roll_mean_10', 'M_mu_ZZ_roll_std_10', 'M_mu_Z_lag_2', 'M_mu_Z_lag_5', 'M_mu_Z_lag_10', 'M_mu_Z_lag_20', 'M_mu_Z_roll_mean_5', 'M_mu_Z_roll_std_5', 'M_mu_Z_roll_mean_10', 'M_mu_Z_roll_std_10', 'N_nu1_X_lag_2', 'N_nu1_X_lag_5', 'N_nu1_X_lag_10', 'N_nu1_X_lag_20', 'N_nu1_X_roll_mean_5', 'N_nu1_X_roll_std_5', 'N_nu1_X_roll_mean_10', 'N_nu1_X_roll_std_10', 'M_nu1_XX_lag_2', 'M_nu1_XX_lag_5', 'M_nu1_XX_lag_10', 'M_nu1_XX_lag_20', 'M_nu1_XX_roll_mean_5', 'M_nu1_XX_roll_std_5', 'M_nu1_XX_roll_mean_10', 'M_nu1_XX_roll_std_10', 'M_nu1_XZ_lag_2', 'M_nu1_XZ_lag_5', 'M_nu1_XZ_lag_10', 'M_nu1_XZ_lag_20', 'M_nu1_XZ_roll_mean_5', 'M_nu1_XZ_roll_std_5', 'M_nu1_XZ_roll_mean_10', 'M_nu1_XZ_roll_std_10', 'M_nu1_X_lag_2', 'M_nu1_X_lag_5', 'M_nu1_X_lag_10', 'M_nu1_X_lag_20', 'M_nu1_X_roll_mean_5', 'M_nu1_X_roll_std_5', 'M_nu1_X_roll_mean_10', 'M_nu1_X_roll_std_10', 'N_nu1_Z_lag_2', 'N_nu1_Z_lag_5', 'N_nu1_Z_lag_10', 'N_nu1_Z_lag_20', 'N_nu1_Z_roll_mean_5', 'N_nu1_Z_roll_std_5', 'N_nu1_Z_roll_mean_10', 'N_nu1_Z_roll_std_10', 'M_nu1_ZZ_lag_2', 'M_nu1_ZZ_lag_5', 'M_nu1_ZZ_lag_10', 'M_nu1_ZZ_lag_20', 'M_nu1_ZZ_roll_mean_5', 'M_nu1_ZZ_roll_std_5', 'M_nu1_ZZ_roll_mean_10', 'M_nu1_ZZ_roll_std_10', 'M_nu1_Z_lag_2', 'M_nu1_Z_lag_5', 'M_nu1_Z_lag_10', 'M_nu1_Z_lag_20', 'M_nu1_Z_roll_mean_5', 'M_nu1_Z_roll_std_5', 'M_nu1_Z_roll_mean_10', 'M_nu1_Z_roll_std_10', 'N_nu2_X_lag_2', 'N_nu2_X_lag_5', 'N_nu2_X_lag_10', 'N_nu2_X_lag_20', 'N_nu2_X_roll_mean_5', 'N_nu2_X_roll_std_5', 'N_nu2_X_roll_mean_10', 'N_nu2_X_roll_std_10', 'M_nu2_XX_lag_2', 'M_nu2_XX_lag_5', 'M_nu2_XX_lag_10', 'M_nu2_XX_lag_20', 'M_nu2_XX_roll_mean_5', 'M_nu2_XX_roll_std_5', 'M_nu2_XX_roll_mean_10', 'M_nu2_XX_roll_std_10', 'M_nu2_XZ_lag_2', 'M_nu2_XZ_lag_5', 'M_nu2_XZ_lag_10', 'M_nu2_XZ_lag_20', 'M_nu2_XZ_roll_mean_5', 'M_nu2_XZ_roll_std_5', 'M_nu2_XZ_roll_mean_10', 'M_nu2_XZ_roll_std_10', 'M_nu2_X_lag_2', 'M_nu2_X_lag_5', 'M_nu2_X_lag_10', 'M_nu2_X_lag_20', 'M_nu2_X_roll_mean_5', 'M_nu2_X_roll_std_5', 'M_nu2_X_roll_mean_10', 'M_nu2_X_roll_std_10', 'N_nu2_Z_lag_2', 'N_nu2_Z_lag_5', 'N_nu2_Z_lag_10', 'N_nu2_Z_lag_20', 'N_nu2_Z_roll_mean_5', 'N_nu2_Z_roll_std_5', 'N_nu2_Z_roll_mean_10', 'N_nu2_Z_roll_std_10', 'M_nu2_ZZ_lag_2', 'M_nu2_ZZ_lag_5', 'M_nu2_ZZ_lag_10', 'M_nu2_ZZ_lag_20', 'M_nu2_ZZ_roll_mean_5', 'M_nu2_ZZ_roll_std_5', 'M_nu2_ZZ_roll_mean_10', 'M_nu2_ZZ_roll_std_10', 'M_nu2_Z_lag_2', 'M_nu2_Z_lag_5', 'M_nu2_Z_lag_10', 'M_nu2_Z_lag_20', 'M_nu2_Z_roll_mean_5', 'M_nu2_Z_roll_std_5', 'M_nu2_Z_roll_mean_10', 'M_nu2_Z_roll_std_10', 'E_mu_Z_est_lag_2', 'E_mu_Z_est_lag_5', 'E_mu_Z_est_lag_10', 'E_mu_Z_est_lag_20', 'E_mu_Z_est_roll_mean_5', 'E_mu_Z_est_roll_std_5', 'E_mu_Z_est_roll_mean_10', 'E_mu_Z_est_roll_std_10', 'R_lag_2', 'R_lag_5', 'R_lag_10', 'R_lag_20', 'R_roll_mean_5', 'R_roll_std_5', 'R_roll_mean_10', 'R_roll_std_10', 's_lag_2', 's_lag_5', 's_lag_10', 's_lag_20', 's_roll_mean_5', 's_roll_std_5', 's_roll_mean_10', 's_roll_std_10', 'p_lag_2', 'p_lag_5', 'p_lag_10', 'p_lag_20', 'p_roll_mean_5', 'p_roll_std_5', 'p_roll_mean_10', 'p_roll_std_10']\n"
     ]
    }
   ],
   "source": [
    "features_to_create = phys_features + phys_gt_features + [\"E_mu_Z_est\", \"R\", \"s\", \"p\"]\n",
    "df_featured, created_features = create_features(\n",
    "    df, features_to_create, lag=[2, 5, 10, 20], window=[5, 10]\n",
    ")\n",
    "print(\"Созданные признаки:\", created_features)"
   ]
  },
  {
   "cell_type": "code",
   "execution_count": 10,
   "id": "65bfb16d",
   "metadata": {},
   "outputs": [
    {
     "name": "stdout",
     "output_type": "stream",
     "text": [
      "Train: 326221\n",
      "Test: 2000\n"
     ]
    }
   ],
   "source": [
    "# Test (Val)\n",
    "start_idx = df_featured[\n",
    "    (df_featured[\"block_id\"] == 1489460492) & (df_featured[\"frame_idx\"] == 99)\n",
    "].index[0]\n",
    "end_idx = df_featured[\n",
    "    (df_featured[\"block_id\"] == 1840064900) & (df_featured[\"frame_idx\"] == 101)\n",
    "].index[0]\n",
    "\n",
    "test_df = df_featured.loc[start_idx:end_idx].copy()\n",
    "assert len(test_df) == 2000, \"Test (Val) set size is not 2000 rows\"\n",
    "\n",
    "# Train\n",
    "all_block_ids = df_featured[\"block_id\"].unique()\n",
    "train_blocks = [bid for bid in all_block_ids if bid not in test_df[\"block_id\"].values]\n",
    "train_df = df_featured[df_featured[\"block_id\"].isin(train_blocks)]\n",
    "\n",
    "print(f\"Train: {len(train_df)}\")\n",
    "print(f\"Test: {len(test_df)}\")\n"
   ]
  },
  {
   "cell_type": "code",
   "execution_count": 11,
   "id": "13c46b34",
   "metadata": {},
   "outputs": [],
   "source": [
    "features_in = created_features + phys_features + [\"E_mu_Z_est\", \"R\", \"s\", \"p\"]\n",
    "target = \"N_EC_rounds_cat\""
   ]
  },
  {
   "cell_type": "code",
   "execution_count": 14,
   "id": "e845ae97",
   "metadata": {},
   "outputs": [
    {
     "name": "stdout",
     "output_type": "stream",
     "text": [
      "0:\tlearn: 5.4534299\ttest: 4.8279735\tbest: 4.8279735 (0)\ttotal: 15.6ms\tremaining: 1m 17s\n",
      "100:\tlearn: 3.7437836\ttest: 3.5138796\tbest: 3.5138796 (100)\ttotal: 1.03s\tremaining: 49.9s\n",
      "200:\tlearn: 3.5865968\ttest: 3.4150371\tbest: 3.4150371 (200)\ttotal: 2.08s\tremaining: 49.7s\n",
      "300:\tlearn: 3.5111876\ttest: 3.3557646\tbest: 3.3557646 (300)\ttotal: 3.12s\tremaining: 48.6s\n",
      "400:\tlearn: 3.4586306\ttest: 3.3169616\tbest: 3.3169616 (400)\ttotal: 4.15s\tremaining: 47.6s\n",
      "500:\tlearn: 3.4226454\ttest: 3.2906476\tbest: 3.2906476 (500)\ttotal: 5.16s\tremaining: 46.4s\n",
      "600:\tlearn: 3.3962457\ttest: 3.2780580\tbest: 3.2780580 (600)\ttotal: 6.17s\tremaining: 45.2s\n",
      "700:\tlearn: 3.3744234\ttest: 3.2606065\tbest: 3.2606065 (700)\ttotal: 7.18s\tremaining: 44s\n",
      "800:\tlearn: 3.3556770\ttest: 3.2518797\tbest: 3.2518797 (800)\ttotal: 8.21s\tremaining: 43s\n",
      "900:\tlearn: 3.3407283\ttest: 3.2407440\tbest: 3.2407229 (899)\ttotal: 9.26s\tremaining: 42.1s\n",
      "1000:\tlearn: 3.3280643\ttest: 3.2342187\tbest: 3.2342187 (1000)\ttotal: 10.3s\tremaining: 41.2s\n",
      "1100:\tlearn: 3.3155732\ttest: 3.2255665\tbest: 3.2255574 (1099)\ttotal: 11.4s\tremaining: 40.4s\n",
      "1200:\tlearn: 3.3047559\ttest: 3.2211093\tbest: 3.2207647 (1196)\ttotal: 12.5s\tremaining: 39.5s\n",
      "1300:\tlearn: 3.2939451\ttest: 3.2144580\tbest: 3.2139594 (1288)\ttotal: 13.5s\tremaining: 38.4s\n",
      "1400:\tlearn: 3.2838197\ttest: 3.2089155\tbest: 3.2088732 (1396)\ttotal: 14.5s\tremaining: 37.3s\n",
      "1500:\tlearn: 3.2750498\ttest: 3.2045229\tbest: 3.2044674 (1498)\ttotal: 15.5s\tremaining: 36.2s\n",
      "1600:\tlearn: 3.2669523\ttest: 3.2008887\tbest: 3.2008887 (1600)\ttotal: 16.5s\tremaining: 35.1s\n",
      "1700:\tlearn: 3.2590694\ttest: 3.1973885\tbest: 3.1964033 (1678)\ttotal: 17.6s\tremaining: 34.2s\n",
      "1800:\tlearn: 3.2523181\ttest: 3.1943723\tbest: 3.1943254 (1796)\ttotal: 18.8s\tremaining: 33.3s\n",
      "1900:\tlearn: 3.2446013\ttest: 3.1940212\tbest: 3.1937057 (1896)\ttotal: 19.8s\tremaining: 32.3s\n",
      "2000:\tlearn: 3.2376851\ttest: 3.1923275\tbest: 3.1920273 (1982)\ttotal: 20.9s\tremaining: 31.3s\n",
      "2100:\tlearn: 3.2307055\ttest: 3.1904075\tbest: 3.1901261 (2082)\ttotal: 21.9s\tremaining: 30.3s\n",
      "2200:\tlearn: 3.2237457\ttest: 3.1883446\tbest: 3.1882802 (2168)\ttotal: 22.9s\tremaining: 29.2s\n",
      "2300:\tlearn: 3.2168538\ttest: 3.1834315\tbest: 3.1833953 (2298)\ttotal: 24s\tremaining: 28.1s\n",
      "2400:\tlearn: 3.2100207\ttest: 3.1799233\tbest: 3.1799233 (2400)\ttotal: 24.9s\tremaining: 27s\n",
      "2500:\tlearn: 3.2039478\ttest: 3.1789555\tbest: 3.1789002 (2497)\ttotal: 26s\tremaining: 25.9s\n",
      "2600:\tlearn: 3.1970828\ttest: 3.1780175\tbest: 3.1779846 (2599)\ttotal: 27s\tremaining: 24.9s\n",
      "2700:\tlearn: 3.1908355\ttest: 3.1742497\tbest: 3.1742211 (2698)\ttotal: 28s\tremaining: 23.8s\n",
      "2800:\tlearn: 3.1843753\ttest: 3.1708773\tbest: 3.1704843 (2749)\ttotal: 29s\tremaining: 22.8s\n",
      "2900:\tlearn: 3.1783399\ttest: 3.1717622\tbest: 3.1702889 (2824)\ttotal: 30s\tremaining: 21.7s\n",
      "3000:\tlearn: 3.1728521\ttest: 3.1697154\tbest: 3.1697154 (3000)\ttotal: 31s\tremaining: 20.7s\n",
      "3100:\tlearn: 3.1667061\ttest: 3.1683422\tbest: 3.1678922 (3079)\ttotal: 32s\tremaining: 19.6s\n",
      "3200:\tlearn: 3.1615063\ttest: 3.1671957\tbest: 3.1671760 (3192)\ttotal: 33.2s\tremaining: 18.6s\n",
      "3300:\tlearn: 3.1559275\ttest: 3.1662965\tbest: 3.1662965 (3300)\ttotal: 34.2s\tremaining: 17.6s\n",
      "3400:\tlearn: 3.1502553\ttest: 3.1649453\tbest: 3.1648182 (3392)\ttotal: 35.3s\tremaining: 16.6s\n",
      "3500:\tlearn: 3.1451899\ttest: 3.1627838\tbest: 3.1627838 (3500)\ttotal: 36.3s\tremaining: 15.5s\n",
      "3600:\tlearn: 3.1398451\ttest: 3.1607578\tbest: 3.1607578 (3600)\ttotal: 37.3s\tremaining: 14.5s\n",
      "3700:\tlearn: 3.1342374\ttest: 3.1604584\tbest: 3.1600256 (3663)\ttotal: 38.4s\tremaining: 13.5s\n",
      "3800:\tlearn: 3.1289388\ttest: 3.1595323\tbest: 3.1595323 (3800)\ttotal: 39.4s\tremaining: 12.4s\n",
      "3900:\tlearn: 3.1233316\ttest: 3.1581965\tbest: 3.1580484 (3897)\ttotal: 40.4s\tremaining: 11.4s\n",
      "4000:\tlearn: 3.1181803\ttest: 3.1574752\tbest: 3.1574492 (3999)\ttotal: 41.4s\tremaining: 10.3s\n",
      "4100:\tlearn: 3.1133053\ttest: 3.1571685\tbest: 3.1569278 (4017)\ttotal: 42.4s\tremaining: 9.3s\n",
      "4200:\tlearn: 3.1081261\ttest: 3.1552000\tbest: 3.1549994 (4191)\ttotal: 43.4s\tremaining: 8.26s\n",
      "4300:\tlearn: 3.1029616\ttest: 3.1548527\tbest: 3.1543515 (4286)\ttotal: 44.4s\tremaining: 7.22s\n",
      "4400:\tlearn: 3.0979864\ttest: 3.1552251\tbest: 3.1543515 (4286)\ttotal: 45.5s\tremaining: 6.19s\n",
      "4500:\tlearn: 3.0933041\ttest: 3.1544865\tbest: 3.1542874 (4488)\ttotal: 46.6s\tremaining: 5.16s\n",
      "4600:\tlearn: 3.0879546\ttest: 3.1531972\tbest: 3.1531055 (4597)\ttotal: 47.7s\tremaining: 4.13s\n",
      "4700:\tlearn: 3.0828715\ttest: 3.1518242\tbest: 3.1517868 (4684)\ttotal: 48.7s\tremaining: 3.1s\n",
      "4800:\tlearn: 3.0780623\ttest: 3.1512913\tbest: 3.1503553 (4732)\ttotal: 49.9s\tremaining: 2.07s\n",
      "4900:\tlearn: 3.0729696\ttest: 3.1492915\tbest: 3.1490845 (4894)\ttotal: 50.9s\tremaining: 1.03s\n",
      "4999:\tlearn: 3.0684539\ttest: 3.1493264\tbest: 3.1482781 (4925)\ttotal: 52s\tremaining: 0us\n",
      "bestTest = 3.148278144\n",
      "bestIteration = 4925\n",
      "Shrink model to first 4926 iterations.\n"
     ]
    },
    {
     "data": {
      "text/plain": [
       "<catboost.core.CatBoostRegressor at 0x711e94deed50>"
      ]
     },
     "execution_count": 14,
     "metadata": {},
     "output_type": "execute_result"
    }
   ],
   "source": [
    "model_sim = CatBoostRegressor(\n",
    "    iterations=5000,\n",
    "    learning_rate=0.05,\n",
    "    loss_function=\"RMSE\",\n",
    "    verbose=100,\n",
    "    random_state=42,\n",
    "    task_type=\"GPU\",\n",
    ")\n",
    "\n",
    "model_sim.fit(\n",
    "    train_df[features_in],\n",
    "    train_df[target],\n",
    "    eval_set=(test_df[features_in], test_df[target]),\n",
    ")"
   ]
  },
  {
   "cell_type": "code",
   "execution_count": 16,
   "id": "c880d9ab",
   "metadata": {},
   "outputs": [],
   "source": [
    "test_df[\"N_EC_rounds_cat_pred\"] = model_sim.predict(test_df[features_in]).flatten()"
   ]
  },
  {
   "cell_type": "code",
   "execution_count": null,
   "id": "d2fcb3e5",
   "metadata": {},
   "outputs": [],
   "source": [
    "def get_submission_reward(df_submit_path, df_path=\"../../data/frames_errors.csv\"):\n",
    "    df = pd.read_csv(df_path, header=None)\n",
    "    df.columns = [\n",
    "        \"block_id\",\n",
    "        \"frame_idx\",\n",
    "        \"E_mu_Z\",\n",
    "        \"E_mu_phys_est\",\n",
    "        \"E_mu_X\",\n",
    "        \"E_nu1_X\",\n",
    "        \"E_nu2_X\",\n",
    "        \"E_nu1_Z\",\n",
    "        \"E_nu2_Z\",\n",
    "        \"N_mu_X\",\n",
    "        \"M_mu_XX\",\n",
    "        \"M_mu_XZ\",\n",
    "        \"M_mu_X\",\n",
    "        \"N_mu_Z\",\n",
    "        \"M_mu_ZZ\",\n",
    "        \"M_mu_Z\",\n",
    "        \"N_nu1_X\",\n",
    "        \"M_nu1_XX\",\n",
    "        \"M_nu1_XZ\",\n",
    "        \"M_nu1_X\",\n",
    "        \"N_nu1_Z\",\n",
    "        \"M_nu1_ZZ\",\n",
    "        \"M_nu1_Z\",\n",
    "        \"N_nu2_X\",\n",
    "        \"M_nu2_XX\",\n",
    "        \"M_nu2_XZ\",\n",
    "        \"M_nu2_X\",\n",
    "        \"N_nu2_Z\",\n",
    "        \"M_nu2_ZZ\",\n",
    "        \"M_nu2_Z\",\n",
    "        \"nTot\",\n",
    "        \"bayesImVoltage\",\n",
    "        \"opticalPower\",\n",
    "        \"polarizerVoltages[0]\",\n",
    "        \"polarizerVoltages[1]\",\n",
    "        \"polarizerVoltages[2]\",\n",
    "        \"polarizerVoltages[3]\",\n",
    "        \"temp_1\",\n",
    "        \"biasVoltage_1\",\n",
    "        \"temp_2\",\n",
    "        \"biasVoltage_2\",\n",
    "        \"synErr\",\n",
    "        \"N_EC_rounds\",\n",
    "        \"maintenance_flag\",\n",
    "        \"estimator_name\",\n",
    "        \"f_EC\",\n",
    "        \"E_mu_Z_est\",\n",
    "        \"R\",\n",
    "        \"s\",\n",
    "        \"p\",\n",
    "    ]\n",
    "    submission_df = pd.read_csv(df_submit_path, header=None)\n",
    "    submission_df.columns = [\"E_mu_Z_est\", \"R\", \"s\", \"p\"]\n",
    "\n",
    "    start_idx = df[(df[\"block_id\"] == 1489460492) & (df[\"frame_idx\"] == 99)].index[0]\n",
    "    end_idx = df[(df[\"block_id\"] == 1840064900) & (df[\"frame_idx\"] == 101)].index[0]\n",
    "    test_df = df.loc[start_idx:end_idx].copy()\n",
    "    test_df[[\"E_mu_Z_est\", \"R\", \"s\", \"p\"]] = submission_df[[\"E_mu_Z_est\", \"R\", \"s\", \"p\"]].values\n",
    "\n",
    "    features_to_create = phys_features + phys_gt_features + [\"E_mu_Z_est\", \"R\", \"s\", \"p\"]\n",
    "    test_df, created_features = create_features(\n",
    "        test_df, features_to_create, lag=[2, 5, 10, 20], window=[5, 10]\n",
    "    )\n",
    "\n",
    "    features_in = created_features + phys_features + [\"E_mu_Z_est\", \"R\", \"s\", \"p\"]\n",
    "    reward = 1 / int(model_sim.predict(test_df[features_in]).flatten().mean())\n",
    "    return reward"
   ]
  },
  {
   "cell_type": "code",
   "execution_count": 46,
   "id": "b66bb014",
   "metadata": {},
   "outputs": [
    {
     "data": {
      "text/plain": [
       "0.25"
      ]
     },
     "execution_count": 46,
     "metadata": {},
     "output_type": "execute_result"
    }
   ],
   "source": [
    "get_submission_reward(\"../catboost_4/submission_3.csv\")"
   ]
  },
  {
   "cell_type": "code",
   "execution_count": 47,
   "id": "cd833fb1",
   "metadata": {},
   "outputs": [
    {
     "data": {
      "text/plain": [
       "0.16666666666666666"
      ]
     },
     "execution_count": 47,
     "metadata": {},
     "output_type": "execute_result"
    }
   ],
   "source": [
    "get_submission_reward(\"../euristic/submission.csv\")"
   ]
  }
 ],
 "metadata": {
  "kernelspec": {
   "display_name": "ds-env",
   "language": "python",
   "name": "python3"
  },
  "language_info": {
   "codemirror_mode": {
    "name": "ipython",
    "version": 3
   },
   "file_extension": ".py",
   "mimetype": "text/x-python",
   "name": "python",
   "nbconvert_exporter": "python",
   "pygments_lexer": "ipython3",
   "version": "3.12.11"
  }
 },
 "nbformat": 4,
 "nbformat_minor": 5
}
