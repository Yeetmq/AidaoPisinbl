{
 "cells": [
  {
   "cell_type": "markdown",
   "id": "cc762b89",
   "metadata": {},
   "source": [
    "# Импорт библиотек"
   ]
  },
  {
   "cell_type": "code",
   "execution_count": 1,
   "id": "9c86f8bd",
   "metadata": {},
   "outputs": [],
   "source": [
    "import warnings\n",
    "import pandas as pd\n",
    "import matplotlib.pyplot as plt\n",
    "\n",
    "warnings.filterwarnings(\"ignore\")"
   ]
  },
  {
   "cell_type": "markdown",
   "id": "5289c9de",
   "metadata": {},
   "source": [
    "# Подготовка данных"
   ]
  },
  {
   "cell_type": "code",
   "execution_count": 2,
   "id": "5217cc3f",
   "metadata": {},
   "outputs": [],
   "source": [
    "df = pd.read_csv(\"../../data/frames_errors.csv\", header=None)\n",
    "df.columns = [\n",
    "    \"block_id\",\n",
    "    \"frame_idx\",\n",
    "    \"E_mu_Z\",\n",
    "    \"E_mu_phys_est\",\n",
    "    \"E_mu_X\",\n",
    "    \"E_nu1_X\",\n",
    "    \"E_nu2_X\",\n",
    "    \"E_nu1_Z\",\n",
    "    \"E_nu2_Z\",\n",
    "    \"N_mu_X\",\n",
    "    \"M_mu_XX\",\n",
    "    \"M_mu_XZ\",\n",
    "    \"M_mu_X\",\n",
    "    \"N_mu_Z\",\n",
    "    \"M_mu_ZZ\",\n",
    "    \"M_mu_Z\",\n",
    "    \"N_nu1_X\",\n",
    "    \"M_nu1_XX\",\n",
    "    \"M_nu1_XZ\",\n",
    "    \"M_nu1_X\",\n",
    "    \"N_nu1_Z\",\n",
    "    \"M_nu1_ZZ\",\n",
    "    \"M_nu1_Z\",\n",
    "    \"N_nu2_X\",\n",
    "    \"M_nu2_XX\",\n",
    "    \"M_nu2_XZ\",\n",
    "    \"M_nu2_X\",\n",
    "    \"N_nu2_Z\",\n",
    "    \"M_nu2_ZZ\",\n",
    "    \"M_nu2_Z\",\n",
    "    \"nTot\",\n",
    "    \"bayesImVoltage\",\n",
    "    \"opticalPower\",\n",
    "    \"polarizerVoltages[0]\",\n",
    "    \"polarizerVoltages[1]\",\n",
    "    \"polarizerVoltages[2]\",\n",
    "    \"polarizerVoltages[3]\",\n",
    "    \"temp_1\",\n",
    "    \"biasVoltage_1\",\n",
    "    \"temp_2\",\n",
    "    \"biasVoltage_2\",\n",
    "    \"synErr\",\n",
    "    \"N_EC_rounds\",\n",
    "    \"maintenance_flag\",\n",
    "    \"estimator_name\",\n",
    "    \"f_EC\",\n",
    "    \"E_mu_Z_est\",\n",
    "    \"R\",\n",
    "    \"s\",\n",
    "    \"p\",\n",
    "]"
   ]
  },
  {
   "cell_type": "code",
   "execution_count": 75,
   "id": "0961f92a",
   "metadata": {},
   "outputs": [
    {
     "name": "stdout",
     "output_type": "stream",
     "text": [
      "Столбцы с пропусками и их количество:\n",
      "E_mu_phys_est    445\n",
      "dtype: int64\n",
      "Количество фреймов / Количество рядов\n",
      "frame_idx\n",
      "399    510\n",
      "400    238\n",
      "398     48\n",
      "397     18\n",
      "396      4\n",
      "393      2\n",
      "395      2\n",
      "386      1\n",
      "Name: count, dtype: int64\n",
      "Shape: (328486, 50)\n"
     ]
    }
   ],
   "source": [
    "missing_counts = df.isna().sum()\n",
    "columns_with_missing = missing_counts[missing_counts > 0]\n",
    "print(\"Столбцы с пропусками и их количество:\")\n",
    "print(columns_with_missing)\n",
    "timestamp_counts = df.groupby(\"block_id\")[\"frame_idx\"].nunique()\n",
    "print(\"Количество фреймов / Количество рядов\")\n",
    "print(timestamp_counts.value_counts())\n",
    "print(\"Shape:\", df.shape)"
   ]
  },
  {
   "cell_type": "code",
   "execution_count": 4,
   "id": "332dc999",
   "metadata": {},
   "outputs": [],
   "source": [
    "df = df.dropna(subset=[\"f_EC\"])"
   ]
  },
  {
   "cell_type": "code",
   "execution_count": 5,
   "id": "65bfb16d",
   "metadata": {},
   "outputs": [
    {
     "name": "stdout",
     "output_type": "stream",
     "text": [
      "Train: 326090\n",
      "Test: 2000\n"
     ]
    }
   ],
   "source": [
    "# Test (Val)\n",
    "start_idx = df[(df[\"block_id\"] == 1489460492) & (df[\"frame_idx\"] == 99)].index[0]\n",
    "end_idx = df[(df[\"block_id\"] == 1840064900) & (df[\"frame_idx\"] == 101)].index[0]\n",
    "\n",
    "test_df = df.loc[start_idx:end_idx].copy()\n",
    "assert len(test_df) == 2000, \"Test (Val) set size is not 2000 rows\"\n",
    "\n",
    "# Train\n",
    "all_block_ids = df[\"block_id\"].unique()\n",
    "train_blocks = [bid for bid in all_block_ids if bid not in test_df[\"block_id\"].values]\n",
    "train_df = df[df[\"block_id\"].isin(train_blocks)]\n",
    "\n",
    "print(f\"Train: {len(train_df)}\")\n",
    "print(f\"Test: {len(test_df)}\")\n"
   ]
  },
  {
   "cell_type": "code",
   "execution_count": 6,
   "id": "826e4c5f",
   "metadata": {},
   "outputs": [],
   "source": [
    "phys_features = [\n",
    "    \"bayesImVoltage\",\n",
    "    \"opticalPower\",\n",
    "    \"polarizerVoltages[0]\",\n",
    "    \"polarizerVoltages[1]\",\n",
    "    \"polarizerVoltages[2]\",\n",
    "    \"polarizerVoltages[3]\",\n",
    "    \"temp_1\",\n",
    "    \"biasVoltage_1\",\n",
    "    \"temp_2\",\n",
    "    \"biasVoltage_2\",\n",
    "]\n",
    "\n",
    "features_to_lag = phys_features + [\n",
    "    \"E_mu_Z_est\",\n",
    "    \"E_mu_Z\",\n",
    "    \"E_mu_X\",\n",
    "    \"E_nu1_X\",\n",
    "    \"E_nu2_X\",\n",
    "    \"E_nu1_Z\",\n",
    "    \"E_nu2_Z\",\n",
    "    \"N_mu_X\",\n",
    "    \"M_mu_XX\",\n",
    "    \"M_mu_XZ\",\n",
    "    \"M_mu_X\",\n",
    "    \"N_mu_Z\",\n",
    "    \"M_mu_ZZ\",\n",
    "    \"M_mu_Z\",\n",
    "    \"N_nu1_X\",\n",
    "    \"M_nu1_XX\",\n",
    "    \"M_nu1_XZ\",\n",
    "    \"M_nu1_X\",\n",
    "    \"N_nu1_Z\",\n",
    "    \"M_nu1_ZZ\",\n",
    "    \"M_nu1_Z\",\n",
    "    \"N_nu2_X\",\n",
    "    \"M_nu2_XX\",\n",
    "    \"M_nu2_XZ\",\n",
    "    \"M_nu2_X\",\n",
    "    \"N_nu2_Z\",\n",
    "    \"M_nu2_ZZ\",\n",
    "    \"M_nu2_Z\",\n",
    "]"
   ]
  },
  {
   "cell_type": "code",
   "execution_count": 7,
   "id": "a23bc811",
   "metadata": {},
   "outputs": [],
   "source": [
    "def create_lag_features(df, features_to_lag, lags):\n",
    "    df = df.copy()\n",
    "    for lag in range(1, lags + 1):\n",
    "        for feature in features_to_lag:\n",
    "            df[f\"{feature}_lag{lag}\"] = df.groupby(\"block_id\")[feature].shift(lag)\n",
    "        # df = df.dropna(subset=[f\"{feature}_lag{lag}\" for feature in features_to_lag])\n",
    "    df = df.fillna(0)\n",
    "    return df"
   ]
  },
  {
   "cell_type": "code",
   "execution_count": 8,
   "id": "7ff99346",
   "metadata": {},
   "outputs": [],
   "source": [
    "train_df = create_lag_features(train_df, features_to_lag, lags=5)\n",
    "test_df_lag = create_lag_features(test_df, features_to_lag, lags=5)"
   ]
  },
  {
   "cell_type": "markdown",
   "id": "e113fdf8",
   "metadata": {},
   "source": [
    "# Catboost E_mu_Z"
   ]
  },
  {
   "cell_type": "code",
   "execution_count": 47,
   "id": "19cefab4",
   "metadata": {},
   "outputs": [],
   "source": [
    "import numpy as np\n",
    "from catboost import CatBoostRegressor, CatBoostClassifier\n",
    "from sklearn.model_selection import train_test_split\n",
    "from sklearn.metrics import mean_squared_error\n",
    "from sklearn.metrics import accuracy_score, classification_report\n",
    "from sklearn.preprocessing import LabelEncoder"
   ]
  },
  {
   "cell_type": "code",
   "execution_count": 48,
   "id": "ff331f99",
   "metadata": {},
   "outputs": [],
   "source": [
    "features_to_drop = [\n",
    "    \"E_mu_Z_est\",\n",
    "    \"E_mu_Z\",\n",
    "    \"E_mu_X\",\n",
    "    \"E_nu1_X\",\n",
    "    \"E_nu2_X\",\n",
    "    \"E_nu1_Z\",\n",
    "    \"E_nu2_Z\",\n",
    "    \"N_mu_X\",\n",
    "    \"M_mu_XX\",\n",
    "    \"M_mu_XZ\",\n",
    "    \"M_mu_X\",\n",
    "    \"N_mu_Z\",\n",
    "    \"M_mu_ZZ\",\n",
    "    \"M_mu_Z\",\n",
    "    \"N_nu1_X\",\n",
    "    \"M_nu1_XX\",\n",
    "    \"M_nu1_XZ\",\n",
    "    \"M_nu1_X\",\n",
    "    \"N_nu1_Z\",\n",
    "    \"M_nu1_ZZ\",\n",
    "    \"M_nu1_Z\",\n",
    "    \"N_nu2_X\",\n",
    "    \"M_nu2_XX\",\n",
    "    \"M_nu2_XZ\",\n",
    "    \"M_nu2_X\",\n",
    "    \"N_nu2_Z\",\n",
    "    \"M_nu2_ZZ\",\n",
    "    \"M_nu2_Z\",\n",
    "    \"block_id\",\n",
    "    \"frame_idx\",\n",
    "    \"estimator_name\",\n",
    "    \"maintenance_flag\",\n",
    "    \"synErr\",\n",
    "    \"N_EC_rounds\",\n",
    "    \"f_EC\",\n",
    "    \"R\",\n",
    "    \"s\",\n",
    "    \"p\",\n",
    "    \"nTot\",\n",
    "    \"E_mu_phys_est\",\n",
    "]"
   ]
  },
  {
   "cell_type": "code",
   "execution_count": 11,
   "id": "64c24eae",
   "metadata": {},
   "outputs": [],
   "source": [
    "max_rounds = train_df[\"N_EC_rounds\"].max()\n",
    "min_rounds = train_df[\"N_EC_rounds\"].min()\n",
    "train_df[\"N_EC_rounds_norm\"] = (train_df[\"N_EC_rounds\"] - min_rounds) / (\n",
    "    max_rounds - min_rounds + 1e-6\n",
    ")\n",
    "train_df[\"penalty_score\"] = train_df[\"f_EC\"] + train_df[\"N_EC_rounds_norm\"]\n",
    "train_df[\"optimality_weight\"] = 1 / train_df[\"penalty_score\"]"
   ]
  },
  {
   "cell_type": "code",
   "execution_count": 15,
   "id": "95f28ec2",
   "metadata": {},
   "outputs": [],
   "source": [
    "score_feat = [\"penalty_score\", \"N_EC_rounds_norm\", \"optimality_weight\"]"
   ]
  },
  {
   "cell_type": "code",
   "execution_count": null,
   "id": "4fb734b8",
   "metadata": {},
   "outputs": [],
   "source": [
    "X_train = train_df.drop(columns=features_to_drop + score_feat)\n",
    "y_train = train_df[\"E_mu_Z_est\"]\n",
    "X_test = test_df_lag.drop(columns=features_to_drop)\n",
    "y_test = test_df_lag[\"E_mu_Z_est\"]"
   ]
  },
  {
   "cell_type": "code",
   "execution_count": 50,
   "id": "b16ea4b8",
   "metadata": {},
   "outputs": [],
   "source": [
    "model_E_mu_Z = CatBoostRegressor(\n",
    "    iterations=1000,\n",
    "    learning_rate=0.05,\n",
    "    loss_function=\"RMSE\",\n",
    "    verbose=100,\n",
    "    random_state=42,\n",
    ")"
   ]
  },
  {
   "cell_type": "code",
   "execution_count": 51,
   "id": "a6715239",
   "metadata": {},
   "outputs": [
    {
     "name": "stdout",
     "output_type": "stream",
     "text": [
      "0:\tlearn: 0.0112461\ttest: 0.0024588\tbest: 0.0024588 (0)\ttotal: 30.2ms\tremaining: 30.2s\n",
      "100:\tlearn: 0.0009706\ttest: 0.0001523\tbest: 0.0001523 (100)\ttotal: 2.39s\tremaining: 21.3s\n",
      "200:\tlearn: 0.0008795\ttest: 0.0001359\tbest: 0.0001355 (193)\ttotal: 4.66s\tremaining: 18.5s\n",
      "300:\tlearn: 0.0008040\ttest: 0.0001279\tbest: 0.0001279 (299)\ttotal: 7.23s\tremaining: 16.8s\n",
      "400:\tlearn: 0.0007350\ttest: 0.0001206\tbest: 0.0001206 (400)\ttotal: 9.88s\tremaining: 14.8s\n",
      "500:\tlearn: 0.0006851\ttest: 0.0001162\tbest: 0.0001162 (500)\ttotal: 12.3s\tremaining: 12.2s\n",
      "600:\tlearn: 0.0006384\ttest: 0.0001201\tbest: 0.0001155 (523)\ttotal: 14.8s\tremaining: 9.81s\n",
      "700:\tlearn: 0.0006067\ttest: 0.0001184\tbest: 0.0001155 (523)\ttotal: 17.3s\tremaining: 7.39s\n",
      "800:\tlearn: 0.0005698\ttest: 0.0001210\tbest: 0.0001155 (523)\ttotal: 19.9s\tremaining: 4.95s\n",
      "900:\tlearn: 0.0005363\ttest: 0.0001221\tbest: 0.0001155 (523)\ttotal: 22.4s\tremaining: 2.46s\n",
      "999:\tlearn: 0.0005080\ttest: 0.0001304\tbest: 0.0001155 (523)\ttotal: 24.9s\tremaining: 0us\n",
      "\n",
      "bestTest = 0.0001154871979\n",
      "bestIteration = 523\n",
      "\n",
      "Shrink model to first 524 iterations.\n"
     ]
    },
    {
     "data": {
      "text/plain": [
       "<catboost.core.CatBoostRegressor at 0x78062c3b5bb0>"
      ]
     },
     "execution_count": 51,
     "metadata": {},
     "output_type": "execute_result"
    }
   ],
   "source": [
    "model_E_mu_Z.fit(\n",
    "    X_train,\n",
    "    y_train,\n",
    "    sample_weight=train_df[\"optimality_weight\"],\n",
    "    eval_set=(X_test, y_test),\n",
    ")"
   ]
  },
  {
   "cell_type": "code",
   "execution_count": 21,
   "id": "f59d660c",
   "metadata": {},
   "outputs": [],
   "source": [
    "E_mu_Z_pred = model_E_mu_Z.predict(X_test)"
   ]
  },
  {
   "cell_type": "markdown",
   "id": "0621a850",
   "metadata": {},
   "source": [
    "# CatBoost R"
   ]
  },
  {
   "cell_type": "code",
   "execution_count": 22,
   "id": "6d6b4b6f",
   "metadata": {},
   "outputs": [],
   "source": [
    "features_to_drop = [\n",
    "    \"E_mu_Z\",\n",
    "    \"E_mu_X\",\n",
    "    \"E_nu1_X\",\n",
    "    \"E_nu2_X\",\n",
    "    \"E_nu1_Z\",\n",
    "    \"E_nu2_Z\",\n",
    "    \"N_mu_X\",\n",
    "    \"M_mu_XX\",\n",
    "    \"M_mu_XZ\",\n",
    "    \"M_mu_X\",\n",
    "    \"N_mu_Z\",\n",
    "    \"M_mu_ZZ\",\n",
    "    \"M_mu_Z\",\n",
    "    \"N_nu1_X\",\n",
    "    \"M_nu1_XX\",\n",
    "    \"M_nu1_XZ\",\n",
    "    \"M_nu1_X\",\n",
    "    \"N_nu1_Z\",\n",
    "    \"M_nu1_ZZ\",\n",
    "    \"M_nu1_Z\",\n",
    "    \"N_nu2_X\",\n",
    "    \"M_nu2_XX\",\n",
    "    \"M_nu2_XZ\",\n",
    "    \"M_nu2_X\",\n",
    "    \"N_nu2_Z\",\n",
    "    \"M_nu2_ZZ\",\n",
    "    \"M_nu2_Z\",\n",
    "    \"block_id\",\n",
    "    \"frame_idx\",\n",
    "    \"estimator_name\",\n",
    "    \"maintenance_flag\",\n",
    "    \"synErr\",\n",
    "    \"N_EC_rounds\",\n",
    "    \"f_EC\",\n",
    "    \"R\",\n",
    "    \"s\",\n",
    "    \"p\",\n",
    "    \"nTot\",\n",
    "    \"E_mu_phys_est\",\n",
    "]"
   ]
  },
  {
   "cell_type": "code",
   "execution_count": 23,
   "id": "695da611",
   "metadata": {},
   "outputs": [],
   "source": [
    "X_train = train_df.drop(columns=features_to_drop + score_feat)\n",
    "y_train = train_df[\"R\"]\n",
    "X_test = test_df_lag.drop(columns=features_to_drop)\n",
    "y_test = test_df_lag[\"R\"]"
   ]
  },
  {
   "cell_type": "code",
   "execution_count": 27,
   "id": "d0f928b3",
   "metadata": {},
   "outputs": [
    {
     "name": "stdout",
     "output_type": "stream",
     "text": [
      "{0.5: 0, 0.55: 1, 0.6: 2, 0.65: 3, 0.7: 4, 0.75: 5, 0.8: 6, 0.85: 7}\n"
     ]
    }
   ],
   "source": [
    "le = LabelEncoder()\n",
    "y_train = le.fit_transform(y_train)\n",
    "y_test = le.transform(y_test)\n",
    "print(dict(zip(le.classes_, le.transform(le.classes_))))"
   ]
  },
  {
   "cell_type": "code",
   "execution_count": 29,
   "id": "651e196b",
   "metadata": {},
   "outputs": [
    {
     "name": "stdout",
     "output_type": "stream",
     "text": [
      "0:\tlearn: 0.9949187\ttest: 1.0000000\tbest: 1.0000000 (0)\ttotal: 248ms\tremaining: 4m 8s\n",
      "100:\tlearn: 0.9975448\ttest: 1.0000000\tbest: 1.0000000 (0)\ttotal: 20.4s\tremaining: 3m 1s\n",
      "200:\tlearn: 0.9980505\ttest: 1.0000000\tbest: 1.0000000 (0)\ttotal: 37.1s\tremaining: 2m 27s\n",
      "300:\tlearn: 0.9986070\ttest: 1.0000000\tbest: 1.0000000 (0)\ttotal: 53.4s\tremaining: 2m 3s\n",
      "400:\tlearn: 0.9988640\ttest: 1.0000000\tbest: 1.0000000 (0)\ttotal: 1m 9s\tremaining: 1m 43s\n",
      "500:\tlearn: 0.9989888\ttest: 1.0000000\tbest: 1.0000000 (0)\ttotal: 1m 24s\tremaining: 1m 24s\n",
      "600:\tlearn: 0.9991756\ttest: 1.0000000\tbest: 1.0000000 (0)\ttotal: 1m 40s\tremaining: 1m 6s\n",
      "700:\tlearn: 0.9993575\ttest: 1.0000000\tbest: 1.0000000 (0)\ttotal: 1m 55s\tremaining: 49.3s\n",
      "800:\tlearn: 0.9994460\ttest: 1.0000000\tbest: 1.0000000 (0)\ttotal: 2m 10s\tremaining: 32.4s\n",
      "900:\tlearn: 0.9995059\ttest: 1.0000000\tbest: 1.0000000 (0)\ttotal: 2m 26s\tremaining: 16.1s\n",
      "999:\tlearn: 0.9995947\ttest: 1.0000000\tbest: 1.0000000 (0)\ttotal: 2m 42s\tremaining: 0us\n",
      "\n",
      "bestTest = 1\n",
      "bestIteration = 0\n",
      "\n",
      "Shrink model to first 1 iterations.\n"
     ]
    },
    {
     "data": {
      "text/plain": [
       "<catboost.core.CatBoostClassifier at 0x78062c395bb0>"
      ]
     },
     "execution_count": 29,
     "metadata": {},
     "output_type": "execute_result"
    }
   ],
   "source": [
    "model_R = CatBoostClassifier(\n",
    "    iterations=1000,\n",
    "    learning_rate=0.05,\n",
    "    loss_function=\"MultiClass\",\n",
    "    eval_metric=\"Accuracy\",\n",
    "    verbose=100,\n",
    "    random_state=42,\n",
    ")\n",
    "\n",
    "model_R.fit(\n",
    "    X_train,\n",
    "    y_train,\n",
    "    sample_weight=train_df[\"optimality_weight\"],\n",
    "    eval_set=(X_test, y_test),\n",
    ")"
   ]
  },
  {
   "cell_type": "code",
   "execution_count": null,
   "id": "1112f9ac",
   "metadata": {},
   "outputs": [
    {
     "ename": "CatBoostError",
     "evalue": "catboost/libs/data/model_dataset_compatibility.cpp:81: At position 10 should be feature with name E_mu_Z_est (found R).",
     "output_type": "error",
     "traceback": [
      "\u001b[31m---------------------------------------------------------------------------\u001b[39m",
      "\u001b[31mCatBoostError\u001b[39m                             Traceback (most recent call last)",
      "\u001b[36mCell\u001b[39m\u001b[36m \u001b[39m\u001b[32mIn[62]\u001b[39m\u001b[32m, line 1\u001b[39m\n\u001b[32m----> \u001b[39m\u001b[32m1\u001b[39m R_pred_labels = \u001b[43mmodel_R\u001b[49m\u001b[43m.\u001b[49m\u001b[43mpredict\u001b[49m\u001b[43m(\u001b[49m\u001b[43mX_test\u001b[49m\u001b[43m)\u001b[49m.flatten()\n\u001b[32m      3\u001b[39m R_pred = le.inverse_transform(R_pred_labels)\n",
      "\u001b[36mFile \u001b[39m\u001b[32m~/miniconda3/envs/ds-env/lib/python3.12/site-packages/catboost/core.py:5307\u001b[39m, in \u001b[36mCatBoostClassifier.predict\u001b[39m\u001b[34m(self, data, prediction_type, ntree_start, ntree_end, thread_count, verbose, task_type)\u001b[39m\n\u001b[32m   5250\u001b[39m \u001b[38;5;28;01mdef\u001b[39;00m\u001b[38;5;250m \u001b[39m\u001b[34mpredict\u001b[39m(\u001b[38;5;28mself\u001b[39m, data, prediction_type=\u001b[33m'\u001b[39m\u001b[33mClass\u001b[39m\u001b[33m'\u001b[39m, ntree_start=\u001b[32m0\u001b[39m, ntree_end=\u001b[32m0\u001b[39m, thread_count=-\u001b[32m1\u001b[39m, verbose=\u001b[38;5;28;01mNone\u001b[39;00m, task_type=\u001b[33m\"\u001b[39m\u001b[33mCPU\u001b[39m\u001b[33m\"\u001b[39m):\n\u001b[32m   5251\u001b[39m \u001b[38;5;250m    \u001b[39m\u001b[33;03m\"\"\"\u001b[39;00m\n\u001b[32m   5252\u001b[39m \u001b[33;03m    Predict with data.\u001b[39;00m\n\u001b[32m   5253\u001b[39m \n\u001b[32m   (...)\u001b[39m\u001b[32m   5305\u001b[39m \u001b[33;03m              with log probability for every class for each object.\u001b[39;00m\n\u001b[32m   5306\u001b[39m \u001b[33;03m    \"\"\"\u001b[39;00m\n\u001b[32m-> \u001b[39m\u001b[32m5307\u001b[39m     \u001b[38;5;28;01mreturn\u001b[39;00m \u001b[38;5;28;43mself\u001b[39;49m\u001b[43m.\u001b[49m\u001b[43m_predict\u001b[49m\u001b[43m(\u001b[49m\u001b[43mdata\u001b[49m\u001b[43m,\u001b[49m\u001b[43m \u001b[49m\u001b[43mprediction_type\u001b[49m\u001b[43m,\u001b[49m\u001b[43m \u001b[49m\u001b[43mntree_start\u001b[49m\u001b[43m,\u001b[49m\u001b[43m \u001b[49m\u001b[43mntree_end\u001b[49m\u001b[43m,\u001b[49m\u001b[43m \u001b[49m\u001b[43mthread_count\u001b[49m\u001b[43m,\u001b[49m\u001b[43m \u001b[49m\u001b[43mverbose\u001b[49m\u001b[43m,\u001b[49m\u001b[43m \u001b[49m\u001b[33;43m'\u001b[39;49m\u001b[33;43mpredict\u001b[39;49m\u001b[33;43m'\u001b[39;49m\u001b[43m,\u001b[49m\u001b[43m \u001b[49m\u001b[43mtask_type\u001b[49m\u001b[43m)\u001b[49m\n",
      "\u001b[36mFile \u001b[39m\u001b[32m~/miniconda3/envs/ds-env/lib/python3.12/site-packages/catboost/core.py:2623\u001b[39m, in \u001b[36mCatBoost._predict\u001b[39m\u001b[34m(self, data, prediction_type, ntree_start, ntree_end, thread_count, verbose, parent_method_name, task_type)\u001b[39m\n\u001b[32m   2620\u001b[39m data, data_is_single_object = \u001b[38;5;28mself\u001b[39m._process_predict_input_data(data, parent_method_name, thread_count)\n\u001b[32m   2621\u001b[39m \u001b[38;5;28mself\u001b[39m._validate_prediction_type(prediction_type)\n\u001b[32m-> \u001b[39m\u001b[32m2623\u001b[39m predictions = \u001b[38;5;28;43mself\u001b[39;49m\u001b[43m.\u001b[49m\u001b[43m_base_predict\u001b[49m\u001b[43m(\u001b[49m\u001b[43mdata\u001b[49m\u001b[43m,\u001b[49m\u001b[43m \u001b[49m\u001b[43mprediction_type\u001b[49m\u001b[43m,\u001b[49m\u001b[43m \u001b[49m\u001b[43mntree_start\u001b[49m\u001b[43m,\u001b[49m\u001b[43m \u001b[49m\u001b[43mntree_end\u001b[49m\u001b[43m,\u001b[49m\u001b[43m \u001b[49m\u001b[43mthread_count\u001b[49m\u001b[43m,\u001b[49m\u001b[43m \u001b[49m\u001b[43mverbose\u001b[49m\u001b[43m,\u001b[49m\u001b[43m \u001b[49m\u001b[43mtask_type\u001b[49m\u001b[43m)\u001b[49m\n\u001b[32m   2624\u001b[39m \u001b[38;5;28;01mreturn\u001b[39;00m predictions[\u001b[32m0\u001b[39m] \u001b[38;5;28;01mif\u001b[39;00m data_is_single_object \u001b[38;5;28;01melse\u001b[39;00m predictions\n",
      "\u001b[36mFile \u001b[39m\u001b[32m~/miniconda3/envs/ds-env/lib/python3.12/site-packages/catboost/core.py:1842\u001b[39m, in \u001b[36m_CatBoostBase._base_predict\u001b[39m\u001b[34m(self, pool, prediction_type, ntree_start, ntree_end, thread_count, verbose, task_type)\u001b[39m\n\u001b[32m   1841\u001b[39m \u001b[38;5;28;01mdef\u001b[39;00m\u001b[38;5;250m \u001b[39m\u001b[34m_base_predict\u001b[39m(\u001b[38;5;28mself\u001b[39m, pool, prediction_type, ntree_start, ntree_end, thread_count, verbose, task_type):\n\u001b[32m-> \u001b[39m\u001b[32m1842\u001b[39m     \u001b[38;5;28;01mreturn\u001b[39;00m \u001b[38;5;28;43mself\u001b[39;49m\u001b[43m.\u001b[49m\u001b[43m_object\u001b[49m\u001b[43m.\u001b[49m\u001b[43m_base_predict\u001b[49m\u001b[43m(\u001b[49m\u001b[43mpool\u001b[49m\u001b[43m,\u001b[49m\u001b[43m \u001b[49m\u001b[43mprediction_type\u001b[49m\u001b[43m,\u001b[49m\u001b[43m \u001b[49m\u001b[43mntree_start\u001b[49m\u001b[43m,\u001b[49m\u001b[43m \u001b[49m\u001b[43mntree_end\u001b[49m\u001b[43m,\u001b[49m\u001b[43m \u001b[49m\u001b[43mthread_count\u001b[49m\u001b[43m,\u001b[49m\u001b[43m \u001b[49m\u001b[43mverbose\u001b[49m\u001b[43m,\u001b[49m\u001b[43m \u001b[49m\u001b[43mtask_type\u001b[49m\u001b[43m)\u001b[49m\n",
      "\u001b[36mFile \u001b[39m\u001b[32m_catboost.pyx:5155\u001b[39m, in \u001b[36m_catboost._CatBoost._base_predict\u001b[39m\u001b[34m()\u001b[39m\n",
      "\u001b[36mFile \u001b[39m\u001b[32m_catboost.pyx:5162\u001b[39m, in \u001b[36m_catboost._CatBoost._base_predict\u001b[39m\u001b[34m()\u001b[39m\n",
      "\u001b[31mCatBoostError\u001b[39m: catboost/libs/data/model_dataset_compatibility.cpp:81: At position 10 should be feature with name E_mu_Z_est (found R)."
     ]
    }
   ],
   "source": [
    "R_pred_labels = model_R.predict(X_test).flatten()\n",
    "\n",
    "R_pred = le.inverse_transform(R_pred_labels)"
   ]
  },
  {
   "cell_type": "markdown",
   "id": "b68c1e9c",
   "metadata": {},
   "source": [
    "# CatBoost s p"
   ]
  },
  {
   "cell_type": "code",
   "execution_count": 53,
   "id": "d0d0d040",
   "metadata": {},
   "outputs": [],
   "source": [
    "features_to_drop = [\n",
    "    \"E_mu_Z_est\",\n",
    "    \"E_mu_Z\",\n",
    "    \"E_mu_X\",\n",
    "    \"E_nu1_X\",\n",
    "    \"E_nu2_X\",\n",
    "    \"E_nu1_Z\",\n",
    "    \"E_nu2_Z\",\n",
    "    \"N_mu_X\",\n",
    "    \"M_mu_XX\",\n",
    "    \"M_mu_XZ\",\n",
    "    \"M_mu_X\",\n",
    "    \"N_mu_Z\",\n",
    "    \"M_mu_ZZ\",\n",
    "    \"M_mu_Z\",\n",
    "    \"N_nu1_X\",\n",
    "    \"M_nu1_XX\",\n",
    "    \"M_nu1_XZ\",\n",
    "    \"M_nu1_X\",\n",
    "    \"N_nu1_Z\",\n",
    "    \"M_nu1_ZZ\",\n",
    "    \"M_nu1_Z\",\n",
    "    \"N_nu2_X\",\n",
    "    \"M_nu2_XX\",\n",
    "    \"M_nu2_XZ\",\n",
    "    \"M_nu2_X\",\n",
    "    \"N_nu2_Z\",\n",
    "    \"M_nu2_ZZ\",\n",
    "    \"M_nu2_Z\",\n",
    "    \"block_id\",\n",
    "    \"frame_idx\",\n",
    "    \"estimator_name\",\n",
    "    \"maintenance_flag\",\n",
    "    \"synErr\",\n",
    "    \"N_EC_rounds\",\n",
    "    \"f_EC\",\n",
    "    \"s\",\n",
    "    \"p\",\n",
    "    \"nTot\",\n",
    "    \"E_mu_phys_est\",\n",
    "]"
   ]
  },
  {
   "cell_type": "code",
   "execution_count": null,
   "id": "af616caa",
   "metadata": {},
   "outputs": [],
   "source": [
    "X_train = train_df.drop(columns=features_to_drop + score_feat)\n",
    "y_train = train_df[\"s\"]\n",
    "X_test = test_df_lag.drop(columns=features_to_drop)\n",
    "y_test = test_df_lag[\"s\"]"
   ]
  },
  {
   "cell_type": "code",
   "execution_count": 52,
   "id": "da15e7b4",
   "metadata": {},
   "outputs": [],
   "source": [
    "model_s_p = CatBoostRegressor(\n",
    "    iterations=1000,\n",
    "    learning_rate=0.05,\n",
    "    loss_function=\"RMSE\",\n",
    "    verbose=100,\n",
    "    random_state=42,\n",
    ")"
   ]
  },
  {
   "cell_type": "code",
   "execution_count": 57,
   "id": "ab7c9611",
   "metadata": {},
   "outputs": [
    {
     "name": "stdout",
     "output_type": "stream",
     "text": [
      "0:\tlearn: 542.1752133\ttest: 591.7669787\tbest: 591.7669787 (0)\ttotal: 37.3ms\tremaining: 37.2s\n",
      "100:\tlearn: 61.4803885\ttest: 26.6004258\tbest: 26.6004258 (100)\ttotal: 2.8s\tremaining: 25s\n",
      "200:\tlearn: 38.7142615\ttest: 16.0980702\tbest: 16.0980702 (200)\ttotal: 5.07s\tremaining: 20.1s\n",
      "300:\tlearn: 33.0135414\ttest: 12.9552523\tbest: 12.9552523 (300)\ttotal: 7.25s\tremaining: 16.8s\n",
      "400:\tlearn: 30.2461218\ttest: 11.4428745\tbest: 11.4428745 (400)\ttotal: 9.52s\tremaining: 14.2s\n",
      "500:\tlearn: 28.3713122\ttest: 10.7909325\tbest: 10.7909325 (500)\ttotal: 11.9s\tremaining: 11.9s\n",
      "600:\tlearn: 26.9542270\ttest: 10.1372622\tbest: 10.1372622 (600)\ttotal: 14.5s\tremaining: 9.62s\n",
      "700:\tlearn: 25.8664709\ttest: 9.6497914\tbest: 9.6474599 (699)\ttotal: 16.9s\tremaining: 7.21s\n",
      "800:\tlearn: 24.9790550\ttest: 9.4046563\tbest: 9.4030859 (797)\ttotal: 19.1s\tremaining: 4.75s\n",
      "900:\tlearn: 24.2587953\ttest: 9.2533400\tbest: 9.2533400 (900)\ttotal: 21.4s\tremaining: 2.35s\n",
      "999:\tlearn: 23.5204420\ttest: 9.1527274\tbest: 9.1342389 (997)\ttotal: 23.6s\tremaining: 0us\n",
      "\n",
      "bestTest = 9.134238895\n",
      "bestIteration = 997\n",
      "\n",
      "Shrink model to first 998 iterations.\n"
     ]
    },
    {
     "data": {
      "text/plain": [
       "<catboost.core.CatBoostRegressor at 0x780626f43560>"
      ]
     },
     "execution_count": 57,
     "metadata": {},
     "output_type": "execute_result"
    }
   ],
   "source": [
    "model_s_p.fit(\n",
    "    X_train,\n",
    "    y_train,\n",
    "    sample_weight=train_df[\"optimality_weight\"],\n",
    "    eval_set=(X_test, y_test),\n",
    ")"
   ]
  },
  {
   "cell_type": "code",
   "execution_count": 58,
   "id": "600ad366",
   "metadata": {},
   "outputs": [],
   "source": [
    "s_pred_float = model_s_p.predict(X_test)\n",
    "s_pred_int = np.round(s_pred_float).astype(int)"
   ]
  },
  {
   "cell_type": "code",
   "execution_count": 60,
   "id": "9ac0bf29",
   "metadata": {},
   "outputs": [],
   "source": [
    "p_pred_int = 4800 - s_pred_int"
   ]
  },
  {
   "cell_type": "code",
   "execution_count": 74,
   "id": "686660bc",
   "metadata": {},
   "outputs": [],
   "source": [
    "pd.DataFrame(data={\"E_mu_Z\": E_mu_Z_pred, \"R\": R_pred, \"s\": s_pred_int, \"p\": p_pred_int}).to_csv(\n",
    "    \"submission.csv\", header=False, index=False\n",
    ")"
   ]
  }
 ],
 "metadata": {
  "kernelspec": {
   "display_name": "ds-env",
   "language": "python",
   "name": "python3"
  },
  "language_info": {
   "codemirror_mode": {
    "name": "ipython",
    "version": 3
   },
   "file_extension": ".py",
   "mimetype": "text/x-python",
   "name": "python",
   "nbconvert_exporter": "python",
   "pygments_lexer": "ipython3",
   "version": "3.12.11"
  }
 },
 "nbformat": 4,
 "nbformat_minor": 5
}
