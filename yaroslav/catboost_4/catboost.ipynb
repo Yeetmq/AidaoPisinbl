{
 "cells": [
  {
   "cell_type": "code",
   "execution_count": 61,
   "id": "9c86f8bd",
   "metadata": {},
   "outputs": [],
   "source": [
    "import warnings\n",
    "\n",
    "import matplotlib.pyplot as plt\n",
    "import numpy as np\n",
    "import pandas as pd\n",
    "from catboost import CatBoostClassifier, CatBoostRegressor\n",
    "from sklearn.metrics import accuracy_score, classification_report, mean_squared_error\n",
    "from sklearn.model_selection import train_test_split\n",
    "from sklearn.preprocessing import LabelEncoder\n",
    "\n",
    "warnings.filterwarnings(\"ignore\")"
   ]
  },
  {
   "cell_type": "code",
   "execution_count": 62,
   "id": "5217cc3f",
   "metadata": {},
   "outputs": [],
   "source": [
    "df = pd.read_csv(\"../../data/frames_errors.csv\", header=None)\n",
    "df.columns = [\n",
    "    \"block_id\",\n",
    "    \"frame_idx\",\n",
    "    \"E_mu_Z\",\n",
    "    \"E_mu_phys_est\",\n",
    "    \"E_mu_X\",\n",
    "    \"E_nu1_X\",\n",
    "    \"E_nu2_X\",\n",
    "    \"E_nu1_Z\",\n",
    "    \"E_nu2_Z\",\n",
    "    \"N_mu_X\",\n",
    "    \"M_mu_XX\",\n",
    "    \"M_mu_XZ\",\n",
    "    \"M_mu_X\",\n",
    "    \"N_mu_Z\",\n",
    "    \"M_mu_ZZ\",\n",
    "    \"M_mu_Z\",\n",
    "    \"N_nu1_X\",\n",
    "    \"M_nu1_XX\",\n",
    "    \"M_nu1_XZ\",\n",
    "    \"M_nu1_X\",\n",
    "    \"N_nu1_Z\",\n",
    "    \"M_nu1_ZZ\",\n",
    "    \"M_nu1_Z\",\n",
    "    \"N_nu2_X\",\n",
    "    \"M_nu2_XX\",\n",
    "    \"M_nu2_XZ\",\n",
    "    \"M_nu2_X\",\n",
    "    \"N_nu2_Z\",\n",
    "    \"M_nu2_ZZ\",\n",
    "    \"M_nu2_Z\",\n",
    "    \"nTot\",\n",
    "    \"bayesImVoltage\",\n",
    "    \"opticalPower\",\n",
    "    \"polarizerVoltages[0]\",\n",
    "    \"polarizerVoltages[1]\",\n",
    "    \"polarizerVoltages[2]\",\n",
    "    \"polarizerVoltages[3]\",\n",
    "    \"temp_1\",\n",
    "    \"biasVoltage_1\",\n",
    "    \"temp_2\",\n",
    "    \"biasVoltage_2\",\n",
    "    \"synErr\",\n",
    "    \"N_EC_rounds\",\n",
    "    \"maintenance_flag\",\n",
    "    \"estimator_name\",\n",
    "    \"f_EC\",\n",
    "    \"E_mu_Z_est\",\n",
    "    \"R\",\n",
    "    \"s\",\n",
    "    \"p\",\n",
    "]"
   ]
  },
  {
   "cell_type": "code",
   "execution_count": 63,
   "id": "be9ac7ee",
   "metadata": {},
   "outputs": [],
   "source": [
    "id_features = [\n",
    "    \"block_id\",\n",
    "    \"frame_idx\",\n",
    "]\n",
    "\n",
    "phys_gt_features = [\n",
    "    \"E_mu_Z\",\n",
    "    \"E_mu_X\",\n",
    "    \"E_nu1_X\",\n",
    "    \"E_nu2_X\",\n",
    "    \"E_nu1_Z\",\n",
    "    \"E_nu2_Z\",\n",
    "    \"N_mu_X\",\n",
    "    \"M_mu_XX\",\n",
    "    \"M_mu_XZ\",\n",
    "    \"M_mu_X\",\n",
    "    \"N_mu_Z\",\n",
    "    \"M_mu_ZZ\",\n",
    "    \"M_mu_Z\",\n",
    "    \"N_nu1_X\",\n",
    "    \"M_nu1_XX\",\n",
    "    \"M_nu1_XZ\",\n",
    "    \"M_nu1_X\",\n",
    "    \"N_nu1_Z\",\n",
    "    \"M_nu1_ZZ\",\n",
    "    \"M_nu1_Z\",\n",
    "    \"N_nu2_X\",\n",
    "    \"M_nu2_XX\",\n",
    "    \"M_nu2_XZ\",\n",
    "    \"M_nu2_X\",\n",
    "    \"N_nu2_Z\",\n",
    "    \"M_nu2_ZZ\",\n",
    "    \"M_nu2_Z\",\n",
    "]\n",
    "\n",
    "phys_features = [\n",
    "    \"bayesImVoltage\",\n",
    "    \"opticalPower\",\n",
    "    \"polarizerVoltages[0]\",\n",
    "    \"polarizerVoltages[1]\",\n",
    "    \"polarizerVoltages[2]\",\n",
    "    \"polarizerVoltages[3]\",\n",
    "    \"temp_1\",\n",
    "    \"biasVoltage_1\",\n",
    "    \"temp_2\",\n",
    "    \"biasVoltage_2\",\n",
    "]\n",
    "\n",
    "est_features = [\n",
    "    # \"E_mu_phys_est\",\n",
    "    \"E_mu_Z_est\",\n",
    "    \"R\",\n",
    "    \"s\",\n",
    "    \"p\",\n",
    "]\n",
    "\n",
    "proxy_features = [\n",
    "    \"N_EC_rounds\",\n",
    "    # \"f_EC\",\n",
    "]\n",
    "\n",
    "df = df[id_features + phys_gt_features + phys_features + est_features + proxy_features]"
   ]
  },
  {
   "cell_type": "code",
   "execution_count": 64,
   "id": "477390ab",
   "metadata": {},
   "outputs": [],
   "source": [
    "# df = df.dropna(subset=[\"f_EC\"])"
   ]
  },
  {
   "cell_type": "code",
   "execution_count": 65,
   "id": "0961f92a",
   "metadata": {},
   "outputs": [
    {
     "name": "stdout",
     "output_type": "stream",
     "text": [
      "Столбцы с пропусками и их количество:\n",
      "Series([], dtype: int64)\n",
      "Количество фреймов / Количество рядов\n",
      "frame_idx\n",
      "399    569\n",
      "400    251\n",
      "398      2\n",
      "390      1\n",
      "Name: count, dtype: int64\n",
      "Shape: (328617, 44)\n"
     ]
    }
   ],
   "source": [
    "missing_counts = df.isna().sum()\n",
    "columns_with_missing = missing_counts[missing_counts > 0]\n",
    "print(\"Столбцы с пропусками и их количество:\")\n",
    "print(columns_with_missing)\n",
    "timestamp_counts = df.groupby(\"block_id\")[\"frame_idx\"].nunique()\n",
    "print(\"Количество фреймов / Количество рядов\")\n",
    "print(timestamp_counts.value_counts())\n",
    "print(\"Shape:\", df.shape)"
   ]
  },
  {
   "cell_type": "code",
   "execution_count": 66,
   "id": "b4633ca2",
   "metadata": {},
   "outputs": [],
   "source": [
    "def create_features(df, features, lag, window):\n",
    "    df = df.copy()\n",
    "    created_features = []\n",
    "\n",
    "    for feature in features:\n",
    "        for l in lag:\n",
    "            df[f\"{feature}_lag_{l}\"] = df.groupby(\"block_id\")[feature].shift(l)\n",
    "            created_features.append(f\"{feature}_lag_{l}\")\n",
    "        for w in window:\n",
    "            df[f\"{feature}_roll_mean_{w}\"] = (\n",
    "                df.groupby(\"block_id\")[feature].shift(1).rolling(window=w).mean()\n",
    "            )\n",
    "            created_features.append(f\"{feature}_roll_mean_{w}\")\n",
    "            df[f\"{feature}_roll_std_{w}\"] = (\n",
    "                df.groupby(\"block_id\")[feature].shift(1).rolling(window=w).std()\n",
    "            )\n",
    "            created_features.append(f\"{feature}_roll_std_{w}\")\n",
    "\n",
    "    df = df.bfill().ffill()\n",
    "    return df, created_features"
   ]
  },
  {
   "cell_type": "code",
   "execution_count": 67,
   "id": "58747efa",
   "metadata": {},
   "outputs": [
    {
     "name": "stdout",
     "output_type": "stream",
     "text": [
      "Созданные признаки: ['E_mu_Z_lag_1', 'E_mu_Z_lag_2', 'E_mu_Z_lag_3', 'E_mu_Z_lag_5', 'E_mu_Z_lag_10', 'E_mu_Z_roll_mean_3', 'E_mu_Z_roll_std_3', 'E_mu_Z_roll_mean_5', 'E_mu_Z_roll_std_5', 'E_mu_Z_roll_mean_10', 'E_mu_Z_roll_std_10', 'E_mu_X_lag_1', 'E_mu_X_lag_2', 'E_mu_X_lag_3', 'E_mu_X_lag_5', 'E_mu_X_lag_10', 'E_mu_X_roll_mean_3', 'E_mu_X_roll_std_3', 'E_mu_X_roll_mean_5', 'E_mu_X_roll_std_5', 'E_mu_X_roll_mean_10', 'E_mu_X_roll_std_10', 'E_nu1_X_lag_1', 'E_nu1_X_lag_2', 'E_nu1_X_lag_3', 'E_nu1_X_lag_5', 'E_nu1_X_lag_10', 'E_nu1_X_roll_mean_3', 'E_nu1_X_roll_std_3', 'E_nu1_X_roll_mean_5', 'E_nu1_X_roll_std_5', 'E_nu1_X_roll_mean_10', 'E_nu1_X_roll_std_10', 'E_nu2_X_lag_1', 'E_nu2_X_lag_2', 'E_nu2_X_lag_3', 'E_nu2_X_lag_5', 'E_nu2_X_lag_10', 'E_nu2_X_roll_mean_3', 'E_nu2_X_roll_std_3', 'E_nu2_X_roll_mean_5', 'E_nu2_X_roll_std_5', 'E_nu2_X_roll_mean_10', 'E_nu2_X_roll_std_10', 'E_nu1_Z_lag_1', 'E_nu1_Z_lag_2', 'E_nu1_Z_lag_3', 'E_nu1_Z_lag_5', 'E_nu1_Z_lag_10', 'E_nu1_Z_roll_mean_3', 'E_nu1_Z_roll_std_3', 'E_nu1_Z_roll_mean_5', 'E_nu1_Z_roll_std_5', 'E_nu1_Z_roll_mean_10', 'E_nu1_Z_roll_std_10', 'E_nu2_Z_lag_1', 'E_nu2_Z_lag_2', 'E_nu2_Z_lag_3', 'E_nu2_Z_lag_5', 'E_nu2_Z_lag_10', 'E_nu2_Z_roll_mean_3', 'E_nu2_Z_roll_std_3', 'E_nu2_Z_roll_mean_5', 'E_nu2_Z_roll_std_5', 'E_nu2_Z_roll_mean_10', 'E_nu2_Z_roll_std_10', 'N_mu_X_lag_1', 'N_mu_X_lag_2', 'N_mu_X_lag_3', 'N_mu_X_lag_5', 'N_mu_X_lag_10', 'N_mu_X_roll_mean_3', 'N_mu_X_roll_std_3', 'N_mu_X_roll_mean_5', 'N_mu_X_roll_std_5', 'N_mu_X_roll_mean_10', 'N_mu_X_roll_std_10', 'M_mu_XX_lag_1', 'M_mu_XX_lag_2', 'M_mu_XX_lag_3', 'M_mu_XX_lag_5', 'M_mu_XX_lag_10', 'M_mu_XX_roll_mean_3', 'M_mu_XX_roll_std_3', 'M_mu_XX_roll_mean_5', 'M_mu_XX_roll_std_5', 'M_mu_XX_roll_mean_10', 'M_mu_XX_roll_std_10', 'M_mu_XZ_lag_1', 'M_mu_XZ_lag_2', 'M_mu_XZ_lag_3', 'M_mu_XZ_lag_5', 'M_mu_XZ_lag_10', 'M_mu_XZ_roll_mean_3', 'M_mu_XZ_roll_std_3', 'M_mu_XZ_roll_mean_5', 'M_mu_XZ_roll_std_5', 'M_mu_XZ_roll_mean_10', 'M_mu_XZ_roll_std_10', 'M_mu_X_lag_1', 'M_mu_X_lag_2', 'M_mu_X_lag_3', 'M_mu_X_lag_5', 'M_mu_X_lag_10', 'M_mu_X_roll_mean_3', 'M_mu_X_roll_std_3', 'M_mu_X_roll_mean_5', 'M_mu_X_roll_std_5', 'M_mu_X_roll_mean_10', 'M_mu_X_roll_std_10', 'N_mu_Z_lag_1', 'N_mu_Z_lag_2', 'N_mu_Z_lag_3', 'N_mu_Z_lag_5', 'N_mu_Z_lag_10', 'N_mu_Z_roll_mean_3', 'N_mu_Z_roll_std_3', 'N_mu_Z_roll_mean_5', 'N_mu_Z_roll_std_5', 'N_mu_Z_roll_mean_10', 'N_mu_Z_roll_std_10', 'M_mu_ZZ_lag_1', 'M_mu_ZZ_lag_2', 'M_mu_ZZ_lag_3', 'M_mu_ZZ_lag_5', 'M_mu_ZZ_lag_10', 'M_mu_ZZ_roll_mean_3', 'M_mu_ZZ_roll_std_3', 'M_mu_ZZ_roll_mean_5', 'M_mu_ZZ_roll_std_5', 'M_mu_ZZ_roll_mean_10', 'M_mu_ZZ_roll_std_10', 'M_mu_Z_lag_1', 'M_mu_Z_lag_2', 'M_mu_Z_lag_3', 'M_mu_Z_lag_5', 'M_mu_Z_lag_10', 'M_mu_Z_roll_mean_3', 'M_mu_Z_roll_std_3', 'M_mu_Z_roll_mean_5', 'M_mu_Z_roll_std_5', 'M_mu_Z_roll_mean_10', 'M_mu_Z_roll_std_10', 'N_nu1_X_lag_1', 'N_nu1_X_lag_2', 'N_nu1_X_lag_3', 'N_nu1_X_lag_5', 'N_nu1_X_lag_10', 'N_nu1_X_roll_mean_3', 'N_nu1_X_roll_std_3', 'N_nu1_X_roll_mean_5', 'N_nu1_X_roll_std_5', 'N_nu1_X_roll_mean_10', 'N_nu1_X_roll_std_10', 'M_nu1_XX_lag_1', 'M_nu1_XX_lag_2', 'M_nu1_XX_lag_3', 'M_nu1_XX_lag_5', 'M_nu1_XX_lag_10', 'M_nu1_XX_roll_mean_3', 'M_nu1_XX_roll_std_3', 'M_nu1_XX_roll_mean_5', 'M_nu1_XX_roll_std_5', 'M_nu1_XX_roll_mean_10', 'M_nu1_XX_roll_std_10', 'M_nu1_XZ_lag_1', 'M_nu1_XZ_lag_2', 'M_nu1_XZ_lag_3', 'M_nu1_XZ_lag_5', 'M_nu1_XZ_lag_10', 'M_nu1_XZ_roll_mean_3', 'M_nu1_XZ_roll_std_3', 'M_nu1_XZ_roll_mean_5', 'M_nu1_XZ_roll_std_5', 'M_nu1_XZ_roll_mean_10', 'M_nu1_XZ_roll_std_10', 'M_nu1_X_lag_1', 'M_nu1_X_lag_2', 'M_nu1_X_lag_3', 'M_nu1_X_lag_5', 'M_nu1_X_lag_10', 'M_nu1_X_roll_mean_3', 'M_nu1_X_roll_std_3', 'M_nu1_X_roll_mean_5', 'M_nu1_X_roll_std_5', 'M_nu1_X_roll_mean_10', 'M_nu1_X_roll_std_10', 'N_nu1_Z_lag_1', 'N_nu1_Z_lag_2', 'N_nu1_Z_lag_3', 'N_nu1_Z_lag_5', 'N_nu1_Z_lag_10', 'N_nu1_Z_roll_mean_3', 'N_nu1_Z_roll_std_3', 'N_nu1_Z_roll_mean_5', 'N_nu1_Z_roll_std_5', 'N_nu1_Z_roll_mean_10', 'N_nu1_Z_roll_std_10', 'M_nu1_ZZ_lag_1', 'M_nu1_ZZ_lag_2', 'M_nu1_ZZ_lag_3', 'M_nu1_ZZ_lag_5', 'M_nu1_ZZ_lag_10', 'M_nu1_ZZ_roll_mean_3', 'M_nu1_ZZ_roll_std_3', 'M_nu1_ZZ_roll_mean_5', 'M_nu1_ZZ_roll_std_5', 'M_nu1_ZZ_roll_mean_10', 'M_nu1_ZZ_roll_std_10', 'M_nu1_Z_lag_1', 'M_nu1_Z_lag_2', 'M_nu1_Z_lag_3', 'M_nu1_Z_lag_5', 'M_nu1_Z_lag_10', 'M_nu1_Z_roll_mean_3', 'M_nu1_Z_roll_std_3', 'M_nu1_Z_roll_mean_5', 'M_nu1_Z_roll_std_5', 'M_nu1_Z_roll_mean_10', 'M_nu1_Z_roll_std_10', 'N_nu2_X_lag_1', 'N_nu2_X_lag_2', 'N_nu2_X_lag_3', 'N_nu2_X_lag_5', 'N_nu2_X_lag_10', 'N_nu2_X_roll_mean_3', 'N_nu2_X_roll_std_3', 'N_nu2_X_roll_mean_5', 'N_nu2_X_roll_std_5', 'N_nu2_X_roll_mean_10', 'N_nu2_X_roll_std_10', 'M_nu2_XX_lag_1', 'M_nu2_XX_lag_2', 'M_nu2_XX_lag_3', 'M_nu2_XX_lag_5', 'M_nu2_XX_lag_10', 'M_nu2_XX_roll_mean_3', 'M_nu2_XX_roll_std_3', 'M_nu2_XX_roll_mean_5', 'M_nu2_XX_roll_std_5', 'M_nu2_XX_roll_mean_10', 'M_nu2_XX_roll_std_10', 'M_nu2_XZ_lag_1', 'M_nu2_XZ_lag_2', 'M_nu2_XZ_lag_3', 'M_nu2_XZ_lag_5', 'M_nu2_XZ_lag_10', 'M_nu2_XZ_roll_mean_3', 'M_nu2_XZ_roll_std_3', 'M_nu2_XZ_roll_mean_5', 'M_nu2_XZ_roll_std_5', 'M_nu2_XZ_roll_mean_10', 'M_nu2_XZ_roll_std_10', 'M_nu2_X_lag_1', 'M_nu2_X_lag_2', 'M_nu2_X_lag_3', 'M_nu2_X_lag_5', 'M_nu2_X_lag_10', 'M_nu2_X_roll_mean_3', 'M_nu2_X_roll_std_3', 'M_nu2_X_roll_mean_5', 'M_nu2_X_roll_std_5', 'M_nu2_X_roll_mean_10', 'M_nu2_X_roll_std_10', 'N_nu2_Z_lag_1', 'N_nu2_Z_lag_2', 'N_nu2_Z_lag_3', 'N_nu2_Z_lag_5', 'N_nu2_Z_lag_10', 'N_nu2_Z_roll_mean_3', 'N_nu2_Z_roll_std_3', 'N_nu2_Z_roll_mean_5', 'N_nu2_Z_roll_std_5', 'N_nu2_Z_roll_mean_10', 'N_nu2_Z_roll_std_10', 'M_nu2_ZZ_lag_1', 'M_nu2_ZZ_lag_2', 'M_nu2_ZZ_lag_3', 'M_nu2_ZZ_lag_5', 'M_nu2_ZZ_lag_10', 'M_nu2_ZZ_roll_mean_3', 'M_nu2_ZZ_roll_std_3', 'M_nu2_ZZ_roll_mean_5', 'M_nu2_ZZ_roll_std_5', 'M_nu2_ZZ_roll_mean_10', 'M_nu2_ZZ_roll_std_10', 'M_nu2_Z_lag_1', 'M_nu2_Z_lag_2', 'M_nu2_Z_lag_3', 'M_nu2_Z_lag_5', 'M_nu2_Z_lag_10', 'M_nu2_Z_roll_mean_3', 'M_nu2_Z_roll_std_3', 'M_nu2_Z_roll_mean_5', 'M_nu2_Z_roll_std_5', 'M_nu2_Z_roll_mean_10', 'M_nu2_Z_roll_std_10', 'bayesImVoltage_lag_1', 'bayesImVoltage_lag_2', 'bayesImVoltage_lag_3', 'bayesImVoltage_lag_5', 'bayesImVoltage_lag_10', 'bayesImVoltage_roll_mean_3', 'bayesImVoltage_roll_std_3', 'bayesImVoltage_roll_mean_5', 'bayesImVoltage_roll_std_5', 'bayesImVoltage_roll_mean_10', 'bayesImVoltage_roll_std_10', 'opticalPower_lag_1', 'opticalPower_lag_2', 'opticalPower_lag_3', 'opticalPower_lag_5', 'opticalPower_lag_10', 'opticalPower_roll_mean_3', 'opticalPower_roll_std_3', 'opticalPower_roll_mean_5', 'opticalPower_roll_std_5', 'opticalPower_roll_mean_10', 'opticalPower_roll_std_10', 'polarizerVoltages[0]_lag_1', 'polarizerVoltages[0]_lag_2', 'polarizerVoltages[0]_lag_3', 'polarizerVoltages[0]_lag_5', 'polarizerVoltages[0]_lag_10', 'polarizerVoltages[0]_roll_mean_3', 'polarizerVoltages[0]_roll_std_3', 'polarizerVoltages[0]_roll_mean_5', 'polarizerVoltages[0]_roll_std_5', 'polarizerVoltages[0]_roll_mean_10', 'polarizerVoltages[0]_roll_std_10', 'polarizerVoltages[1]_lag_1', 'polarizerVoltages[1]_lag_2', 'polarizerVoltages[1]_lag_3', 'polarizerVoltages[1]_lag_5', 'polarizerVoltages[1]_lag_10', 'polarizerVoltages[1]_roll_mean_3', 'polarizerVoltages[1]_roll_std_3', 'polarizerVoltages[1]_roll_mean_5', 'polarizerVoltages[1]_roll_std_5', 'polarizerVoltages[1]_roll_mean_10', 'polarizerVoltages[1]_roll_std_10', 'polarizerVoltages[2]_lag_1', 'polarizerVoltages[2]_lag_2', 'polarizerVoltages[2]_lag_3', 'polarizerVoltages[2]_lag_5', 'polarizerVoltages[2]_lag_10', 'polarizerVoltages[2]_roll_mean_3', 'polarizerVoltages[2]_roll_std_3', 'polarizerVoltages[2]_roll_mean_5', 'polarizerVoltages[2]_roll_std_5', 'polarizerVoltages[2]_roll_mean_10', 'polarizerVoltages[2]_roll_std_10', 'polarizerVoltages[3]_lag_1', 'polarizerVoltages[3]_lag_2', 'polarizerVoltages[3]_lag_3', 'polarizerVoltages[3]_lag_5', 'polarizerVoltages[3]_lag_10', 'polarizerVoltages[3]_roll_mean_3', 'polarizerVoltages[3]_roll_std_3', 'polarizerVoltages[3]_roll_mean_5', 'polarizerVoltages[3]_roll_std_5', 'polarizerVoltages[3]_roll_mean_10', 'polarizerVoltages[3]_roll_std_10', 'temp_1_lag_1', 'temp_1_lag_2', 'temp_1_lag_3', 'temp_1_lag_5', 'temp_1_lag_10', 'temp_1_roll_mean_3', 'temp_1_roll_std_3', 'temp_1_roll_mean_5', 'temp_1_roll_std_5', 'temp_1_roll_mean_10', 'temp_1_roll_std_10', 'biasVoltage_1_lag_1', 'biasVoltage_1_lag_2', 'biasVoltage_1_lag_3', 'biasVoltage_1_lag_5', 'biasVoltage_1_lag_10', 'biasVoltage_1_roll_mean_3', 'biasVoltage_1_roll_std_3', 'biasVoltage_1_roll_mean_5', 'biasVoltage_1_roll_std_5', 'biasVoltage_1_roll_mean_10', 'biasVoltage_1_roll_std_10', 'temp_2_lag_1', 'temp_2_lag_2', 'temp_2_lag_3', 'temp_2_lag_5', 'temp_2_lag_10', 'temp_2_roll_mean_3', 'temp_2_roll_std_3', 'temp_2_roll_mean_5', 'temp_2_roll_std_5', 'temp_2_roll_mean_10', 'temp_2_roll_std_10', 'biasVoltage_2_lag_1', 'biasVoltage_2_lag_2', 'biasVoltage_2_lag_3', 'biasVoltage_2_lag_5', 'biasVoltage_2_lag_10', 'biasVoltage_2_roll_mean_3', 'biasVoltage_2_roll_std_3', 'biasVoltage_2_roll_mean_5', 'biasVoltage_2_roll_std_5', 'biasVoltage_2_roll_mean_10', 'biasVoltage_2_roll_std_10', 'E_mu_Z_est_lag_1', 'E_mu_Z_est_lag_2', 'E_mu_Z_est_lag_3', 'E_mu_Z_est_lag_5', 'E_mu_Z_est_lag_10', 'E_mu_Z_est_roll_mean_3', 'E_mu_Z_est_roll_std_3', 'E_mu_Z_est_roll_mean_5', 'E_mu_Z_est_roll_std_5', 'E_mu_Z_est_roll_mean_10', 'E_mu_Z_est_roll_std_10', 'R_lag_1', 'R_lag_2', 'R_lag_3', 'R_lag_5', 'R_lag_10', 'R_roll_mean_3', 'R_roll_std_3', 'R_roll_mean_5', 'R_roll_std_5', 'R_roll_mean_10', 'R_roll_std_10', 's_lag_1', 's_lag_2', 's_lag_3', 's_lag_5', 's_lag_10', 's_roll_mean_3', 's_roll_std_3', 's_roll_mean_5', 's_roll_std_5', 's_roll_mean_10', 's_roll_std_10', 'p_lag_1', 'p_lag_2', 'p_lag_3', 'p_lag_5', 'p_lag_10', 'p_roll_mean_3', 'p_roll_std_3', 'p_roll_mean_5', 'p_roll_std_5', 'p_roll_mean_10', 'p_roll_std_10']\n"
     ]
    }
   ],
   "source": [
    "features_to_create = phys_gt_features + phys_features + est_features\n",
    "df, created_features = create_features(\n",
    "    df, features_to_create, lag=[1, 2, 3, 5, 10], window=[3, 5, 10]\n",
    ")\n",
    "print(\"Созданные признаки:\", created_features)"
   ]
  },
  {
   "cell_type": "code",
   "execution_count": 68,
   "id": "65bfb16d",
   "metadata": {},
   "outputs": [
    {
     "name": "stdout",
     "output_type": "stream",
     "text": [
      "Train: 326221\n",
      "Test: 2000\n"
     ]
    }
   ],
   "source": [
    "# Test (Val)\n",
    "start_idx = df[(df[\"block_id\"] == 1489460492) & (df[\"frame_idx\"] == 99)].index[0]\n",
    "end_idx = df[(df[\"block_id\"] == 1840064900) & (df[\"frame_idx\"] == 101)].index[0]\n",
    "\n",
    "test_df = df.loc[start_idx:end_idx].copy()\n",
    "assert len(test_df) == 2000, \"Test (Val) set size is not 2000 rows\"\n",
    "\n",
    "# Train\n",
    "all_block_ids = df[\"block_id\"].unique()\n",
    "train_blocks = [bid for bid in all_block_ids if bid not in test_df[\"block_id\"].values]\n",
    "train_df = df[df[\"block_id\"].isin(train_blocks)]\n",
    "\n",
    "print(f\"Train: {len(train_df)}\")\n",
    "print(f\"Test: {len(test_df)}\")\n"
   ]
  },
  {
   "cell_type": "code",
   "execution_count": 69,
   "id": "c74241e0",
   "metadata": {},
   "outputs": [],
   "source": [
    "train_df = train_df[(train_df[\"N_EC_rounds\"] <= 1)]"
   ]
  },
  {
   "cell_type": "markdown",
   "id": "e113fdf8",
   "metadata": {},
   "source": [
    "# Catboost E_mu_Z"
   ]
  },
  {
   "cell_type": "code",
   "execution_count": 70,
   "id": "4fb734b8",
   "metadata": {},
   "outputs": [],
   "source": [
    "features_in = created_features + phys_features\n",
    "\n",
    "X_train = train_df[features_in]\n",
    "y_train = train_df[\"E_mu_Z_est\"]\n",
    "X_test = test_df[features_in]\n",
    "y_test = test_df[\"E_mu_Z_est\"]"
   ]
  },
  {
   "cell_type": "code",
   "execution_count": null,
   "id": "b16ea4b8",
   "metadata": {},
   "outputs": [
    {
     "name": "stdout",
     "output_type": "stream",
     "text": [
      "0:\tlearn: 0.0125367\ttest: 0.0033755\tbest: 0.0033755 (0)\ttotal: 35.9ms\tremaining: 1m 11s\n",
      "100:\tlearn: 0.0005656\ttest: 0.0002376\tbest: 0.0002376 (100)\ttotal: 2.35s\tremaining: 44.3s\n",
      "200:\tlearn: 0.0004044\ttest: 0.0001976\tbest: 0.0001976 (200)\ttotal: 4.9s\tremaining: 43.9s\n",
      "300:\tlearn: 0.0003287\ttest: 0.0001660\tbest: 0.0001660 (300)\ttotal: 7.2s\tremaining: 40.6s\n",
      "400:\tlearn: 0.0002865\ttest: 0.0001463\tbest: 0.0001463 (400)\ttotal: 9.34s\tremaining: 37.3s\n",
      "500:\tlearn: 0.0002515\ttest: 0.0001358\tbest: 0.0001357 (498)\ttotal: 11.7s\tremaining: 35.1s\n",
      "600:\tlearn: 0.0002270\ttest: 0.0001250\tbest: 0.0001250 (600)\ttotal: 14.4s\tremaining: 33.5s\n",
      "700:\tlearn: 0.0002071\ttest: 0.0001184\tbest: 0.0001184 (700)\ttotal: 17.1s\tremaining: 31.7s\n",
      "800:\tlearn: 0.0001918\ttest: 0.0001135\tbest: 0.0001135 (799)\ttotal: 19.6s\tremaining: 29.4s\n",
      "900:\tlearn: 0.0001792\ttest: 0.0001100\tbest: 0.0001100 (900)\ttotal: 22.1s\tremaining: 27s\n",
      "1000:\tlearn: 0.0001684\ttest: 0.0001073\tbest: 0.0001073 (1000)\ttotal: 24.6s\tremaining: 24.5s\n",
      "1100:\tlearn: 0.0001601\ttest: 0.0001053\tbest: 0.0001053 (1100)\ttotal: 27.3s\tremaining: 22.3s\n",
      "1200:\tlearn: 0.0001530\ttest: 0.0001028\tbest: 0.0001028 (1199)\ttotal: 29.8s\tremaining: 19.8s\n",
      "1300:\tlearn: 0.0001468\ttest: 0.0001000\tbest: 0.0001000 (1300)\ttotal: 32.5s\tremaining: 17.5s\n",
      "1400:\tlearn: 0.0001411\ttest: 0.0000986\tbest: 0.0000986 (1399)\ttotal: 35s\tremaining: 15s\n",
      "1500:\tlearn: 0.0001363\ttest: 0.0000974\tbest: 0.0000974 (1500)\ttotal: 37.7s\tremaining: 12.5s\n"
     ]
    }
   ],
   "source": [
    "model_E_mu_Z = CatBoostRegressor(\n",
    "    iterations=2000,\n",
    "    learning_rate=0.05,\n",
    "    loss_function=\"RMSE\",\n",
    "    verbose=100,\n",
    "    random_state=42,\n",
    ")\n",
    "\n",
    "model_E_mu_Z.fit(\n",
    "    X_train,\n",
    "    y_train,\n",
    "    eval_set=(X_test, y_test),\n",
    ")"
   ]
  },
  {
   "cell_type": "code",
   "execution_count": null,
   "id": "f59d660c",
   "metadata": {},
   "outputs": [],
   "source": [
    "E_mu_Z_pred = model_E_mu_Z.predict(X_test)"
   ]
  },
  {
   "cell_type": "markdown",
   "id": "0621a850",
   "metadata": {},
   "source": [
    "# CatBoost R"
   ]
  },
  {
   "cell_type": "code",
   "execution_count": null,
   "id": "695da611",
   "metadata": {},
   "outputs": [],
   "source": [
    "features_in = created_features + phys_features + [\"E_mu_Z_est\"]\n",
    "\n",
    "X_train = train_df[features_in]\n",
    "y_train = train_df[\"R\"]\n",
    "X_test = test_df[features_in]\n",
    "y_test = test_df[\"R\"]"
   ]
  },
  {
   "cell_type": "code",
   "execution_count": null,
   "id": "d0f928b3",
   "metadata": {},
   "outputs": [
    {
     "name": "stdout",
     "output_type": "stream",
     "text": [
      "{0.5: 0, 0.55: 1, 0.6: 2, 0.65: 3, 0.7: 4, 0.75: 5, 0.8: 6, 0.85: 7}\n"
     ]
    }
   ],
   "source": [
    "le = LabelEncoder()\n",
    "y_train = le.fit_transform(y_train)\n",
    "y_test = le.transform(y_test)\n",
    "print(dict(zip(le.classes_, le.transform(le.classes_))))"
   ]
  },
  {
   "cell_type": "code",
   "execution_count": null,
   "id": "651e196b",
   "metadata": {},
   "outputs": [
    {
     "name": "stdout",
     "output_type": "stream",
     "text": [
      "0:\tlearn: 0.9199096\ttest: 0.9005000\tbest: 0.9005000 (0)\ttotal: 352ms\tremaining: 2m 55s\n",
      "100:\tlearn: 0.9851952\ttest: 0.9820000\tbest: 0.9820000 (100)\ttotal: 28.9s\tremaining: 1m 54s\n",
      "200:\tlearn: 0.9909151\ttest: 0.9865000\tbest: 0.9870000 (196)\ttotal: 52.5s\tremaining: 1m 18s\n",
      "300:\tlearn: 0.9930728\ttest: 0.9890000\tbest: 0.9890000 (243)\ttotal: 1m 13s\tremaining: 48.5s\n",
      "400:\tlearn: 0.9944534\ttest: 0.9905000\tbest: 0.9905000 (390)\ttotal: 1m 36s\tremaining: 23.9s\n",
      "499:\tlearn: 0.9953440\ttest: 0.9910000\tbest: 0.9910000 (426)\ttotal: 1m 57s\tremaining: 0us\n",
      "\n",
      "bestTest = 0.991\n",
      "bestIteration = 426\n",
      "\n",
      "Shrink model to first 427 iterations.\n"
     ]
    },
    {
     "data": {
      "text/plain": [
       "<catboost.core.CatBoostClassifier at 0x77e5a7a9e000>"
      ]
     },
     "execution_count": 22,
     "metadata": {},
     "output_type": "execute_result"
    }
   ],
   "source": [
    "model_R = CatBoostClassifier(\n",
    "    iterations=500,\n",
    "    learning_rate=0.05,\n",
    "    loss_function=\"MultiClass\",\n",
    "    eval_metric=\"Accuracy\",\n",
    "    verbose=100,\n",
    "    random_state=42,\n",
    ")\n",
    "\n",
    "model_R.fit(\n",
    "    X_train,\n",
    "    y_train,\n",
    "    eval_set=(X_test, y_test),\n",
    ")"
   ]
  },
  {
   "cell_type": "code",
   "execution_count": null,
   "id": "1112f9ac",
   "metadata": {},
   "outputs": [],
   "source": [
    "R_pred_labels = model_R.predict(X_test).flatten()\n",
    "\n",
    "R_pred = le.inverse_transform(R_pred_labels)"
   ]
  },
  {
   "cell_type": "markdown",
   "id": "b68c1e9c",
   "metadata": {},
   "source": [
    "# CatBoost s p"
   ]
  },
  {
   "cell_type": "code",
   "execution_count": null,
   "id": "af616caa",
   "metadata": {},
   "outputs": [],
   "source": [
    "features_in = phys_features + created_features + [\"E_mu_Z_est\", \"R\"]\n",
    "\n",
    "X_train = train_df[features_in]\n",
    "y_train = train_df[\"s\"]\n",
    "X_test = test_df[features_in]\n",
    "y_test = test_df[\"s\"]"
   ]
  },
  {
   "cell_type": "code",
   "execution_count": null,
   "id": "da15e7b4",
   "metadata": {},
   "outputs": [
    {
     "name": "stdout",
     "output_type": "stream",
     "text": [
      "0:\tlearn: 567.3858332\ttest: 595.8490326\tbest: 595.8490326 (0)\ttotal: 39.7ms\tremaining: 1m 19s\n",
      "100:\tlearn: 60.5236832\ttest: 26.7697550\tbest: 26.7697550 (100)\ttotal: 3.26s\tremaining: 1m 1s\n",
      "200:\tlearn: 34.7342689\ttest: 14.9846589\tbest: 14.9846589 (200)\ttotal: 6.08s\tremaining: 54.4s\n",
      "300:\tlearn: 26.1523457\ttest: 12.7061675\tbest: 12.7060989 (299)\ttotal: 9.2s\tremaining: 51.9s\n",
      "400:\tlearn: 22.4791775\ttest: 10.5920983\tbest: 10.5901045 (397)\ttotal: 12.6s\tremaining: 50.1s\n",
      "500:\tlearn: 20.2894504\ttest: 9.7277804\tbest: 9.7277804 (500)\ttotal: 15.5s\tremaining: 46.4s\n",
      "600:\tlearn: 18.5538885\ttest: 8.7610229\tbest: 8.7610229 (600)\ttotal: 18.8s\tremaining: 43.7s\n",
      "700:\tlearn: 17.0724616\ttest: 8.1422911\tbest: 8.1417661 (699)\ttotal: 21.9s\tremaining: 40.6s\n",
      "800:\tlearn: 15.9663219\ttest: 7.6497517\tbest: 7.6495527 (799)\ttotal: 24.9s\tremaining: 37.3s\n",
      "900:\tlearn: 15.1702432\ttest: 7.2328631\tbest: 7.2328631 (900)\ttotal: 28s\tremaining: 34.2s\n",
      "1000:\tlearn: 14.2482643\ttest: 6.9420449\tbest: 6.9420449 (1000)\ttotal: 30.9s\tremaining: 30.9s\n",
      "1100:\tlearn: 13.4781190\ttest: 6.7075041\tbest: 6.7075041 (1100)\ttotal: 34.1s\tremaining: 27.8s\n",
      "1200:\tlearn: 12.8946162\ttest: 6.5309414\tbest: 6.5309414 (1200)\ttotal: 36.8s\tremaining: 24.5s\n",
      "1300:\tlearn: 12.2594246\ttest: 6.3652000\tbest: 6.3650692 (1299)\ttotal: 39.5s\tremaining: 21.2s\n",
      "1400:\tlearn: 11.7593861\ttest: 6.2118001\tbest: 6.2118001 (1400)\ttotal: 42.1s\tremaining: 18s\n",
      "1500:\tlearn: 11.2790022\ttest: 6.0082427\tbest: 6.0082427 (1500)\ttotal: 44.8s\tremaining: 14.9s\n",
      "1600:\tlearn: 10.8797387\ttest: 5.8312009\tbest: 5.8312009 (1600)\ttotal: 47.5s\tremaining: 11.8s\n",
      "1700:\tlearn: 10.5488514\ttest: 5.7286804\tbest: 5.7286804 (1700)\ttotal: 50.5s\tremaining: 8.87s\n",
      "1800:\tlearn: 10.2232410\ttest: 5.6472996\tbest: 5.6469582 (1795)\ttotal: 53.4s\tremaining: 5.91s\n",
      "1900:\tlearn: 9.9390332\ttest: 5.5344876\tbest: 5.5343366 (1897)\ttotal: 56.3s\tremaining: 2.93s\n",
      "1999:\tlearn: 9.6848149\ttest: 5.4069392\tbest: 5.4069392 (1999)\ttotal: 59.5s\tremaining: 0us\n",
      "\n",
      "bestTest = 5.406939168\n",
      "bestIteration = 1999\n",
      "\n"
     ]
    },
    {
     "data": {
      "text/plain": [
       "<catboost.core.CatBoostRegressor at 0x77e5a4dd19a0>"
      ]
     },
     "execution_count": 37,
     "metadata": {},
     "output_type": "execute_result"
    }
   ],
   "source": [
    "model_s_p = CatBoostRegressor(\n",
    "    iterations=2000,\n",
    "    learning_rate=0.04,\n",
    "    loss_function=\"RMSE\",\n",
    "    verbose=100,\n",
    "    random_state=42,\n",
    ")\n",
    "\n",
    "model_s_p.fit(\n",
    "    X_train,\n",
    "    y_train,\n",
    "    eval_set=(X_test, y_test),\n",
    ")"
   ]
  },
  {
   "cell_type": "code",
   "execution_count": null,
   "id": "600ad366",
   "metadata": {},
   "outputs": [],
   "source": [
    "s_pred_float = model_s_p.predict(X_test)\n",
    "s_pred_int = np.round(s_pred_float).astype(int)"
   ]
  },
  {
   "cell_type": "code",
   "execution_count": null,
   "id": "9ac0bf29",
   "metadata": {},
   "outputs": [],
   "source": [
    "p_pred_int = 4800 - s_pred_int"
   ]
  },
  {
   "cell_type": "code",
   "execution_count": null,
   "id": "686660bc",
   "metadata": {},
   "outputs": [],
   "source": [
    "pd.DataFrame(data={\"E_mu_Z\": E_mu_Z_pred, \"R\": R_pred, \"s\": s_pred_int, \"p\": p_pred_int}).to_csv(\n",
    "    \"submission.csv\", header=False, index=False\n",
    ")"
   ]
  }
 ],
 "metadata": {
  "kernelspec": {
   "display_name": "ds-env",
   "language": "python",
   "name": "python3"
  },
  "language_info": {
   "codemirror_mode": {
    "name": "ipython",
    "version": 3
   },
   "file_extension": ".py",
   "mimetype": "text/x-python",
   "name": "python",
   "nbconvert_exporter": "python",
   "pygments_lexer": "ipython3",
   "version": "3.12.11"
  }
 },
 "nbformat": 4,
 "nbformat_minor": 5
}
