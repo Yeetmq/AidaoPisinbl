{
 "cells": [
  {
   "cell_type": "code",
   "execution_count": 91,
   "id": "9c86f8bd",
   "metadata": {},
   "outputs": [],
   "source": [
    "import warnings\n",
    "\n",
    "import matplotlib.pyplot as plt\n",
    "import numpy as np\n",
    "import pandas as pd\n",
    "from catboost import CatBoostClassifier, CatBoostRegressor\n",
    "from sklearn.metrics import accuracy_score, classification_report, mean_squared_error\n",
    "from sklearn.model_selection import train_test_split\n",
    "from sklearn.preprocessing import LabelEncoder\n",
    "\n",
    "warnings.filterwarnings(\"ignore\")"
   ]
  },
  {
   "cell_type": "code",
   "execution_count": 92,
   "id": "5217cc3f",
   "metadata": {},
   "outputs": [],
   "source": [
    "df = pd.read_csv(\"../../data/frames_errors.csv\", header=None)\n",
    "df.columns = [\n",
    "    \"block_id\",\n",
    "    \"frame_idx\",\n",
    "    \"E_mu_Z\",\n",
    "    \"E_mu_phys_est\",\n",
    "    \"E_mu_X\",\n",
    "    \"E_nu1_X\",\n",
    "    \"E_nu2_X\",\n",
    "    \"E_nu1_Z\",\n",
    "    \"E_nu2_Z\",\n",
    "    \"N_mu_X\",\n",
    "    \"M_mu_XX\",\n",
    "    \"M_mu_XZ\",\n",
    "    \"M_mu_X\",\n",
    "    \"N_mu_Z\",\n",
    "    \"M_mu_ZZ\",\n",
    "    \"M_mu_Z\",\n",
    "    \"N_nu1_X\",\n",
    "    \"M_nu1_XX\",\n",
    "    \"M_nu1_XZ\",\n",
    "    \"M_nu1_X\",\n",
    "    \"N_nu1_Z\",\n",
    "    \"M_nu1_ZZ\",\n",
    "    \"M_nu1_Z\",\n",
    "    \"N_nu2_X\",\n",
    "    \"M_nu2_XX\",\n",
    "    \"M_nu2_XZ\",\n",
    "    \"M_nu2_X\",\n",
    "    \"N_nu2_Z\",\n",
    "    \"M_nu2_ZZ\",\n",
    "    \"M_nu2_Z\",\n",
    "    \"nTot\",\n",
    "    \"bayesImVoltage\",\n",
    "    \"opticalPower\",\n",
    "    \"polarizerVoltages[0]\",\n",
    "    \"polarizerVoltages[1]\",\n",
    "    \"polarizerVoltages[2]\",\n",
    "    \"polarizerVoltages[3]\",\n",
    "    \"temp_1\",\n",
    "    \"biasVoltage_1\",\n",
    "    \"temp_2\",\n",
    "    \"biasVoltage_2\",\n",
    "    \"synErr\",\n",
    "    \"N_EC_rounds\",\n",
    "    \"maintenance_flag\",\n",
    "    \"estimator_name\",\n",
    "    \"f_EC\",\n",
    "    \"E_mu_Z_est\",\n",
    "    \"R\",\n",
    "    \"s\",\n",
    "    \"p\",\n",
    "]"
   ]
  },
  {
   "cell_type": "code",
   "execution_count": 93,
   "id": "be9ac7ee",
   "metadata": {},
   "outputs": [],
   "source": [
    "id_features = [\n",
    "    \"block_id\",\n",
    "    \"frame_idx\",\n",
    "]\n",
    "\n",
    "phys_gt_features = [\n",
    "    \"E_mu_Z\",\n",
    "    \"E_mu_X\",\n",
    "    \"E_nu1_X\",\n",
    "    \"E_nu2_X\",\n",
    "    \"E_nu1_Z\",\n",
    "    \"E_nu2_Z\",\n",
    "    \"N_mu_X\",\n",
    "    \"M_mu_XX\",\n",
    "    \"M_mu_XZ\",\n",
    "    \"M_mu_X\",\n",
    "    \"N_mu_Z\",\n",
    "    \"M_mu_ZZ\",\n",
    "    \"M_mu_Z\",\n",
    "    \"N_nu1_X\",\n",
    "    \"M_nu1_XX\",\n",
    "    \"M_nu1_XZ\",\n",
    "    \"M_nu1_X\",\n",
    "    \"N_nu1_Z\",\n",
    "    \"M_nu1_ZZ\",\n",
    "    \"M_nu1_Z\",\n",
    "    \"N_nu2_X\",\n",
    "    \"M_nu2_XX\",\n",
    "    \"M_nu2_XZ\",\n",
    "    \"M_nu2_X\",\n",
    "    \"N_nu2_Z\",\n",
    "    \"M_nu2_ZZ\",\n",
    "    \"M_nu2_Z\",\n",
    "]\n",
    "\n",
    "phys_features = [\n",
    "    \"bayesImVoltage\",\n",
    "    \"opticalPower\",\n",
    "    \"polarizerVoltages[0]\",\n",
    "    \"polarizerVoltages[1]\",\n",
    "    \"polarizerVoltages[2]\",\n",
    "    \"polarizerVoltages[3]\",\n",
    "    \"temp_1\",\n",
    "    \"biasVoltage_1\",\n",
    "    \"temp_2\",\n",
    "    \"biasVoltage_2\",\n",
    "]\n",
    "\n",
    "est_features = [\n",
    "    # \"E_mu_phys_est\",\n",
    "    \"E_mu_Z_est\",\n",
    "    \"R\",\n",
    "    \"s\",\n",
    "    \"p\",\n",
    "]\n",
    "\n",
    "proxy_features = [\n",
    "    \"N_EC_rounds\",\n",
    "    # \"f_EC\",\n",
    "]\n",
    "\n",
    "df = df[id_features + phys_gt_features + phys_features + est_features + proxy_features]"
   ]
  },
  {
   "cell_type": "code",
   "execution_count": 94,
   "id": "477390ab",
   "metadata": {},
   "outputs": [],
   "source": [
    "# df = df.dropna(subset=[\"f_EC\"])"
   ]
  },
  {
   "cell_type": "code",
   "execution_count": 95,
   "id": "0961f92a",
   "metadata": {},
   "outputs": [
    {
     "name": "stdout",
     "output_type": "stream",
     "text": [
      "Столбцы с пропусками и их количество:\n",
      "Series([], dtype: int64)\n",
      "Количество фреймов / Количество рядов\n",
      "frame_idx\n",
      "399    569\n",
      "400    251\n",
      "398      2\n",
      "390      1\n",
      "Name: count, dtype: int64\n",
      "Shape: (328617, 44)\n"
     ]
    }
   ],
   "source": [
    "missing_counts = df.isna().sum()\n",
    "columns_with_missing = missing_counts[missing_counts > 0]\n",
    "print(\"Столбцы с пропусками и их количество:\")\n",
    "print(columns_with_missing)\n",
    "timestamp_counts = df.groupby(\"block_id\")[\"frame_idx\"].nunique()\n",
    "print(\"Количество фреймов / Количество рядов\")\n",
    "print(timestamp_counts.value_counts())\n",
    "print(\"Shape:\", df.shape)"
   ]
  },
  {
   "cell_type": "code",
   "execution_count": 96,
   "id": "b4633ca2",
   "metadata": {},
   "outputs": [],
   "source": [
    "def create_features(df, features, lag, window):\n",
    "    df = df.copy()\n",
    "    created_features = []\n",
    "\n",
    "    for feature in features:\n",
    "        for l in lag:\n",
    "            df[f\"{feature}_lag_{l}\"] = df.groupby(\"block_id\")[feature].shift(l)\n",
    "            created_features.append(f\"{feature}_lag_{l}\")\n",
    "        for w in window:\n",
    "            df[f\"{feature}_roll_mean_{w}\"] = (\n",
    "                df.groupby(\"block_id\")[feature].shift(1).rolling(window=w).mean()\n",
    "            )\n",
    "            created_features.append(f\"{feature}_roll_mean_{w}\")\n",
    "            df[f\"{feature}_roll_std_{w}\"] = (\n",
    "                df.groupby(\"block_id\")[feature].shift(1).rolling(window=w).std()\n",
    "            )\n",
    "            created_features.append(f\"{feature}_roll_std_{w}\")\n",
    "\n",
    "    df = df.bfill().ffill()\n",
    "    return df, created_features"
   ]
  },
  {
   "cell_type": "code",
   "execution_count": 73,
   "id": "58747efa",
   "metadata": {},
   "outputs": [
    {
     "name": "stdout",
     "output_type": "stream",
     "text": [
      "Созданные признаки: ['E_mu_Z_lag_2', 'E_mu_Z_lag_5', 'E_mu_Z_lag_10', 'E_mu_Z_lag_20', 'E_mu_Z_roll_mean_5', 'E_mu_Z_roll_std_5', 'E_mu_Z_roll_mean_10', 'E_mu_Z_roll_std_10', 'E_mu_X_lag_2', 'E_mu_X_lag_5', 'E_mu_X_lag_10', 'E_mu_X_lag_20', 'E_mu_X_roll_mean_5', 'E_mu_X_roll_std_5', 'E_mu_X_roll_mean_10', 'E_mu_X_roll_std_10', 'E_nu1_X_lag_2', 'E_nu1_X_lag_5', 'E_nu1_X_lag_10', 'E_nu1_X_lag_20', 'E_nu1_X_roll_mean_5', 'E_nu1_X_roll_std_5', 'E_nu1_X_roll_mean_10', 'E_nu1_X_roll_std_10', 'E_nu2_X_lag_2', 'E_nu2_X_lag_5', 'E_nu2_X_lag_10', 'E_nu2_X_lag_20', 'E_nu2_X_roll_mean_5', 'E_nu2_X_roll_std_5', 'E_nu2_X_roll_mean_10', 'E_nu2_X_roll_std_10', 'E_nu1_Z_lag_2', 'E_nu1_Z_lag_5', 'E_nu1_Z_lag_10', 'E_nu1_Z_lag_20', 'E_nu1_Z_roll_mean_5', 'E_nu1_Z_roll_std_5', 'E_nu1_Z_roll_mean_10', 'E_nu1_Z_roll_std_10', 'E_nu2_Z_lag_2', 'E_nu2_Z_lag_5', 'E_nu2_Z_lag_10', 'E_nu2_Z_lag_20', 'E_nu2_Z_roll_mean_5', 'E_nu2_Z_roll_std_5', 'E_nu2_Z_roll_mean_10', 'E_nu2_Z_roll_std_10', 'N_mu_X_lag_2', 'N_mu_X_lag_5', 'N_mu_X_lag_10', 'N_mu_X_lag_20', 'N_mu_X_roll_mean_5', 'N_mu_X_roll_std_5', 'N_mu_X_roll_mean_10', 'N_mu_X_roll_std_10', 'M_mu_XX_lag_2', 'M_mu_XX_lag_5', 'M_mu_XX_lag_10', 'M_mu_XX_lag_20', 'M_mu_XX_roll_mean_5', 'M_mu_XX_roll_std_5', 'M_mu_XX_roll_mean_10', 'M_mu_XX_roll_std_10', 'M_mu_XZ_lag_2', 'M_mu_XZ_lag_5', 'M_mu_XZ_lag_10', 'M_mu_XZ_lag_20', 'M_mu_XZ_roll_mean_5', 'M_mu_XZ_roll_std_5', 'M_mu_XZ_roll_mean_10', 'M_mu_XZ_roll_std_10', 'M_mu_X_lag_2', 'M_mu_X_lag_5', 'M_mu_X_lag_10', 'M_mu_X_lag_20', 'M_mu_X_roll_mean_5', 'M_mu_X_roll_std_5', 'M_mu_X_roll_mean_10', 'M_mu_X_roll_std_10', 'N_mu_Z_lag_2', 'N_mu_Z_lag_5', 'N_mu_Z_lag_10', 'N_mu_Z_lag_20', 'N_mu_Z_roll_mean_5', 'N_mu_Z_roll_std_5', 'N_mu_Z_roll_mean_10', 'N_mu_Z_roll_std_10', 'M_mu_ZZ_lag_2', 'M_mu_ZZ_lag_5', 'M_mu_ZZ_lag_10', 'M_mu_ZZ_lag_20', 'M_mu_ZZ_roll_mean_5', 'M_mu_ZZ_roll_std_5', 'M_mu_ZZ_roll_mean_10', 'M_mu_ZZ_roll_std_10', 'M_mu_Z_lag_2', 'M_mu_Z_lag_5', 'M_mu_Z_lag_10', 'M_mu_Z_lag_20', 'M_mu_Z_roll_mean_5', 'M_mu_Z_roll_std_5', 'M_mu_Z_roll_mean_10', 'M_mu_Z_roll_std_10', 'N_nu1_X_lag_2', 'N_nu1_X_lag_5', 'N_nu1_X_lag_10', 'N_nu1_X_lag_20', 'N_nu1_X_roll_mean_5', 'N_nu1_X_roll_std_5', 'N_nu1_X_roll_mean_10', 'N_nu1_X_roll_std_10', 'M_nu1_XX_lag_2', 'M_nu1_XX_lag_5', 'M_nu1_XX_lag_10', 'M_nu1_XX_lag_20', 'M_nu1_XX_roll_mean_5', 'M_nu1_XX_roll_std_5', 'M_nu1_XX_roll_mean_10', 'M_nu1_XX_roll_std_10', 'M_nu1_XZ_lag_2', 'M_nu1_XZ_lag_5', 'M_nu1_XZ_lag_10', 'M_nu1_XZ_lag_20', 'M_nu1_XZ_roll_mean_5', 'M_nu1_XZ_roll_std_5', 'M_nu1_XZ_roll_mean_10', 'M_nu1_XZ_roll_std_10', 'M_nu1_X_lag_2', 'M_nu1_X_lag_5', 'M_nu1_X_lag_10', 'M_nu1_X_lag_20', 'M_nu1_X_roll_mean_5', 'M_nu1_X_roll_std_5', 'M_nu1_X_roll_mean_10', 'M_nu1_X_roll_std_10', 'N_nu1_Z_lag_2', 'N_nu1_Z_lag_5', 'N_nu1_Z_lag_10', 'N_nu1_Z_lag_20', 'N_nu1_Z_roll_mean_5', 'N_nu1_Z_roll_std_5', 'N_nu1_Z_roll_mean_10', 'N_nu1_Z_roll_std_10', 'M_nu1_ZZ_lag_2', 'M_nu1_ZZ_lag_5', 'M_nu1_ZZ_lag_10', 'M_nu1_ZZ_lag_20', 'M_nu1_ZZ_roll_mean_5', 'M_nu1_ZZ_roll_std_5', 'M_nu1_ZZ_roll_mean_10', 'M_nu1_ZZ_roll_std_10', 'M_nu1_Z_lag_2', 'M_nu1_Z_lag_5', 'M_nu1_Z_lag_10', 'M_nu1_Z_lag_20', 'M_nu1_Z_roll_mean_5', 'M_nu1_Z_roll_std_5', 'M_nu1_Z_roll_mean_10', 'M_nu1_Z_roll_std_10', 'N_nu2_X_lag_2', 'N_nu2_X_lag_5', 'N_nu2_X_lag_10', 'N_nu2_X_lag_20', 'N_nu2_X_roll_mean_5', 'N_nu2_X_roll_std_5', 'N_nu2_X_roll_mean_10', 'N_nu2_X_roll_std_10', 'M_nu2_XX_lag_2', 'M_nu2_XX_lag_5', 'M_nu2_XX_lag_10', 'M_nu2_XX_lag_20', 'M_nu2_XX_roll_mean_5', 'M_nu2_XX_roll_std_5', 'M_nu2_XX_roll_mean_10', 'M_nu2_XX_roll_std_10', 'M_nu2_XZ_lag_2', 'M_nu2_XZ_lag_5', 'M_nu2_XZ_lag_10', 'M_nu2_XZ_lag_20', 'M_nu2_XZ_roll_mean_5', 'M_nu2_XZ_roll_std_5', 'M_nu2_XZ_roll_mean_10', 'M_nu2_XZ_roll_std_10', 'M_nu2_X_lag_2', 'M_nu2_X_lag_5', 'M_nu2_X_lag_10', 'M_nu2_X_lag_20', 'M_nu2_X_roll_mean_5', 'M_nu2_X_roll_std_5', 'M_nu2_X_roll_mean_10', 'M_nu2_X_roll_std_10', 'N_nu2_Z_lag_2', 'N_nu2_Z_lag_5', 'N_nu2_Z_lag_10', 'N_nu2_Z_lag_20', 'N_nu2_Z_roll_mean_5', 'N_nu2_Z_roll_std_5', 'N_nu2_Z_roll_mean_10', 'N_nu2_Z_roll_std_10', 'M_nu2_ZZ_lag_2', 'M_nu2_ZZ_lag_5', 'M_nu2_ZZ_lag_10', 'M_nu2_ZZ_lag_20', 'M_nu2_ZZ_roll_mean_5', 'M_nu2_ZZ_roll_std_5', 'M_nu2_ZZ_roll_mean_10', 'M_nu2_ZZ_roll_std_10', 'M_nu2_Z_lag_2', 'M_nu2_Z_lag_5', 'M_nu2_Z_lag_10', 'M_nu2_Z_lag_20', 'M_nu2_Z_roll_mean_5', 'M_nu2_Z_roll_std_5', 'M_nu2_Z_roll_mean_10', 'M_nu2_Z_roll_std_10', 'bayesImVoltage_lag_2', 'bayesImVoltage_lag_5', 'bayesImVoltage_lag_10', 'bayesImVoltage_lag_20', 'bayesImVoltage_roll_mean_5', 'bayesImVoltage_roll_std_5', 'bayesImVoltage_roll_mean_10', 'bayesImVoltage_roll_std_10', 'opticalPower_lag_2', 'opticalPower_lag_5', 'opticalPower_lag_10', 'opticalPower_lag_20', 'opticalPower_roll_mean_5', 'opticalPower_roll_std_5', 'opticalPower_roll_mean_10', 'opticalPower_roll_std_10', 'polarizerVoltages[0]_lag_2', 'polarizerVoltages[0]_lag_5', 'polarizerVoltages[0]_lag_10', 'polarizerVoltages[0]_lag_20', 'polarizerVoltages[0]_roll_mean_5', 'polarizerVoltages[0]_roll_std_5', 'polarizerVoltages[0]_roll_mean_10', 'polarizerVoltages[0]_roll_std_10', 'polarizerVoltages[1]_lag_2', 'polarizerVoltages[1]_lag_5', 'polarizerVoltages[1]_lag_10', 'polarizerVoltages[1]_lag_20', 'polarizerVoltages[1]_roll_mean_5', 'polarizerVoltages[1]_roll_std_5', 'polarizerVoltages[1]_roll_mean_10', 'polarizerVoltages[1]_roll_std_10', 'polarizerVoltages[2]_lag_2', 'polarizerVoltages[2]_lag_5', 'polarizerVoltages[2]_lag_10', 'polarizerVoltages[2]_lag_20', 'polarizerVoltages[2]_roll_mean_5', 'polarizerVoltages[2]_roll_std_5', 'polarizerVoltages[2]_roll_mean_10', 'polarizerVoltages[2]_roll_std_10', 'polarizerVoltages[3]_lag_2', 'polarizerVoltages[3]_lag_5', 'polarizerVoltages[3]_lag_10', 'polarizerVoltages[3]_lag_20', 'polarizerVoltages[3]_roll_mean_5', 'polarizerVoltages[3]_roll_std_5', 'polarizerVoltages[3]_roll_mean_10', 'polarizerVoltages[3]_roll_std_10', 'temp_1_lag_2', 'temp_1_lag_5', 'temp_1_lag_10', 'temp_1_lag_20', 'temp_1_roll_mean_5', 'temp_1_roll_std_5', 'temp_1_roll_mean_10', 'temp_1_roll_std_10', 'biasVoltage_1_lag_2', 'biasVoltage_1_lag_5', 'biasVoltage_1_lag_10', 'biasVoltage_1_lag_20', 'biasVoltage_1_roll_mean_5', 'biasVoltage_1_roll_std_5', 'biasVoltage_1_roll_mean_10', 'biasVoltage_1_roll_std_10', 'temp_2_lag_2', 'temp_2_lag_5', 'temp_2_lag_10', 'temp_2_lag_20', 'temp_2_roll_mean_5', 'temp_2_roll_std_5', 'temp_2_roll_mean_10', 'temp_2_roll_std_10', 'biasVoltage_2_lag_2', 'biasVoltage_2_lag_5', 'biasVoltage_2_lag_10', 'biasVoltage_2_lag_20', 'biasVoltage_2_roll_mean_5', 'biasVoltage_2_roll_std_5', 'biasVoltage_2_roll_mean_10', 'biasVoltage_2_roll_std_10', 'E_mu_Z_est_lag_2', 'E_mu_Z_est_lag_5', 'E_mu_Z_est_lag_10', 'E_mu_Z_est_lag_20', 'E_mu_Z_est_roll_mean_5', 'E_mu_Z_est_roll_std_5', 'E_mu_Z_est_roll_mean_10', 'E_mu_Z_est_roll_std_10', 'R_lag_2', 'R_lag_5', 'R_lag_10', 'R_lag_20', 'R_roll_mean_5', 'R_roll_std_5', 'R_roll_mean_10', 'R_roll_std_10', 's_lag_2', 's_lag_5', 's_lag_10', 's_lag_20', 's_roll_mean_5', 's_roll_std_5', 's_roll_mean_10', 's_roll_std_10', 'p_lag_2', 'p_lag_5', 'p_lag_10', 'p_lag_20', 'p_roll_mean_5', 'p_roll_std_5', 'p_roll_mean_10', 'p_roll_std_10']\n"
     ]
    }
   ],
   "source": [
    "features_to_create = phys_gt_features + phys_features + est_features\n",
    "df, created_features = create_features(df, features_to_create, lag=[2, 5, 10, 20], window=[5, 10])\n",
    "print(\"Созданные признаки:\", created_features)"
   ]
  },
  {
   "cell_type": "code",
   "execution_count": 97,
   "id": "65bfb16d",
   "metadata": {},
   "outputs": [
    {
     "name": "stdout",
     "output_type": "stream",
     "text": [
      "Train: 106372\n",
      "Test: 2000\n"
     ]
    }
   ],
   "source": [
    "# Test (Val)\n",
    "start_idx = df[(df[\"block_id\"] == 1489460492) & (df[\"frame_idx\"] == 99)].index[0]\n",
    "end_idx = df[(df[\"block_id\"] == 1840064900) & (df[\"frame_idx\"] == 101)].index[0]\n",
    "\n",
    "test_df = df.loc[start_idx:end_idx].copy()\n",
    "assert len(test_df) == 2000, \"Test (Val) set size is not 2000 rows\"\n",
    "\n",
    "# Train\n",
    "all_block_ids = df[\"block_id\"].unique()\n",
    "train_blocks = [bid for bid in all_block_ids if bid not in test_df[\"block_id\"].values]\n",
    "train_df = df[df[\"block_id\"].isin(train_blocks)]\n",
    "train_df = train_df[(train_df[\"N_EC_rounds\"] == 1)]\n",
    "\n",
    "print(f\"Train: {len(train_df)}\")\n",
    "print(f\"Test: {len(test_df)}\")\n"
   ]
  },
  {
   "cell_type": "markdown",
   "id": "e113fdf8",
   "metadata": {},
   "source": [
    "# Catboost E_mu_Z"
   ]
  },
  {
   "cell_type": "code",
   "execution_count": 75,
   "id": "4fb734b8",
   "metadata": {},
   "outputs": [],
   "source": [
    "features_in = created_features + phys_features\n",
    "\n",
    "X_train = train_df[features_in]\n",
    "y_train = train_df[\"E_mu_Z_est\"]\n",
    "X_test = test_df[features_in]\n",
    "y_test = test_df[\"E_mu_Z_est\"]"
   ]
  },
  {
   "cell_type": "code",
   "execution_count": 76,
   "id": "b16ea4b8",
   "metadata": {},
   "outputs": [
    {
     "name": "stdout",
     "output_type": "stream",
     "text": [
      "0:\tlearn: 0.0125286\ttest: 0.0033744\tbest: 0.0033744 (0)\ttotal: 21.8ms\tremaining: 1m 48s\n",
      "100:\tlearn: 0.0007895\ttest: 0.0004905\tbest: 0.0004905 (100)\ttotal: 1.97s\tremaining: 1m 35s\n",
      "200:\tlearn: 0.0006264\ttest: 0.0004116\tbest: 0.0004115 (199)\ttotal: 3.78s\tremaining: 1m 30s\n",
      "300:\tlearn: 0.0005483\ttest: 0.0003865\tbest: 0.0003865 (300)\ttotal: 5.68s\tremaining: 1m 28s\n",
      "400:\tlearn: 0.0004999\ttest: 0.0003683\tbest: 0.0003683 (400)\ttotal: 7.66s\tremaining: 1m 27s\n",
      "500:\tlearn: 0.0004639\ttest: 0.0003555\tbest: 0.0003555 (500)\ttotal: 9.77s\tremaining: 1m 27s\n",
      "600:\tlearn: 0.0004344\ttest: 0.0003427\tbest: 0.0003425 (596)\ttotal: 11.7s\tremaining: 1m 25s\n",
      "700:\tlearn: 0.0004097\ttest: 0.0003304\tbest: 0.0003304 (700)\ttotal: 13.8s\tremaining: 1m 24s\n",
      "800:\tlearn: 0.0003886\ttest: 0.0003183\tbest: 0.0003183 (800)\ttotal: 15.8s\tremaining: 1m 22s\n",
      "900:\tlearn: 0.0003714\ttest: 0.0003075\tbest: 0.0003075 (899)\ttotal: 17.9s\tremaining: 1m 21s\n",
      "1000:\tlearn: 0.0003568\ttest: 0.0002986\tbest: 0.0002986 (1000)\ttotal: 20s\tremaining: 1m 20s\n",
      "1100:\tlearn: 0.0003432\ttest: 0.0002923\tbest: 0.0002922 (1099)\ttotal: 22.1s\tremaining: 1m 18s\n",
      "1200:\tlearn: 0.0003309\ttest: 0.0002867\tbest: 0.0002867 (1200)\ttotal: 24.1s\tremaining: 1m 16s\n",
      "1300:\tlearn: 0.0003204\ttest: 0.0002793\tbest: 0.0002793 (1299)\ttotal: 26.2s\tremaining: 1m 14s\n",
      "1400:\tlearn: 0.0003104\ttest: 0.0002730\tbest: 0.0002730 (1400)\ttotal: 28.3s\tremaining: 1m 12s\n",
      "1500:\tlearn: 0.0003014\ttest: 0.0002688\tbest: 0.0002688 (1498)\ttotal: 30.3s\tremaining: 1m 10s\n",
      "1600:\tlearn: 0.0002935\ttest: 0.0002643\tbest: 0.0002643 (1600)\ttotal: 32.4s\tremaining: 1m 8s\n",
      "1700:\tlearn: 0.0002855\ttest: 0.0002599\tbest: 0.0002599 (1700)\ttotal: 34.4s\tremaining: 1m 6s\n",
      "1800:\tlearn: 0.0002783\ttest: 0.0002567\tbest: 0.0002567 (1800)\ttotal: 36.5s\tremaining: 1m 4s\n",
      "1900:\tlearn: 0.0002720\ttest: 0.0002515\tbest: 0.0002515 (1898)\ttotal: 38.6s\tremaining: 1m 2s\n",
      "2000:\tlearn: 0.0002661\ttest: 0.0002477\tbest: 0.0002477 (1999)\ttotal: 40.8s\tremaining: 1m 1s\n",
      "2100:\tlearn: 0.0002607\ttest: 0.0002432\tbest: 0.0002432 (2099)\ttotal: 42.9s\tremaining: 59.2s\n",
      "2200:\tlearn: 0.0002552\ttest: 0.0002401\tbest: 0.0002401 (2198)\ttotal: 45s\tremaining: 57.2s\n",
      "2300:\tlearn: 0.0002503\ttest: 0.0002372\tbest: 0.0002372 (2300)\ttotal: 47s\tremaining: 55.1s\n",
      "2400:\tlearn: 0.0002459\ttest: 0.0002349\tbest: 0.0002349 (2398)\ttotal: 49.1s\tremaining: 53.2s\n",
      "2500:\tlearn: 0.0002414\ttest: 0.0002328\tbest: 0.0002328 (2499)\ttotal: 51.2s\tremaining: 51.1s\n",
      "2600:\tlearn: 0.0002372\ttest: 0.0002305\tbest: 0.0002305 (2600)\ttotal: 53.1s\tremaining: 49s\n",
      "2700:\tlearn: 0.0002333\ttest: 0.0002283\tbest: 0.0002283 (2700)\ttotal: 55.2s\tremaining: 47s\n",
      "2800:\tlearn: 0.0002296\ttest: 0.0002257\tbest: 0.0002257 (2789)\ttotal: 57.3s\tremaining: 45s\n",
      "2900:\tlearn: 0.0002260\ttest: 0.0002238\tbest: 0.0002238 (2900)\ttotal: 59.7s\tremaining: 43.2s\n",
      "3000:\tlearn: 0.0002228\ttest: 0.0002217\tbest: 0.0002217 (3000)\ttotal: 1m 2s\tremaining: 41.4s\n",
      "3100:\tlearn: 0.0002198\ttest: 0.0002201\tbest: 0.0002201 (3099)\ttotal: 1m 4s\tremaining: 39.3s\n",
      "3200:\tlearn: 0.0002168\ttest: 0.0002190\tbest: 0.0002190 (3197)\ttotal: 1m 6s\tremaining: 37.2s\n",
      "3300:\tlearn: 0.0002139\ttest: 0.0002170\tbest: 0.0002170 (3300)\ttotal: 1m 8s\tremaining: 35.1s\n",
      "3400:\tlearn: 0.0002112\ttest: 0.0002156\tbest: 0.0002155 (3399)\ttotal: 1m 10s\tremaining: 33.2s\n",
      "3500:\tlearn: 0.0002085\ttest: 0.0002142\tbest: 0.0002141 (3499)\ttotal: 1m 12s\tremaining: 31.2s\n",
      "3600:\tlearn: 0.0002060\ttest: 0.0002129\tbest: 0.0002128 (3599)\ttotal: 1m 15s\tremaining: 29.1s\n",
      "3700:\tlearn: 0.0002037\ttest: 0.0002113\tbest: 0.0002113 (3700)\ttotal: 1m 17s\tremaining: 27.1s\n",
      "3800:\tlearn: 0.0002014\ttest: 0.0002101\tbest: 0.0002101 (3800)\ttotal: 1m 19s\tremaining: 25s\n",
      "3900:\tlearn: 0.0001992\ttest: 0.0002091\tbest: 0.0002091 (3900)\ttotal: 1m 21s\tremaining: 22.9s\n",
      "4000:\tlearn: 0.0001970\ttest: 0.0002079\tbest: 0.0002079 (3997)\ttotal: 1m 23s\tremaining: 20.8s\n",
      "4100:\tlearn: 0.0001951\ttest: 0.0002068\tbest: 0.0002068 (4098)\ttotal: 1m 25s\tremaining: 18.7s\n",
      "4200:\tlearn: 0.0001932\ttest: 0.0002056\tbest: 0.0002056 (4195)\ttotal: 1m 27s\tremaining: 16.7s\n",
      "4300:\tlearn: 0.0001915\ttest: 0.0002047\tbest: 0.0002047 (4298)\ttotal: 1m 29s\tremaining: 14.6s\n",
      "4400:\tlearn: 0.0001899\ttest: 0.0002037\tbest: 0.0002037 (4399)\ttotal: 1m 31s\tremaining: 12.5s\n",
      "4500:\tlearn: 0.0001883\ttest: 0.0002031\tbest: 0.0002031 (4491)\ttotal: 1m 34s\tremaining: 10.4s\n",
      "4600:\tlearn: 0.0001867\ttest: 0.0002020\tbest: 0.0002020 (4599)\ttotal: 1m 36s\tremaining: 8.34s\n",
      "4700:\tlearn: 0.0001851\ttest: 0.0002015\tbest: 0.0002014 (4695)\ttotal: 1m 38s\tremaining: 6.25s\n",
      "4800:\tlearn: 0.0001836\ttest: 0.0002008\tbest: 0.0002008 (4798)\ttotal: 1m 40s\tremaining: 4.16s\n",
      "4900:\tlearn: 0.0001822\ttest: 0.0002000\tbest: 0.0002000 (4900)\ttotal: 1m 42s\tremaining: 2.07s\n",
      "4999:\tlearn: 0.0001809\ttest: 0.0001990\tbest: 0.0001990 (4989)\ttotal: 1m 44s\tremaining: 0us\n",
      "\n",
      "bestTest = 0.0001990206751\n",
      "bestIteration = 4989\n",
      "\n",
      "Shrink model to first 4990 iterations.\n"
     ]
    },
    {
     "data": {
      "text/plain": [
       "<catboost.core.CatBoostRegressor at 0x7d209a6b8bc0>"
      ]
     },
     "execution_count": 76,
     "metadata": {},
     "output_type": "execute_result"
    }
   ],
   "source": [
    "model_E_mu_Z = CatBoostRegressor(\n",
    "    iterations=5000,\n",
    "    learning_rate=0.05,\n",
    "    loss_function=\"RMSE\",\n",
    "    verbose=100,\n",
    "    random_state=42,\n",
    ")\n",
    "\n",
    "model_E_mu_Z.fit(\n",
    "    X_train,\n",
    "    y_train,\n",
    "    eval_set=(X_test, y_test),\n",
    ")"
   ]
  },
  {
   "cell_type": "code",
   "execution_count": 77,
   "id": "f59d660c",
   "metadata": {},
   "outputs": [],
   "source": [
    "E_mu_Z_pred = model_E_mu_Z.predict(X_test)"
   ]
  },
  {
   "cell_type": "markdown",
   "id": "0621a850",
   "metadata": {},
   "source": [
    "# CatBoost R"
   ]
  },
  {
   "cell_type": "code",
   "execution_count": 78,
   "id": "695da611",
   "metadata": {},
   "outputs": [],
   "source": [
    "features_in = created_features + phys_features + [\"E_mu_Z_est\"]\n",
    "\n",
    "X_train = train_df[features_in]\n",
    "y_train = train_df[\"R\"]\n",
    "X_test = test_df[features_in]\n",
    "y_test = test_df[\"R\"]"
   ]
  },
  {
   "cell_type": "code",
   "execution_count": 79,
   "id": "d0f928b3",
   "metadata": {},
   "outputs": [
    {
     "name": "stdout",
     "output_type": "stream",
     "text": [
      "{0.5: 0, 0.55: 1, 0.6: 2, 0.65: 3, 0.7: 4, 0.75: 5, 0.8: 6, 0.85: 7}\n"
     ]
    }
   ],
   "source": [
    "le = LabelEncoder()\n",
    "y_train = le.fit_transform(y_train)\n",
    "y_test = le.transform(y_test)\n",
    "print(dict(zip(le.classes_, le.transform(le.classes_))))"
   ]
  },
  {
   "cell_type": "code",
   "execution_count": 80,
   "id": "651e196b",
   "metadata": {},
   "outputs": [
    {
     "name": "stdout",
     "output_type": "stream",
     "text": [
      "0:\tlearn: 0.9922254\ttest: 1.0000000\tbest: 1.0000000 (0)\ttotal: 201ms\tremaining: 1m 40s\n",
      "100:\tlearn: 0.9980070\ttest: 1.0000000\tbest: 1.0000000 (0)\ttotal: 13.9s\tremaining: 54.7s\n",
      "200:\tlearn: 0.9983830\ttest: 1.0000000\tbest: 1.0000000 (0)\ttotal: 25.9s\tremaining: 38.6s\n",
      "300:\tlearn: 0.9985993\ttest: 1.0000000\tbest: 1.0000000 (0)\ttotal: 37.6s\tremaining: 24.8s\n",
      "400:\tlearn: 0.9987967\ttest: 1.0000000\tbest: 1.0000000 (0)\ttotal: 48.6s\tremaining: 12s\n",
      "499:\tlearn: 0.9989189\ttest: 1.0000000\tbest: 1.0000000 (0)\ttotal: 59.3s\tremaining: 0us\n",
      "\n",
      "bestTest = 1\n",
      "bestIteration = 0\n",
      "\n",
      "Shrink model to first 1 iterations.\n"
     ]
    },
    {
     "data": {
      "text/plain": [
       "<catboost.core.CatBoostClassifier at 0x7d209a6bc590>"
      ]
     },
     "execution_count": 80,
     "metadata": {},
     "output_type": "execute_result"
    }
   ],
   "source": [
    "model_R = CatBoostClassifier(\n",
    "    iterations=500,\n",
    "    learning_rate=0.05,\n",
    "    loss_function=\"MultiClass\",\n",
    "    eval_metric=\"Accuracy\",\n",
    "    verbose=100,\n",
    "    random_state=42,\n",
    ")\n",
    "\n",
    "model_R.fit(\n",
    "    X_train,\n",
    "    y_train,\n",
    "    eval_set=(X_test, y_test),\n",
    ")"
   ]
  },
  {
   "cell_type": "code",
   "execution_count": 81,
   "id": "1112f9ac",
   "metadata": {},
   "outputs": [],
   "source": [
    "R_pred_labels = model_R.predict(X_test).flatten()\n",
    "\n",
    "R_pred = le.inverse_transform(R_pred_labels)"
   ]
  },
  {
   "cell_type": "markdown",
   "id": "b68c1e9c",
   "metadata": {},
   "source": [
    "# CatBoost s p"
   ]
  },
  {
   "cell_type": "code",
   "execution_count": 82,
   "id": "af616caa",
   "metadata": {},
   "outputs": [],
   "source": [
    "features_in = phys_features + created_features + [\"E_mu_Z_est\", \"R\"]\n",
    "\n",
    "X_train = train_df[features_in]\n",
    "y_train = train_df[\"s\"]\n",
    "X_test = test_df[features_in]\n",
    "y_test = test_df[\"s\"]"
   ]
  },
  {
   "cell_type": "code",
   "execution_count": 87,
   "id": "da15e7b4",
   "metadata": {},
   "outputs": [
    {
     "name": "stdout",
     "output_type": "stream",
     "text": [
      "0:\tlearn: 567.3076935\ttest: 597.1882999\tbest: 597.1882999 (0)\ttotal: 32.8ms\tremaining: 5m 28s\n",
      "100:\tlearn: 66.5062908\ttest: 24.9618496\tbest: 24.9618496 (100)\ttotal: 2.45s\tremaining: 4m\n",
      "200:\tlearn: 39.3805438\ttest: 12.3436447\tbest: 12.3436447 (200)\ttotal: 4.46s\tremaining: 3m 37s\n",
      "300:\tlearn: 33.8141622\ttest: 10.4049177\tbest: 10.4046594 (299)\ttotal: 6.38s\tremaining: 3m 25s\n",
      "400:\tlearn: 30.4133167\ttest: 8.8856792\tbest: 8.8851536 (397)\ttotal: 8.3s\tremaining: 3m 18s\n",
      "500:\tlearn: 27.7442443\ttest: 8.0539311\tbest: 8.0539311 (500)\ttotal: 10.3s\tremaining: 3m 14s\n",
      "600:\tlearn: 25.4336661\ttest: 7.4554134\tbest: 7.4554134 (600)\ttotal: 12.7s\tremaining: 3m 18s\n",
      "700:\tlearn: 23.8988138\ttest: 6.7984721\tbest: 6.7983600 (694)\ttotal: 15.2s\tremaining: 3m 21s\n",
      "800:\tlearn: 22.7076845\ttest: 6.4307647\tbest: 6.4307153 (798)\ttotal: 17.2s\tremaining: 3m 17s\n",
      "900:\tlearn: 21.5307321\ttest: 6.1641493\tbest: 6.1633803 (897)\ttotal: 18.9s\tremaining: 3m 11s\n",
      "1000:\tlearn: 20.5560124\ttest: 5.9263910\tbest: 5.9256727 (990)\ttotal: 20.8s\tremaining: 3m 7s\n",
      "1100:\tlearn: 19.6598560\ttest: 5.7219899\tbest: 5.7219899 (1100)\ttotal: 22.6s\tremaining: 3m 2s\n",
      "1200:\tlearn: 18.7060932\ttest: 5.5310993\tbest: 5.5309116 (1199)\ttotal: 24.5s\tremaining: 2m 59s\n",
      "1300:\tlearn: 17.9849631\ttest: 5.3545814\tbest: 5.3545814 (1300)\ttotal: 26.4s\tremaining: 2m 56s\n",
      "1400:\tlearn: 17.2163056\ttest: 5.1935278\tbest: 5.1935278 (1400)\ttotal: 28.2s\tremaining: 2m 53s\n",
      "1500:\tlearn: 16.6227612\ttest: 5.0747179\tbest: 5.0744536 (1492)\ttotal: 29.9s\tremaining: 2m 49s\n",
      "1600:\tlearn: 15.9949350\ttest: 4.9322424\tbest: 4.9322424 (1600)\ttotal: 31.6s\tremaining: 2m 45s\n",
      "1700:\tlearn: 15.4730094\ttest: 4.7918197\tbest: 4.7916469 (1698)\ttotal: 33.3s\tremaining: 2m 42s\n",
      "1800:\tlearn: 14.9828037\ttest: 4.7408611\tbest: 4.7408611 (1800)\ttotal: 35s\tremaining: 2m 39s\n",
      "1900:\tlearn: 14.5004527\ttest: 4.5954810\tbest: 4.5951769 (1898)\ttotal: 36.7s\tremaining: 2m 36s\n",
      "2000:\tlearn: 14.0761544\ttest: 4.4678963\tbest: 4.4678963 (2000)\ttotal: 38.6s\tremaining: 2m 34s\n",
      "2100:\tlearn: 13.6396112\ttest: 4.3386084\tbest: 4.3385257 (2091)\ttotal: 40.3s\tremaining: 2m 31s\n",
      "2200:\tlearn: 13.2662505\ttest: 4.2570170\tbest: 4.2570170 (2200)\ttotal: 42s\tremaining: 2m 28s\n",
      "2300:\tlearn: 12.9213489\ttest: 4.1631041\tbest: 4.1629110 (2296)\ttotal: 43.6s\tremaining: 2m 26s\n",
      "2400:\tlearn: 12.6149533\ttest: 4.0996242\tbest: 4.0993820 (2395)\ttotal: 45.7s\tremaining: 2m 24s\n",
      "2500:\tlearn: 12.3443005\ttest: 4.0404749\tbest: 4.0404735 (2497)\ttotal: 47.4s\tremaining: 2m 22s\n",
      "2600:\tlearn: 12.0930487\ttest: 4.0002370\tbest: 3.9993421 (2579)\ttotal: 49.5s\tremaining: 2m 20s\n",
      "2700:\tlearn: 11.8088824\ttest: 3.9367598\tbest: 3.9367490 (2699)\ttotal: 51.4s\tremaining: 2m 18s\n",
      "2800:\tlearn: 11.5475949\ttest: 3.8604662\tbest: 3.8604662 (2800)\ttotal: 53.3s\tremaining: 2m 16s\n",
      "2900:\tlearn: 11.2927968\ttest: 3.8296116\tbest: 3.8295125 (2896)\ttotal: 54.9s\tremaining: 2m 14s\n",
      "3000:\tlearn: 11.0483835\ttest: 3.7743729\tbest: 3.7743025 (2998)\ttotal: 56.7s\tremaining: 2m 12s\n",
      "3100:\tlearn: 10.8350214\ttest: 3.7210190\tbest: 3.7210190 (3100)\ttotal: 58.7s\tremaining: 2m 10s\n",
      "3200:\tlearn: 10.6208115\ttest: 3.6438022\tbest: 3.6433513 (3196)\ttotal: 1m\tremaining: 2m 9s\n",
      "3300:\tlearn: 10.4194468\ttest: 3.6048071\tbest: 3.6048071 (3300)\ttotal: 1m 2s\tremaining: 2m 7s\n",
      "3400:\tlearn: 10.2125520\ttest: 3.5843005\tbest: 3.5843005 (3400)\ttotal: 1m 4s\tremaining: 2m 5s\n",
      "3500:\tlearn: 10.0143177\ttest: 3.5370460\tbest: 3.5370460 (3500)\ttotal: 1m 6s\tremaining: 2m 4s\n",
      "3600:\tlearn: 9.8283044\ttest: 3.5097358\tbest: 3.5097004 (3599)\ttotal: 1m 9s\tremaining: 2m 3s\n",
      "3700:\tlearn: 9.6594624\ttest: 3.4791005\tbest: 3.4791005 (3700)\ttotal: 1m 12s\tremaining: 2m 2s\n",
      "3800:\tlearn: 9.4923192\ttest: 3.4519564\tbest: 3.4519528 (3799)\ttotal: 1m 15s\tremaining: 2m 3s\n",
      "3900:\tlearn: 9.3442566\ttest: 3.4165227\tbest: 3.4165227 (3900)\ttotal: 1m 19s\tremaining: 2m 3s\n",
      "4000:\tlearn: 9.1819765\ttest: 3.3916212\tbest: 3.3916212 (4000)\ttotal: 1m 22s\tremaining: 2m 3s\n",
      "4100:\tlearn: 9.0503160\ttest: 3.3636443\tbest: 3.3636443 (4100)\ttotal: 1m 25s\tremaining: 2m 3s\n",
      "4200:\tlearn: 8.9220971\ttest: 3.3400349\tbest: 3.3399702 (4198)\ttotal: 1m 29s\tremaining: 2m 2s\n",
      "4300:\tlearn: 8.7900686\ttest: 3.3181328\tbest: 3.3179194 (4295)\ttotal: 1m 32s\tremaining: 2m 2s\n",
      "4400:\tlearn: 8.6615859\ttest: 3.2947610\tbest: 3.2946990 (4398)\ttotal: 1m 35s\tremaining: 2m 1s\n",
      "4500:\tlearn: 8.5506413\ttest: 3.2716634\tbest: 3.2714237 (4496)\ttotal: 1m 39s\tremaining: 2m 1s\n",
      "4600:\tlearn: 8.4415472\ttest: 3.2526880\tbest: 3.2523583 (4582)\ttotal: 1m 43s\tremaining: 2m 1s\n",
      "4700:\tlearn: 8.3431431\ttest: 3.2350301\tbest: 3.2342708 (4681)\ttotal: 1m 47s\tremaining: 2m\n",
      "4800:\tlearn: 8.2474258\ttest: 3.2102816\tbest: 3.2102816 (4800)\ttotal: 1m 51s\tremaining: 2m\n",
      "4900:\tlearn: 8.1588711\ttest: 3.1904876\tbest: 3.1904876 (4900)\ttotal: 1m 55s\tremaining: 1m 59s\n",
      "5000:\tlearn: 8.0647085\ttest: 3.1745298\tbest: 3.1745298 (5000)\ttotal: 1m 58s\tremaining: 1m 58s\n",
      "5100:\tlearn: 7.9698189\ttest: 3.1645742\tbest: 3.1641974 (5092)\ttotal: 2m 1s\tremaining: 1m 56s\n",
      "5200:\tlearn: 7.8893551\ttest: 3.1414403\tbest: 3.1413535 (5199)\ttotal: 2m 4s\tremaining: 1m 54s\n",
      "5300:\tlearn: 7.8023440\ttest: 3.1229652\tbest: 3.1228392 (5298)\ttotal: 2m 7s\tremaining: 1m 53s\n",
      "5400:\tlearn: 7.7147927\ttest: 3.1126836\tbest: 3.1124615 (5390)\ttotal: 2m 10s\tremaining: 1m 51s\n",
      "5500:\tlearn: 7.6384246\ttest: 3.0930800\tbest: 3.0930227 (5499)\ttotal: 2m 13s\tremaining: 1m 48s\n",
      "5600:\tlearn: 7.5550664\ttest: 3.0817702\tbest: 3.0817507 (5599)\ttotal: 2m 15s\tremaining: 1m 46s\n",
      "5700:\tlearn: 7.4759647\ttest: 3.0747564\tbest: 3.0746221 (5691)\ttotal: 2m 17s\tremaining: 1m 43s\n",
      "5800:\tlearn: 7.4072074\ttest: 3.0478645\tbest: 3.0478645 (5800)\ttotal: 2m 19s\tremaining: 1m 41s\n",
      "5900:\tlearn: 7.3354539\ttest: 3.0382108\tbest: 3.0382074 (5898)\ttotal: 2m 21s\tremaining: 1m 38s\n",
      "6000:\tlearn: 7.2733357\ttest: 3.0217743\tbest: 3.0214862 (5989)\ttotal: 2m 23s\tremaining: 1m 35s\n",
      "6100:\tlearn: 7.2086660\ttest: 3.0111435\tbest: 3.0111284 (6098)\ttotal: 2m 25s\tremaining: 1m 33s\n",
      "6200:\tlearn: 7.1460385\ttest: 3.0009792\tbest: 3.0009782 (6199)\ttotal: 2m 27s\tremaining: 1m 30s\n",
      "6300:\tlearn: 7.0811366\ttest: 2.9906084\tbest: 2.9905834 (6296)\ttotal: 2m 29s\tremaining: 1m 27s\n",
      "6400:\tlearn: 7.0204664\ttest: 2.9826848\tbest: 2.9825097 (6393)\ttotal: 2m 31s\tremaining: 1m 25s\n",
      "6500:\tlearn: 6.9599502\ttest: 2.9790796\tbest: 2.9784152 (6485)\ttotal: 2m 33s\tremaining: 1m 22s\n",
      "6600:\tlearn: 6.9070519\ttest: 2.9673273\tbest: 2.9671370 (6594)\ttotal: 2m 35s\tremaining: 1m 20s\n",
      "6700:\tlearn: 6.8505687\ttest: 2.9594556\tbest: 2.9591896 (6676)\ttotal: 2m 37s\tremaining: 1m 17s\n",
      "6800:\tlearn: 6.7958024\ttest: 2.9523905\tbest: 2.9523482 (6795)\ttotal: 2m 39s\tremaining: 1m 15s\n",
      "6900:\tlearn: 6.7457715\ttest: 2.9403535\tbest: 2.9403416 (6894)\ttotal: 2m 41s\tremaining: 1m 12s\n",
      "7000:\tlearn: 6.6942141\ttest: 2.9339282\tbest: 2.9329963 (6970)\ttotal: 2m 43s\tremaining: 1m 10s\n",
      "7100:\tlearn: 6.6454581\ttest: 2.9261307\tbest: 2.9260077 (7099)\ttotal: 2m 45s\tremaining: 1m 7s\n",
      "7200:\tlearn: 6.6018216\ttest: 2.9151323\tbest: 2.9149679 (7196)\ttotal: 2m 47s\tremaining: 1m 5s\n",
      "7300:\tlearn: 6.5564765\ttest: 2.9043651\tbest: 2.9042080 (7290)\ttotal: 2m 49s\tremaining: 1m 2s\n",
      "7400:\tlearn: 6.5106439\ttest: 2.8981147\tbest: 2.8980419 (7396)\ttotal: 2m 51s\tremaining: 1m\n",
      "7500:\tlearn: 6.4698905\ttest: 2.8934291\tbest: 2.8933895 (7499)\ttotal: 2m 53s\tremaining: 57.9s\n",
      "7600:\tlearn: 6.4273356\ttest: 2.8857049\tbest: 2.8855739 (7593)\ttotal: 2m 55s\tremaining: 55.5s\n",
      "7700:\tlearn: 6.3865663\ttest: 2.8760216\tbest: 2.8759920 (7676)\ttotal: 2m 57s\tremaining: 53.1s\n",
      "7800:\tlearn: 6.3464409\ttest: 2.8704481\tbest: 2.8704481 (7800)\ttotal: 2m 59s\tremaining: 50.7s\n",
      "7900:\tlearn: 6.3042747\ttest: 2.8647017\tbest: 2.8636171 (7875)\ttotal: 3m 1s\tremaining: 48.3s\n",
      "8000:\tlearn: 6.2639655\ttest: 2.8592407\tbest: 2.8592407 (8000)\ttotal: 3m 3s\tremaining: 45.9s\n",
      "8100:\tlearn: 6.2251907\ttest: 2.8541072\tbest: 2.8539314 (8094)\ttotal: 3m 6s\tremaining: 43.6s\n",
      "8200:\tlearn: 6.1891973\ttest: 2.8454644\tbest: 2.8454644 (8200)\ttotal: 3m 7s\tremaining: 41.2s\n",
      "8300:\tlearn: 6.1532153\ttest: 2.8404704\tbest: 2.8404704 (8300)\ttotal: 3m 9s\tremaining: 38.8s\n",
      "8400:\tlearn: 6.1170157\ttest: 2.8337099\tbest: 2.8333228 (8391)\ttotal: 3m 11s\tremaining: 36.5s\n",
      "8500:\tlearn: 6.0848392\ttest: 2.8234365\tbest: 2.8233510 (8498)\ttotal: 3m 13s\tremaining: 34.1s\n",
      "8600:\tlearn: 6.0495217\ttest: 2.8212270\tbest: 2.8212259 (8599)\ttotal: 3m 15s\tremaining: 31.7s\n",
      "8700:\tlearn: 6.0165685\ttest: 2.8154149\tbest: 2.8154149 (8700)\ttotal: 3m 16s\tremaining: 29.4s\n",
      "8800:\tlearn: 5.9851464\ttest: 2.8086449\tbest: 2.8086032 (8797)\ttotal: 3m 18s\tremaining: 27.1s\n",
      "8900:\tlearn: 5.9552981\ttest: 2.8050419\tbest: 2.8050419 (8900)\ttotal: 3m 20s\tremaining: 24.8s\n",
      "9000:\tlearn: 5.9248900\ttest: 2.7992887\tbest: 2.7986957 (8960)\ttotal: 3m 22s\tremaining: 22.5s\n",
      "9100:\tlearn: 5.8933849\ttest: 2.7939692\tbest: 2.7937920 (9073)\ttotal: 3m 24s\tremaining: 20.2s\n",
      "9200:\tlearn: 5.8640955\ttest: 2.7899188\tbest: 2.7898000 (9170)\ttotal: 3m 26s\tremaining: 17.9s\n",
      "9300:\tlearn: 5.8353812\ttest: 2.7842561\tbest: 2.7841808 (9298)\ttotal: 3m 27s\tremaining: 15.6s\n",
      "9400:\tlearn: 5.8064386\ttest: 2.7804496\tbest: 2.7803872 (9387)\ttotal: 3m 29s\tremaining: 13.4s\n",
      "9500:\tlearn: 5.7790300\ttest: 2.7759959\tbest: 2.7759598 (9496)\ttotal: 3m 31s\tremaining: 11.1s\n",
      "9600:\tlearn: 5.7528433\ttest: 2.7706070\tbest: 2.7703984 (9598)\ttotal: 3m 33s\tremaining: 8.87s\n",
      "9700:\tlearn: 5.7236497\ttest: 2.7680764\tbest: 2.7677146 (9677)\ttotal: 3m 35s\tremaining: 6.63s\n",
      "9800:\tlearn: 5.6975868\ttest: 2.7643848\tbest: 2.7643848 (9800)\ttotal: 3m 36s\tremaining: 4.4s\n",
      "9900:\tlearn: 5.6718635\ttest: 2.7617108\tbest: 2.7614001 (9895)\ttotal: 3m 38s\tremaining: 2.19s\n",
      "9999:\tlearn: 5.6454911\ttest: 2.7549387\tbest: 2.7548312 (9995)\ttotal: 3m 40s\tremaining: 0us\n",
      "\n",
      "bestTest = 2.754831159\n",
      "bestIteration = 9995\n",
      "\n",
      "Shrink model to first 9996 iterations.\n"
     ]
    },
    {
     "data": {
      "text/plain": [
       "<catboost.core.CatBoostRegressor at 0x7d20b1d10ec0>"
      ]
     },
     "execution_count": 87,
     "metadata": {},
     "output_type": "execute_result"
    }
   ],
   "source": [
    "model_s_p = CatBoostRegressor(\n",
    "    iterations=10000,\n",
    "    learning_rate=0.04,\n",
    "    loss_function=\"RMSE\",\n",
    "    verbose=100,\n",
    "    random_state=42,\n",
    ")\n",
    "\n",
    "model_s_p.fit(\n",
    "    X_train,\n",
    "    y_train,\n",
    "    eval_set=(X_test, y_test),\n",
    ")"
   ]
  },
  {
   "cell_type": "code",
   "execution_count": 88,
   "id": "600ad366",
   "metadata": {},
   "outputs": [],
   "source": [
    "s_pred_float = model_s_p.predict(X_test)\n",
    "s_pred_int = np.round(s_pred_float).astype(int)"
   ]
  },
  {
   "cell_type": "code",
   "execution_count": 89,
   "id": "9ac0bf29",
   "metadata": {},
   "outputs": [],
   "source": [
    "p_pred_int = 4800 - s_pred_int"
   ]
  },
  {
   "cell_type": "code",
   "execution_count": 90,
   "id": "686660bc",
   "metadata": {},
   "outputs": [],
   "source": [
    "pd.DataFrame(data={\"E_mu_Z\": E_mu_Z_pred, \"R\": R_pred, \"s\": s_pred_int, \"p\": p_pred_int}).to_csv(\n",
    "    \"submission_3.csv\", header=False, index=False\n",
    ")"
   ]
  }
 ],
 "metadata": {
  "kernelspec": {
   "display_name": "ds-env",
   "language": "python",
   "name": "python3"
  },
  "language_info": {
   "codemirror_mode": {
    "name": "ipython",
    "version": 3
   },
   "file_extension": ".py",
   "mimetype": "text/x-python",
   "name": "python",
   "nbconvert_exporter": "python",
   "pygments_lexer": "ipython3",
   "version": "3.12.11"
  }
 },
 "nbformat": 4,
 "nbformat_minor": 5
}
