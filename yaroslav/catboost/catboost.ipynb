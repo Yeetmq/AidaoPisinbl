{
 "cells": [
  {
   "cell_type": "markdown",
   "id": "cc762b89",
   "metadata": {},
   "source": [
    "# Импорт библиотек"
   ]
  },
  {
   "cell_type": "code",
   "execution_count": 4,
   "id": "9c86f8bd",
   "metadata": {},
   "outputs": [],
   "source": [
    "import warnings\n",
    "import pandas as pd\n",
    "\n",
    "warnings.filterwarnings(\"ignore\")"
   ]
  },
  {
   "cell_type": "markdown",
   "id": "5289c9de",
   "metadata": {},
   "source": [
    "# Подготовка данных"
   ]
  },
  {
   "cell_type": "code",
   "execution_count": 5,
   "id": "5217cc3f",
   "metadata": {},
   "outputs": [],
   "source": [
    "df = pd.read_csv(\"../../data/frames_errors.csv\", header=None)\n",
    "df.columns = [\n",
    "    \"block_id\",  # ID блока\n",
    "    \"frame_idx\",  # ID фрейма в блоке\n",
    "    \"E_mu_Z\",  # Факт: Реальный QBER в Z-базисе\n",
    "    \"E_mu_phys_est\",  # Альтернативная оценка QBER, основанная на физических параметрах\n",
    "    \"E_mu_X\",  # Факт: Реальный QBER в X-базисе\n",
    "    \"E_nu1_X\",  # QBER для decoy-состояния nu1 в X-базисе\n",
    "    \"E_nu2_X\",  # QBER для decoy-состояния nu2 в X-базисе\n",
    "    \"E_nu1_Z\",  # QBER для decoy-состояния nu1 в Z-базисе\n",
    "    \"E_nu2_Z\",  # QBER для decoy-состояния nu2 в Z-базисе\n",
    "    \"N_mu_X\",  # Количество отправленных сигнальных состояний в X-базисе\n",
    "    \"M_mu_XX\",  # Количество принятых сигнальных состояний (отправлено в X, принято в X)\n",
    "    \"M_mu_XZ\",  # Количество принятых сигнальных состояний (отправлено в X, принято в Z)\n",
    "    \"M_mu_X\",  # Общее количество принятых сигнальных состояний в X-базисе\n",
    "    \"N_mu_Z\",  # Количество отправленных сигнальных состояний в Z-базисе\n",
    "    \"M_mu_ZZ\",  # Количество принятых сигнальных состояний (отправлено в Z, принято в Z)\n",
    "    \"M_mu_Z\",  # Общее количество принятых сигнальных состояний в Z-базисе\n",
    "    \"N_nu1_X\",  # Количество отправленных decoy-состояний nu1 в X-базисе\n",
    "    \"M_nu1_XX\",\n",
    "    \"M_nu1_XZ\",\n",
    "    \"M_nu1_X\",\n",
    "    \"N_nu1_Z\",\n",
    "    \"M_nu1_ZZ\",\n",
    "    \"M_nu1_Z\",\n",
    "    \"N_nu2_X\",\n",
    "    \"M_nu2_XX\",\n",
    "    \"M_nu2_XZ\",\n",
    "    \"M_nu2_X\",\n",
    "    \"N_nu2_Z\",\n",
    "    \"M_nu2_ZZ\",\n",
    "    \"M_nu2_Z\",\n",
    "    \"nTot\",  # Общее количество отправленных состояний\n",
    "    \"bayesImVoltage\",  # Напряжение на модуляторе интенсивности\n",
    "    \"opticalPower\",  # Оптическая мощность\n",
    "    \"polarizerVoltages[0]\",  # Напряжение на контроллере поляризации 0\n",
    "    \"polarizerVoltages[1]\",  # Напряжение на контроллере поляризации 1\n",
    "    \"polarizerVoltages[2]\",  # Напряжение на контроллере поляризации 2\n",
    "    \"polarizerVoltages[3]\",  # Напряжение на контроллере поляризации 3\n",
    "    \"temp_1\",  # Температура детектора 1\n",
    "    \"biasVoltage_1\",  # Напряжение смещения детектора 1\n",
    "    \"temp_2\",  # Температура детектора 2\n",
    "    \"biasVoltage_2\",  # Напряжение смещения детектора 2\n",
    "    \"synErr\",  # Кол-во ошибок в битах\n",
    "    \"N_EC_rounds\",  # Результат: Количество доп. раундов коррекции (индикатор сложности)\n",
    "    \"maintenance_flag\",  # Флаг технического обслуживания\n",
    "    \"estimator_name\",  # Название алгоритма, который выбрал параметры в реальности\n",
    "    \"f_EC\",  # Эффективность коррекции ошибок\n",
    "    \"E_mu_Z_est\",  # Предсказание: Оценка QBER, на основе которой были выбраны R, s, p\n",
    "    \"R\",  # Параметр: Скорость кода\n",
    "    \"s\",  # Параметр: Количество укороченных узлов\n",
    "    \"p\",  # Параметр: Количество проколотых узлов\n",
    "]"
   ]
  },
  {
   "cell_type": "code",
   "execution_count": null,
   "id": "0961f92a",
   "metadata": {},
   "outputs": [
    {
     "name": "stdout",
     "output_type": "stream",
     "text": [
      "Столбцы с пропусками и их количество:\n",
      "E_mu_phys_est    448\n",
      "f_EC             131\n",
      "dtype: int64\n"
     ]
    }
   ],
   "source": [
    "missing_counts = df.isna().sum()\n",
    "columns_with_missing = missing_counts[missing_counts > 0]\n",
    "print(\"Столбцы с пропусками и их количество:\")\n",
    "print(columns_with_missing)"
   ]
  },
  {
   "cell_type": "code",
   "execution_count": 8,
   "id": "e9dcf19f",
   "metadata": {},
   "outputs": [
    {
     "name": "stdout",
     "output_type": "stream",
     "text": [
      "Количество фреймов / Количество рядов\n",
      "frame_idx\n",
      "399    569\n",
      "400    251\n",
      "398      2\n",
      "390      1\n",
      "Name: count, dtype: int64\n"
     ]
    }
   ],
   "source": [
    "timestamp_counts = df.groupby(\"block_id\")[\"frame_idx\"].nunique()\n",
    "print(\"Количество фреймов / Количество рядов\")\n",
    "print(timestamp_counts.value_counts())"
   ]
  },
  {
   "cell_type": "markdown",
   "id": "e113fdf8",
   "metadata": {},
   "source": [
    "# Catboost R"
   ]
  },
  {
   "cell_type": "code",
   "execution_count": 14,
   "id": "19cefab4",
   "metadata": {},
   "outputs": [],
   "source": [
    "import numpy as np\n",
    "from catboost import CatBoostClassifier\n",
    "from sklearn.model_selection import train_test_split\n",
    "from sklearn.metrics import mean_squared_error\n",
    "from sklearn.metrics import accuracy_score, classification_report\n",
    "from sklearn.preprocessing import LabelEncoder"
   ]
  },
  {
   "cell_type": "code",
   "execution_count": null,
   "id": "4d9e8b77",
   "metadata": {},
   "outputs": [
    {
     "name": "stdout",
     "output_type": "stream",
     "text": [
      "Классы R и их метки:\n",
      "{0.5: 0, 0.55: 1, 0.6: 2, 0.65: 3, 0.7: 4, 0.75: 5, 0.8: 6, 0.85: 7}\n",
      "\n",
      "Начинаем обучение модели классификации R...\n",
      "0:\tlearn: 0.9955571\ttest: 0.9949397\tbest: 0.9949397 (0)\ttotal: 79.2ms\tremaining: 1m 19s\n",
      "100:\tlearn: 0.9985320\ttest: 0.9986587\tbest: 0.9986587 (68)\ttotal: 4.35s\tremaining: 38.7s\n",
      "200:\tlearn: 0.9985462\ttest: 0.9986587\tbest: 0.9986740 (185)\ttotal: 8.14s\tremaining: 32.4s\n",
      "300:\tlearn: 0.9986064\ttest: 0.9986740\tbest: 0.9986740 (185)\ttotal: 12.4s\tremaining: 28.8s\n",
      "400:\tlearn: 0.9986313\ttest: 0.9986740\tbest: 0.9986740 (185)\ttotal: 16s\tremaining: 23.9s\n",
      "500:\tlearn: 0.9986626\ttest: 0.9986587\tbest: 0.9986740 (185)\ttotal: 19.7s\tremaining: 19.6s\n",
      "600:\tlearn: 0.9986863\ttest: 0.9986282\tbest: 0.9986740 (185)\ttotal: 23.3s\tremaining: 15.4s\n",
      "700:\tlearn: 0.9987325\ttest: 0.9986282\tbest: 0.9986740 (185)\ttotal: 26.8s\tremaining: 11.4s\n",
      "800:\tlearn: 0.9987554\ttest: 0.9985825\tbest: 0.9986740 (185)\ttotal: 30.4s\tremaining: 7.56s\n",
      "900:\tlearn: 0.9988069\ttest: 0.9985825\tbest: 0.9986740 (185)\ttotal: 34s\tremaining: 3.73s\n",
      "999:\tlearn: 0.9988108\ttest: 0.9985520\tbest: 0.9986740 (185)\ttotal: 37.5s\tremaining: 0us\n",
      "\n",
      "bestTest = 0.9986739624\n",
      "bestIteration = 185\n",
      "\n",
      "Shrink model to first 186 iterations.\n",
      "\n",
      "Точность (Accuracy) модели на валидационной выборке: 0.9987\n",
      "\n",
      "Отчет по классификации:\n"
     ]
    },
    {
     "ename": "ValueError",
     "evalue": "continuous is not supported",
     "output_type": "error",
     "traceback": [
      "\u001b[31m---------------------------------------------------------------------------\u001b[39m",
      "\u001b[31mValueError\u001b[39m                                Traceback (most recent call last)",
      "\u001b[36mCell\u001b[39m\u001b[36m \u001b[39m\u001b[32mIn[18]\u001b[39m\u001b[32m, line 66\u001b[39m\n\u001b[32m     63\u001b[39m \u001b[38;5;28mprint\u001b[39m(\u001b[33mf\u001b[39m\u001b[33m\"\u001b[39m\u001b[38;5;130;01m\\n\u001b[39;00m\u001b[33mТочность (Accuracy) модели на валидационной выборке: \u001b[39m\u001b[38;5;132;01m{\u001b[39;00maccuracy\u001b[38;5;132;01m:\u001b[39;00m\u001b[33m.4f\u001b[39m\u001b[38;5;132;01m}\u001b[39;00m\u001b[33m\"\u001b[39m)\n\u001b[32m     65\u001b[39m \u001b[38;5;28mprint\u001b[39m(\u001b[33m\"\u001b[39m\u001b[38;5;130;01m\\n\u001b[39;00m\u001b[33mОтчет по классификации:\u001b[39m\u001b[33m\"\u001b[39m)\n\u001b[32m---> \u001b[39m\u001b[32m66\u001b[39m \u001b[38;5;28mprint\u001b[39m(\u001b[43mclassification_report\u001b[49m\u001b[43m(\u001b[49m\u001b[43my_val_R\u001b[49m\u001b[43m,\u001b[49m\u001b[43m \u001b[49m\u001b[43my_pred_R\u001b[49m\u001b[43m,\u001b[49m\u001b[43m \u001b[49m\u001b[43mtarget_names\u001b[49m\u001b[43m=\u001b[49m\u001b[43m[\u001b[49m\u001b[38;5;28;43mstr\u001b[39;49m\u001b[43m(\u001b[49m\u001b[43mc\u001b[49m\u001b[43m)\u001b[49m\u001b[43m \u001b[49m\u001b[38;5;28;43;01mfor\u001b[39;49;00m\u001b[43m \u001b[49m\u001b[43mc\u001b[49m\u001b[43m \u001b[49m\u001b[38;5;129;43;01min\u001b[39;49;00m\u001b[43m \u001b[49m\u001b[43mle\u001b[49m\u001b[43m.\u001b[49m\u001b[43mclasses_\u001b[49m\u001b[43m]\u001b[49m\u001b[43m)\u001b[49m)\n",
      "\u001b[36mFile \u001b[39m\u001b[32m~/miniconda3/envs/ds-env/lib/python3.12/site-packages/sklearn/utils/_param_validation.py:216\u001b[39m, in \u001b[36mvalidate_params.<locals>.decorator.<locals>.wrapper\u001b[39m\u001b[34m(*args, **kwargs)\u001b[39m\n\u001b[32m    210\u001b[39m \u001b[38;5;28;01mtry\u001b[39;00m:\n\u001b[32m    211\u001b[39m     \u001b[38;5;28;01mwith\u001b[39;00m config_context(\n\u001b[32m    212\u001b[39m         skip_parameter_validation=(\n\u001b[32m    213\u001b[39m             prefer_skip_nested_validation \u001b[38;5;129;01mor\u001b[39;00m global_skip_validation\n\u001b[32m    214\u001b[39m         )\n\u001b[32m    215\u001b[39m     ):\n\u001b[32m--> \u001b[39m\u001b[32m216\u001b[39m         \u001b[38;5;28;01mreturn\u001b[39;00m \u001b[43mfunc\u001b[49m\u001b[43m(\u001b[49m\u001b[43m*\u001b[49m\u001b[43margs\u001b[49m\u001b[43m,\u001b[49m\u001b[43m \u001b[49m\u001b[43m*\u001b[49m\u001b[43m*\u001b[49m\u001b[43mkwargs\u001b[49m\u001b[43m)\u001b[49m\n\u001b[32m    217\u001b[39m \u001b[38;5;28;01mexcept\u001b[39;00m InvalidParameterError \u001b[38;5;28;01mas\u001b[39;00m e:\n\u001b[32m    218\u001b[39m     \u001b[38;5;66;03m# When the function is just a wrapper around an estimator, we allow\u001b[39;00m\n\u001b[32m    219\u001b[39m     \u001b[38;5;66;03m# the function to delegate validation to the estimator, but we replace\u001b[39;00m\n\u001b[32m    220\u001b[39m     \u001b[38;5;66;03m# the name of the estimator by the name of the function in the error\u001b[39;00m\n\u001b[32m    221\u001b[39m     \u001b[38;5;66;03m# message to avoid confusion.\u001b[39;00m\n\u001b[32m    222\u001b[39m     msg = re.sub(\n\u001b[32m    223\u001b[39m         \u001b[33mr\u001b[39m\u001b[33m\"\u001b[39m\u001b[33mparameter of \u001b[39m\u001b[33m\\\u001b[39m\u001b[33mw+ must be\u001b[39m\u001b[33m\"\u001b[39m,\n\u001b[32m    224\u001b[39m         \u001b[33mf\u001b[39m\u001b[33m\"\u001b[39m\u001b[33mparameter of \u001b[39m\u001b[38;5;132;01m{\u001b[39;00mfunc.\u001b[34m__qualname__\u001b[39m\u001b[38;5;132;01m}\u001b[39;00m\u001b[33m must be\u001b[39m\u001b[33m\"\u001b[39m,\n\u001b[32m    225\u001b[39m         \u001b[38;5;28mstr\u001b[39m(e),\n\u001b[32m    226\u001b[39m     )\n",
      "\u001b[36mFile \u001b[39m\u001b[32m~/miniconda3/envs/ds-env/lib/python3.12/site-packages/sklearn/metrics/_classification.py:2671\u001b[39m, in \u001b[36mclassification_report\u001b[39m\u001b[34m(y_true, y_pred, labels, target_names, sample_weight, digits, output_dict, zero_division)\u001b[39m\n\u001b[32m   2563\u001b[39m \u001b[38;5;250m\u001b[39m\u001b[33;03m\"\"\"Build a text report showing the main classification metrics.\u001b[39;00m\n\u001b[32m   2564\u001b[39m \n\u001b[32m   2565\u001b[39m \u001b[33;03mRead more in the :ref:`User Guide <classification_report>`.\u001b[39;00m\n\u001b[32m   (...)\u001b[39m\u001b[32m   2667\u001b[39m \u001b[33;03m<BLANKLINE>\u001b[39;00m\n\u001b[32m   2668\u001b[39m \u001b[33;03m\"\"\"\u001b[39;00m\n\u001b[32m   2670\u001b[39m y_true, y_pred = attach_unique(y_true, y_pred)\n\u001b[32m-> \u001b[39m\u001b[32m2671\u001b[39m y_type, y_true, y_pred = \u001b[43m_check_targets\u001b[49m\u001b[43m(\u001b[49m\u001b[43my_true\u001b[49m\u001b[43m,\u001b[49m\u001b[43m \u001b[49m\u001b[43my_pred\u001b[49m\u001b[43m)\u001b[49m\n\u001b[32m   2673\u001b[39m \u001b[38;5;28;01mif\u001b[39;00m labels \u001b[38;5;129;01mis\u001b[39;00m \u001b[38;5;28;01mNone\u001b[39;00m:\n\u001b[32m   2674\u001b[39m     labels = unique_labels(y_true, y_pred)\n",
      "\u001b[36mFile \u001b[39m\u001b[32m~/miniconda3/envs/ds-env/lib/python3.12/site-packages/sklearn/metrics/_classification.py:118\u001b[39m, in \u001b[36m_check_targets\u001b[39m\u001b[34m(y_true, y_pred)\u001b[39m\n\u001b[32m    116\u001b[39m \u001b[38;5;66;03m# No metrics support \"multiclass-multioutput\" format\u001b[39;00m\n\u001b[32m    117\u001b[39m \u001b[38;5;28;01mif\u001b[39;00m y_type \u001b[38;5;129;01mnot\u001b[39;00m \u001b[38;5;129;01min\u001b[39;00m [\u001b[33m\"\u001b[39m\u001b[33mbinary\u001b[39m\u001b[33m\"\u001b[39m, \u001b[33m\"\u001b[39m\u001b[33mmulticlass\u001b[39m\u001b[33m\"\u001b[39m, \u001b[33m\"\u001b[39m\u001b[33mmultilabel-indicator\u001b[39m\u001b[33m\"\u001b[39m]:\n\u001b[32m--> \u001b[39m\u001b[32m118\u001b[39m     \u001b[38;5;28;01mraise\u001b[39;00m \u001b[38;5;167;01mValueError\u001b[39;00m(\u001b[33m\"\u001b[39m\u001b[38;5;132;01m{0}\u001b[39;00m\u001b[33m is not supported\u001b[39m\u001b[33m\"\u001b[39m.format(y_type))\n\u001b[32m    120\u001b[39m \u001b[38;5;28;01mif\u001b[39;00m y_type \u001b[38;5;129;01min\u001b[39;00m [\u001b[33m\"\u001b[39m\u001b[33mbinary\u001b[39m\u001b[33m\"\u001b[39m, \u001b[33m\"\u001b[39m\u001b[33mmulticlass\u001b[39m\u001b[33m\"\u001b[39m]:\n\u001b[32m    121\u001b[39m     xp, _ = get_namespace(y_true, y_pred)\n",
      "\u001b[31mValueError\u001b[39m: continuous is not supported"
     ]
    }
   ],
   "source": [
    "# Используем тот же набор фичей, что и раньше\n",
    "features = [\n",
    "    \"bayesImVoltage\",\n",
    "    \"opticalPower\",\n",
    "    \"polarizerVoltages[0]\",\n",
    "    \"polarizerVoltages[1]\",\n",
    "    \"polarizerVoltages[2]\",\n",
    "    \"polarizerVoltages[3]\",\n",
    "    \"temp_1\",\n",
    "    \"biasVoltage_1\",\n",
    "    \"temp_2\",\n",
    "    \"biasVoltage_2\",\n",
    "    \"E_mu_phys_est\",\n",
    "    \"E_mu_Z_est\",\n",
    "]\n",
    "\n",
    "# Удаляем строки с пропусками в фичах или в целевой переменной 'R'\n",
    "df_model = df.dropna(subset=features + [\"R\", \"f_EC\"]).copy()\n",
    "\n",
    "X = df_model[features]\n",
    "y_raw = df_model[\"R\"]\n",
    "weights = df_model[\"f_EC\"]\n",
    "\n",
    "# CatBoost может работать с float-классами, но для чистоты преобразуем их в int метки\n",
    "le = LabelEncoder()\n",
    "y = le.fit_transform(y_raw)\n",
    "print(\"Классы R и их метки:\")\n",
    "print(dict(zip(le.classes_, le.transform(le.classes_))))\n",
    "\n",
    "\n",
    "# Разделяем на обучающую и валидационную выборки\n",
    "X_train, X_val, y_train, y_val, weights_train, weights_val = train_test_split(\n",
    "    X, y, weights, test_size=0.2, random_state=42, stratify=y\n",
    ")\n",
    "\n",
    "# --- 2. Обучение модели классификации ---\n",
    "\n",
    "model = CatBoostClassifier(\n",
    "    iterations=1000,\n",
    "    learning_rate=0.05,\n",
    "    loss_function=\"MultiClass\",\n",
    "    eval_metric=\"Accuracy\",\n",
    "    verbose=100,\n",
    "    random_state=42,\n",
    ")\n",
    "\n",
    "print(\"\\nНачинаем обучение модели классификации R...\")\n",
    "model.fit(\n",
    "    X_train,\n",
    "    y_train,\n",
    "    sample_weight=weights_train,\n",
    "    eval_set=(X_val, y_val),\n",
    ")\n",
    "\n",
    "# --- 3. Оценка модели ---\n",
    "y_pred_labels = model.predict(X_val).flatten()\n",
    "\n",
    "# Преобразуем предсказанные метки обратно в значения R для наглядности\n",
    "y_pred_R = le.inverse_transform(y_pred_labels)\n",
    "y_val_R = le.inverse_transform(y_val)"
   ]
  },
  {
   "cell_type": "code",
   "execution_count": 19,
   "id": "2c1da908",
   "metadata": {},
   "outputs": [
    {
     "name": "stdout",
     "output_type": "stream",
     "text": [
      "\n",
      "Точность (Accuracy) модели на валидационной выборке: 0.9987\n"
     ]
    }
   ],
   "source": [
    "accuracy = accuracy_score(y_val, y_pred_labels)\n",
    "print(f\"\\nТочность (Accuracy) модели на валидационной выборке: {accuracy:.4f}\")"
   ]
  },
  {
   "cell_type": "code",
   "execution_count": 22,
   "id": "2c991f48",
   "metadata": {},
   "outputs": [
    {
     "name": "stdout",
     "output_type": "stream",
     "text": [
      "\n",
      "Отчет по классификации:\n",
      "              precision    recall  f1-score   support\n",
      "\n",
      "         0.5       0.99      1.00      0.99       886\n",
      "        0.55       0.97      0.84      0.90        67\n",
      "         0.6       0.00      0.00      0.00         3\n",
      "        0.65       1.00      0.09      0.17        11\n",
      "         0.7       0.85      0.99      0.91        74\n",
      "        0.75       1.00      0.96      0.98      1340\n",
      "         0.8       1.00      1.00      1.00     32529\n",
      "        0.85       1.00      1.00      1.00     30699\n",
      "\n",
      "    accuracy                           1.00     65609\n",
      "   macro avg       0.85      0.73      0.74     65609\n",
      "weighted avg       1.00      1.00      1.00     65609\n",
      "\n"
     ]
    }
   ],
   "source": [
    "print(\"\\nОтчет по классификации:\")\n",
    "print(classification_report(y_val, y_pred_labels, target_names=[str(c) for c in le.classes_]))"
   ]
  },
  {
   "cell_type": "markdown",
   "id": "1ae05f12",
   "metadata": {},
   "source": [
    "# Catboost s p"
   ]
  },
  {
   "cell_type": "code",
   "execution_count": 25,
   "id": "a7b0460e",
   "metadata": {},
   "outputs": [
    {
     "name": "stdout",
     "output_type": "stream",
     "text": [
      "\n",
      "Начинаем обучение модели регрессии 's'...\n",
      "0:\tlearn: 529.8240596\ttest: 536.3814202\tbest: 536.3814202 (0)\ttotal: 17.2ms\tremaining: 17.2s\n",
      "100:\tlearn: 43.5501529\ttest: 45.8226745\tbest: 45.8226745 (100)\ttotal: 769ms\tremaining: 6.84s\n",
      "200:\tlearn: 30.8330264\ttest: 32.4894610\tbest: 32.4894610 (200)\ttotal: 1.37s\tremaining: 5.45s\n",
      "300:\tlearn: 28.6818544\ttest: 30.8065476\tbest: 30.8065476 (300)\ttotal: 2.04s\tremaining: 4.74s\n",
      "400:\tlearn: 27.6609326\ttest: 30.1478023\tbest: 30.1478023 (400)\ttotal: 2.76s\tremaining: 4.12s\n",
      "500:\tlearn: 27.0785872\ttest: 30.0002307\tbest: 29.9958163 (499)\ttotal: 3.4s\tremaining: 3.39s\n",
      "600:\tlearn: 26.6387754\ttest: 29.9349457\tbest: 29.9336977 (592)\ttotal: 4.06s\tremaining: 2.69s\n",
      "700:\tlearn: 26.2769063\ttest: 29.9301133\tbest: 29.9238773 (694)\ttotal: 4.72s\tremaining: 2.01s\n",
      "800:\tlearn: 25.9231061\ttest: 29.9315980\tbest: 29.9183103 (795)\ttotal: 5.29s\tremaining: 1.31s\n",
      "900:\tlearn: 25.5658640\ttest: 29.9593450\tbest: 29.9166738 (847)\ttotal: 6.01s\tremaining: 661ms\n",
      "999:\tlearn: 25.2879028\ttest: 29.9773523\tbest: 29.9166738 (847)\ttotal: 6.7s\tremaining: 0us\n",
      "\n",
      "bestTest = 29.91667376\n",
      "bestIteration = 847\n",
      "\n",
      "Shrink model to first 848 iterations.\n",
      "\n",
      "Качество регрессии (RMSE) на валидационной выборке: 29.9167\n",
      "Точность (Accuracy) после округления на валидационной выборке: 0.1162\n",
      "\n",
      "Пример предсказаний vs реальные значения для 's':\n",
      "        Реальное s  Предсказанное s (float)  Предсказанное s (int)\n",
      "181973        4206              4206.631824                   4207\n",
      "271665        2878              2872.476056                   2872\n",
      "256468        2882              2877.598962                   2878\n",
      "47777         4284              4282.347716                   4282\n",
      "295541        4186              4181.905473                   4182\n",
      "13999         2890              2891.011888                   2891\n",
      "169225        4109              4112.326476                   4112\n",
      "114851        4234              4239.327617                   4239\n",
      "308637        4077              4076.354695                   4076\n",
      "172082        4329              4330.751804                   4331\n"
     ]
    }
   ],
   "source": [
    "from catboost import CatBoostRegressor\n",
    "from sklearn.metrics import mean_squared_error\n",
    "\n",
    "# --- 1. Подготовка данных для регрессии 's' ---\n",
    "\n",
    "# Используем фичи, добавив R, так как выбор s зависит от него\n",
    "features_s_reg = [\n",
    "    \"bayesImVoltage\",\n",
    "    \"opticalPower\",\n",
    "    \"polarizerVoltages[0]\",\n",
    "    \"polarizerVoltages[1]\",\n",
    "    \"polarizerVoltages[2]\",\n",
    "    \"polarizerVoltages[3]\",\n",
    "    \"temp_1\",\n",
    "    \"biasVoltage_1\",\n",
    "    \"temp_2\",\n",
    "    \"biasVoltage_2\",\n",
    "    \"E_mu_phys_est\",\n",
    "    \"E_mu_Z_est\",\n",
    "    \"R\",\n",
    "]\n",
    "\n",
    "# Удаляем строки с пропусками в нужных колонках\n",
    "df_model_s_reg = df.dropna(subset=features_s_reg + [\"s\", \"f_EC\"]).copy()\n",
    "\n",
    "X_s_reg = df_model_s_reg[features_s_reg]\n",
    "y_s_reg = df_model_s_reg[\"s\"]  # Целевая переменная - 's' как число\n",
    "weights_s_reg = df_model_s_reg[\"f_EC\"]\n",
    "\n",
    "# Разделяем на обучающую и валидационную выборки\n",
    "X_train_s_reg, X_val_s_reg, y_train_s_reg, y_val_s_reg, weights_train_s_reg, _ = train_test_split(\n",
    "    X_s_reg, y_s_reg, weights_s_reg, test_size=0.2, random_state=42\n",
    ")\n",
    "\n",
    "# --- 2. Обучение модели регрессии для 's' ---\n",
    "\n",
    "model_s_reg = CatBoostRegressor(\n",
    "    iterations=1000,\n",
    "    learning_rate=0.05,\n",
    "    loss_function=\"RMSE\",\n",
    "    verbose=100,\n",
    "    random_state=42,\n",
    ")\n",
    "\n",
    "print(\"\\nНачинаем обучение модели регрессии 's'...\")\n",
    "model_s_reg.fit(\n",
    "    X_train_s_reg,\n",
    "    y_train_s_reg,\n",
    "    sample_weight=weights_train_s_reg,\n",
    "    eval_set=(X_val_s_reg, y_val_s_reg),\n",
    ")\n",
    "\n",
    "# --- 3. Оценка модели 's' ---\n",
    "y_pred_s_float = model_s_reg.predict(X_val_s_reg)\n",
    "\n",
    "# Округляем предсказания до ближайшего целого, чтобы получить итоговое значение 's'\n",
    "y_pred_s_int = np.round(y_pred_s_float).astype(int)\n",
    "\n",
    "# Считаем метрики\n",
    "rmse = np.sqrt(mean_squared_error(y_val_s_reg, y_pred_s_float))\n",
    "accuracy = accuracy_score(y_val_s_reg, y_pred_s_int)\n",
    "\n",
    "print(f\"\\nКачество регрессии (RMSE) на валидационной выборке: {rmse:.4f}\")\n",
    "print(f\"Точность (Accuracy) после округления на валидационной выборке: {accuracy:.4f}\")\n",
    "\n",
    "# Сравним несколько предсказаний\n",
    "comparison_s_df = pd.DataFrame(\n",
    "    {\n",
    "        \"Реальное s\": y_val_s_reg,\n",
    "        \"Предсказанное s (float)\": y_pred_s_float,\n",
    "        \"Предсказанное s (int)\": y_pred_s_int,\n",
    "    }\n",
    ").head(10)\n",
    "print(\"\\nПример предсказаний vs реальные значения для 's':\")\n",
    "print(comparison_s_df)"
   ]
  },
  {
   "cell_type": "markdown",
   "id": "a34c5f0f",
   "metadata": {},
   "source": [
    "# Submit"
   ]
  },
  {
   "cell_type": "code",
   "execution_count": 35,
   "id": "0528f060",
   "metadata": {},
   "outputs": [],
   "source": [
    "start_idx = df[(df[\"block_id\"] == 1489460492) & (df[\"frame_idx\"] == 99)].index[0]\n",
    "end_idx = df[(df[\"block_id\"] == 1840064900) & (df[\"frame_idx\"] == 101)].index[0]\n",
    "\n",
    "df_submit = df.loc[start_idx:end_idx].copy()"
   ]
  },
  {
   "cell_type": "code",
   "execution_count": 36,
   "id": "1c7f91f3",
   "metadata": {},
   "outputs": [],
   "source": [
    "df_submit[\"E_mu_Z_est\"] = df_submit[\"E_mu_Z\"] * 1.1023"
   ]
  },
  {
   "cell_type": "code",
   "execution_count": 39,
   "id": "9e19b658",
   "metadata": {},
   "outputs": [
    {
     "name": "stdout",
     "output_type": "stream",
     "text": [
      "Предсказываем R...\n",
      "Предсказание R завершено.\n",
      "\n",
      "Предсказываем s...\n",
      "Предсказание s завершено.\n",
      "\n",
      "Результат предсказаний на df_submit:\n",
      "        E_mu_Z_est  R_pred  s_pred  p_pred\n",
      "285999    0.027635     0.8    4138     662\n",
      "286000    0.023380     0.8    3413    1387\n",
      "286001    0.022366     0.8    3236    1564\n",
      "286002    0.020988     0.8    2994    1806\n",
      "286003    0.022244     0.8    3209    1591\n"
     ]
    }
   ],
   "source": [
    "X_submit_R = df_submit[features]\n",
    "\n",
    "# --- 2. Предсказание R ---\n",
    "\n",
    "print(\"Предсказываем R...\")\n",
    "# Предсказываем метки классов\n",
    "pred_labels_R = model.predict(X_submit_R).flatten()\n",
    "# Преобразуем метки обратно в значения R\n",
    "pred_values_R = le.inverse_transform(pred_labels_R)\n",
    "\n",
    "# Добавляем предсказанный R в датафрейм для сабмита\n",
    "df_submit[\"R_pred\"] = pred_values_R\n",
    "print(\"Предсказание R завершено.\")\n",
    "\n",
    "\n",
    "# --- 3. Подготовка данных для предсказания s ---\n",
    "\n",
    "# Создаем фичи для предсказания s, используя предсказанный R\n",
    "# Важно: название колонки 'R' должно совпадать с тем, что было при обучении\n",
    "X_submit_s = df_submit[features_s_reg].rename(columns={\"R_pred\": \"R\"})\n",
    "\n",
    "# --- 4. Предсказание s ---\n",
    "\n",
    "print(\"\\nПредсказываем s...\")\n",
    "# Предсказываем s как float\n",
    "pred_float_s = model_s_reg.predict(X_submit_s)\n",
    "# Округляем до ближайшего целого\n",
    "pred_int_s = np.round(pred_float_s).astype(int)\n",
    "\n",
    "# Добавляем предсказанный s в датафрейм\n",
    "df_submit[\"s_pred\"] = pred_int_s\n",
    "print(\"Предсказание s завершено.\")\n",
    "\n",
    "df_submit[\"p_pred\"] = 4800 - df_submit[\"s_pred\"]\n",
    "\n",
    "# --- 5. Просмотр результата ---\n",
    "print(\"\\nРезультат предсказаний на df_submit:\")\n",
    "print(df_submit[[\"E_mu_Z_est\", \"R_pred\", \"s_pred\", \"p_pred\"]].head())"
   ]
  },
  {
   "cell_type": "code",
   "execution_count": null,
   "id": "9afbaefc",
   "metadata": {},
   "outputs": [],
   "source": [
    "df_submit[[\"E_mu_Z_est\", \"R_pred\", \"s_pred\", \"p_pred\"]].to_csv(\n",
    "    \"submission.csv\", header=False, index=False\n",
    ")"
   ]
  }
 ],
 "metadata": {
  "kernelspec": {
   "display_name": "ds-env",
   "language": "python",
   "name": "python3"
  },
  "language_info": {
   "codemirror_mode": {
    "name": "ipython",
    "version": 3
   },
   "file_extension": ".py",
   "mimetype": "text/x-python",
   "name": "python",
   "nbconvert_exporter": "python",
   "pygments_lexer": "ipython3",
   "version": "3.12.11"
  }
 },
 "nbformat": 4,
 "nbformat_minor": 5
}
