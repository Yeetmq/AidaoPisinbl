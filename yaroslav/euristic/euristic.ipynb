{
 "cells": [
  {
   "cell_type": "markdown",
   "id": "cc762b89",
   "metadata": {},
   "source": [
    "# Импорт библиотек"
   ]
  },
  {
   "cell_type": "code",
   "execution_count": 2,
   "id": "9c86f8bd",
   "metadata": {},
   "outputs": [],
   "source": [
    "import warnings\n",
    "import pandas as pd\n",
    "\n",
    "warnings.filterwarnings(\"ignore\")"
   ]
  },
  {
   "cell_type": "markdown",
   "id": "5289c9de",
   "metadata": {},
   "source": [
    "# Подготовка данных"
   ]
  },
  {
   "cell_type": "code",
   "execution_count": null,
   "id": "5217cc3f",
   "metadata": {},
   "outputs": [],
   "source": [
    "df = pd.read_csv(\"../../data/frames_errors.csv\", header=None)\n",
    "df.columns = [\n",
    "    \"block_id\",  # ID блока\n",
    "    \"frame_idx\",  # ID фрейма в блоке\n",
    "    \"E_mu_Z\",  # Факт: Реальный QBER в Z-базисе\n",
    "    \"E_mu_phys_est\",  # Альтернативная оценка QBER, основанная на физических параметрах\n",
    "    \"E_mu_X\",  # Факт: Реальный QBER в X-базисе\n",
    "    \"E_nu1_X\",  # QBER для decoy-состояния nu1 в X-базисе\n",
    "    \"E_nu2_X\",  # QBER для decoy-состояния nu2 в X-базисе\n",
    "    \"E_nu1_Z\",  # QBER для decoy-состояния nu1 в Z-базисе\n",
    "    \"E_nu2_Z\",  # QBER для decoy-состояния nu2 в Z-базисе\n",
    "    \"N_mu_X\",  # Количество отправленных сигнальных состояний в X-базисе\n",
    "    \"M_mu_XX\",  # Количество принятых сигнальных состояний (отправлено в X, принято в X)\n",
    "    \"M_mu_XZ\",  # Количество принятых сигнальных состояний (отправлено в X, принято в Z)\n",
    "    \"M_mu_X\",  # Общее количество принятых сигнальных состояний в X-базисе\n",
    "    \"N_mu_Z\",  # Количество отправленных сигнальных состояний в Z-базисе\n",
    "    \"M_mu_ZZ\",  # Количество принятых сигнальных состояний (отправлено в Z, принято в Z)\n",
    "    \"M_mu_Z\",  # Общее количество принятых сигнальных состояний в Z-базисе\n",
    "    \"N_nu1_X\",  # Количество отправленных decoy-состояний nu1 в X-базисе\n",
    "    \"M_nu1_XX\",\n",
    "    \"M_nu1_XZ\",\n",
    "    \"M_nu1_X\",\n",
    "    \"N_nu1_Z\",\n",
    "    \"M_nu1_ZZ\",\n",
    "    \"M_nu1_Z\",\n",
    "    \"N_nu2_X\",\n",
    "    \"M_nu2_XX\",\n",
    "    \"M_nu2_XZ\",\n",
    "    \"M_nu2_X\",\n",
    "    \"N_nu2_Z\",\n",
    "    \"M_nu2_ZZ\",\n",
    "    \"M_nu2_Z\",\n",
    "    \"nTot\",  # Общее количество отправленных состояний\n",
    "    \"bayesImVoltage\",  # Напряжение на модуляторе интенсивности\n",
    "    \"opticalPower\",  # Оптическая мощность\n",
    "    \"polarizerVoltages[0]\",  # Напряжение на контроллере поляризации 0\n",
    "    \"polarizerVoltages[1]\",  # Напряжение на контроллере поляризации 1\n",
    "    \"polarizerVoltages[2]\",  # Напряжение на контроллере поляризации 2\n",
    "    \"polarizerVoltages[3]\",  # Напряжение на контроллере поляризации 3\n",
    "    \"temp_1\",  # Температура детектора 1\n",
    "    \"biasVoltage_1\",  # Напряжение смещения детектора 1\n",
    "    \"temp_2\",  # Температура детектора 2\n",
    "    \"biasVoltage_2\",  # Напряжение смещения детектора 2\n",
    "    \"synErr\",  # Кол-во ошибок в битах\n",
    "    \"N_EC_rounds\",  # Результат: Количество доп. раундов коррекции (индикатор сложности)\n",
    "    \"maintenance_flag\",  # Флаг технического обслуживания\n",
    "    \"estimator_name\",  # Название алгоритма, который выбрал параметры в реальности\n",
    "    \"f_EC\",  # Эффективность коррекции ошибок\n",
    "    \"E_mu_Z_est\",  # Предсказание: Оценка QBER, на основе которой были выбраны R, s, p\n",
    "    \"R\",  # Параметр: Скорость кода\n",
    "    \"s\",  # Параметр: Количество укороченных узлов\n",
    "    \"p\",  # Параметр: Количество проколотых узлов\n",
    "]"
   ]
  },
  {
   "cell_type": "code",
   "execution_count": 4,
   "id": "0961f92a",
   "metadata": {},
   "outputs": [
    {
     "name": "stdout",
     "output_type": "stream",
     "text": [
      "Столбцы с пропусками и их количество:\n",
      "E_mu_phys_est    448\n",
      "f_EC             131\n",
      "dtype: int64\n"
     ]
    }
   ],
   "source": [
    "missing_counts = df.isna().sum()\n",
    "columns_with_missing = missing_counts[missing_counts > 0]\n",
    "\n",
    "if columns_with_missing.empty:\n",
    "    print(\"Пропусков в данных нет.\")\n",
    "else:\n",
    "    print(\"Столбцы с пропусками и их количество:\")\n",
    "    print(columns_with_missing)"
   ]
  },
  {
   "cell_type": "code",
   "execution_count": 5,
   "id": "e9dcf19f",
   "metadata": {},
   "outputs": [
    {
     "name": "stdout",
     "output_type": "stream",
     "text": [
      "Количество фреймов / Количество рядов\n",
      "frame_idx\n",
      "399    569\n",
      "400    251\n",
      "398      2\n",
      "390      1\n",
      "Name: count, dtype: int64\n"
     ]
    }
   ],
   "source": [
    "timestamp_counts = df.groupby(\"block_id\")[\"frame_idx\"].nunique()\n",
    "print(\"Количество фреймов / Количество рядов\")\n",
    "print(timestamp_counts.value_counts())"
   ]
  },
  {
   "cell_type": "code",
   "execution_count": 6,
   "id": "0d4b5a7a",
   "metadata": {},
   "outputs": [
    {
     "name": "stdout",
     "output_type": "stream",
     "text": [
      "Количество оптимистичных прогнозов (E_mu_Z_est < E_mu_Z): 152624\n",
      "Средний N_EC_rounds для них: 9.4753\n",
      "\n",
      "Количество пессимистичных прогнозов (E_mu_Z_est > E_mu_Z): 175417\n",
      "Средний N_EC_rounds для них: 2.0533\n"
     ]
    }
   ],
   "source": [
    "# Создаем два под-датафрейма: для оптимистичных и пессимистичных прогнозов\n",
    "df_optimistic = df[df[\"E_mu_Z_est\"] < df[\"E_mu_Z\"]]\n",
    "df_pessimistic = df[df[\"E_mu_Z_est\"] > df[\"E_mu_Z\"]]\n",
    "\n",
    "# Считаем среднее для каждой группы\n",
    "avg_rounds_optimistic = df_optimistic[\"N_EC_rounds\"].mean()\n",
    "avg_rounds_pessimistic = df_pessimistic[\"N_EC_rounds\"].mean()\n",
    "\n",
    "print(f\"Количество оптимистичных прогнозов (E_mu_Z_est < E_mu_Z): {len(df_optimistic)}\")\n",
    "print(f\"Средний N_EC_rounds для них: {avg_rounds_optimistic:.4f}\\n\")\n",
    "\n",
    "print(f\"Количество пессимистичных прогнозов (E_mu_Z_est > E_mu_Z): {len(df_pessimistic)}\")\n",
    "print(f\"Средний N_EC_rounds для них: {avg_rounds_pessimistic:.4f}\")"
   ]
  },
  {
   "cell_type": "code",
   "execution_count": 7,
   "id": "64e80bee",
   "metadata": {},
   "outputs": [
    {
     "name": "stdout",
     "output_type": "stream",
     "text": [
      "В среднем, в пессимистичных случаях E_mu_Z_est больше E_mu_Z на: 0.001945\n"
     ]
    }
   ],
   "source": [
    "pessimistic_diff = df_pessimistic[\"E_mu_Z_est\"] - df_pessimistic[\"E_mu_Z\"]\n",
    "avg_pessimistic_overestimation = pessimistic_diff.mean()\n",
    "print(\n",
    "    f\"В среднем, в пессимистичных случаях E_mu_Z_est больше E_mu_Z на: {avg_pessimistic_overestimation:.6f}\"\n",
    ")"
   ]
  },
  {
   "cell_type": "code",
   "execution_count": 8,
   "id": "565516d2",
   "metadata": {},
   "outputs": [
    {
     "name": "stdout",
     "output_type": "stream",
     "text": [
      "В среднем, в пессимистичных случаях E_mu_Z_est больше E_mu_Z в: 1.1023 раз\n"
     ]
    }
   ],
   "source": [
    "avg_pessimistic_ratio = (df_pessimistic[\"E_mu_Z_est\"] / df_pessimistic[\"E_mu_Z\"]).mean()\n",
    "\n",
    "print(\n",
    "    f\"В среднем, в пессимистичных случаях E_mu_Z_est больше E_mu_Z в: {avg_pessimistic_ratio:.4f} раз\"\n",
    ")"
   ]
  },
  {
   "cell_type": "code",
   "execution_count": 9,
   "id": "0419eb0f",
   "metadata": {},
   "outputs": [],
   "source": [
    "start_idx = df[(df[\"block_id\"] == 1489460492) & (df[\"frame_idx\"] == 99)].index[0]\n",
    "end_idx = df[(df[\"block_id\"] == 1840064900) & (df[\"frame_idx\"] == 101)].index[0]\n",
    "\n",
    "df_submit = df.loc[start_idx:end_idx].copy()"
   ]
  },
  {
   "cell_type": "code",
   "execution_count": 10,
   "id": "0401ec06",
   "metadata": {},
   "outputs": [],
   "source": [
    "from math import ceil\n",
    "\n",
    "alpha = 0.33\n",
    "f_ec = 1.15\n",
    "R_range = [\n",
    "    round(0.50 + 0.05 * x, 2) for x in range(9)\n",
    "]  # 0.50..0.90 для соответствия условию задачи\n",
    "n = 32000\n",
    "d = 4800"
   ]
  },
  {
   "cell_type": "code",
   "execution_count": 11,
   "id": "1742f2df",
   "metadata": {},
   "outputs": [],
   "source": [
    "import numpy as np\n",
    "\n",
    "\n",
    "def calculate_ema(prev_ema, current_value, alpha):\n",
    "    if prev_ema is None:\n",
    "        return current_value\n",
    "    return alpha * current_value + (1 - alpha) * prev_ema\n",
    "\n",
    "\n",
    "def h(x):\n",
    "    if x > 0:\n",
    "        return -x * np.log2(x) - (1 - x) * np.log2(1 - x)\n",
    "    elif x == 0:\n",
    "        return 0.0\n",
    "    else:\n",
    "        raise ValueError(\"Invalid x for binary entropy\")\n",
    "\n",
    "\n",
    "def select_code_rate(e_mu, f_ec, rates, frame_len, sp_count):\n",
    "    r_candidate = 1 - h(e_mu) * f_ec\n",
    "    R_res = 0.50\n",
    "    s_n = sp_count\n",
    "    p_n = 0\n",
    "    for R in rates:\n",
    "        p_n = int(ceil((1 - R) * frame_len - (1 - r_candidate) * (frame_len - sp_count)))\n",
    "        s_n = int(sp_count - p_n)\n",
    "        if p_n >= 0 and s_n >= 0:\n",
    "            R_res = R\n",
    "            return round(R_res, 2), s_n, p_n\n",
    "    return round(R_res, 2), s_n, p_n"
   ]
  },
  {
   "cell_type": "code",
   "execution_count": 12,
   "id": "c640ded4",
   "metadata": {},
   "outputs": [],
   "source": [
    "E_series = (\n",
    "    pd.to_numeric(df_submit[\"E_mu_Z\"] * 1.1023, errors=\"coerce\").dropna().reset_index(drop=True)\n",
    ")\n",
    "\n",
    "prev_ema = None\n",
    "rows = []\n",
    "for E_mu_Z in E_series:\n",
    "    ema_value = calculate_ema(prev_ema, float(E_mu_Z), alpha)\n",
    "    prev_ema = ema_value\n",
    "    R, s_n, p_n = select_code_rate(ema_value, f_ec, R_range, n, d)\n",
    "    rows.append([f\"{E_mu_Z:.16f}\", R, s_n, p_n])  # 4 столбца: E, R, s_n, p_n"
   ]
  },
  {
   "cell_type": "code",
   "execution_count": 13,
   "id": "971b464e",
   "metadata": {},
   "outputs": [],
   "source": [
    "pd.DataFrame(rows).to_csv(\"submission.csv\", header=False, index=False)"
   ]
  },
  {
   "cell_type": "code",
   "execution_count": 14,
   "id": "d38f351f",
   "metadata": {},
   "outputs": [],
   "source": [
    "my_df = pd.DataFrame(rows).iloc[:, 0].astype(float)\n",
    "other_df = pd.read_csv(\"submission_oleg(2).csv\", header=None).iloc[:, 0].astype(float)"
   ]
  },
  {
   "cell_type": "code",
   "execution_count": 15,
   "id": "ac1eede2",
   "metadata": {},
   "outputs": [
    {
     "data": {
      "text/plain": [
       "0.02103137568213607"
      ]
     },
     "execution_count": 15,
     "metadata": {},
     "output_type": "execute_result"
    }
   ],
   "source": [
    "other_df.mean()"
   ]
  },
  {
   "cell_type": "code",
   "execution_count": 16,
   "id": "e43ae0b7",
   "metadata": {},
   "outputs": [
    {
     "data": {
      "text/plain": [
       "0.021920591328999997"
      ]
     },
     "execution_count": 16,
     "metadata": {},
     "output_type": "execute_result"
    }
   ],
   "source": [
    "my_df.mean()"
   ]
  },
  {
   "cell_type": "code",
   "execution_count": null,
   "id": "31b471a9",
   "metadata": {},
   "outputs": [],
   "source": []
  }
 ],
 "metadata": {
  "kernelspec": {
   "display_name": "ds-env",
   "language": "python",
   "name": "python3"
  },
  "language_info": {
   "codemirror_mode": {
    "name": "ipython",
    "version": 3
   },
   "file_extension": ".py",
   "mimetype": "text/x-python",
   "name": "python",
   "nbconvert_exporter": "python",
   "pygments_lexer": "ipython3",
   "version": "3.12.11"
  }
 },
 "nbformat": 4,
 "nbformat_minor": 5
}
