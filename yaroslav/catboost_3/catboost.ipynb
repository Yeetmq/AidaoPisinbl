{
 "cells": [
  {
   "cell_type": "markdown",
   "id": "cc762b89",
   "metadata": {},
   "source": [
    "# Импорт библиотек"
   ]
  },
  {
   "cell_type": "code",
   "execution_count": 2,
   "id": "9c86f8bd",
   "metadata": {},
   "outputs": [],
   "source": [
    "import warnings\n",
    "import pandas as pd\n",
    "import matplotlib.pyplot as plt\n",
    "\n",
    "warnings.filterwarnings(\"ignore\")"
   ]
  },
  {
   "cell_type": "markdown",
   "id": "5289c9de",
   "metadata": {},
   "source": [
    "# Подготовка данных"
   ]
  },
  {
   "cell_type": "code",
   "execution_count": 3,
   "id": "5217cc3f",
   "metadata": {},
   "outputs": [],
   "source": [
    "df = pd.read_csv(\"../../data/frames_errors.csv\", header=None)\n",
    "df.columns = [\n",
    "    \"block_id\",\n",
    "    \"frame_idx\",\n",
    "    \"E_mu_Z\",\n",
    "    \"E_mu_phys_est\",\n",
    "    \"E_mu_X\",\n",
    "    \"E_nu1_X\",\n",
    "    \"E_nu2_X\",\n",
    "    \"E_nu1_Z\",\n",
    "    \"E_nu2_Z\",\n",
    "    \"N_mu_X\",\n",
    "    \"M_mu_XX\",\n",
    "    \"M_mu_XZ\",\n",
    "    \"M_mu_X\",\n",
    "    \"N_mu_Z\",\n",
    "    \"M_mu_ZZ\",\n",
    "    \"M_mu_Z\",\n",
    "    \"N_nu1_X\",\n",
    "    \"M_nu1_XX\",\n",
    "    \"M_nu1_XZ\",\n",
    "    \"M_nu1_X\",\n",
    "    \"N_nu1_Z\",\n",
    "    \"M_nu1_ZZ\",\n",
    "    \"M_nu1_Z\",\n",
    "    \"N_nu2_X\",\n",
    "    \"M_nu2_XX\",\n",
    "    \"M_nu2_XZ\",\n",
    "    \"M_nu2_X\",\n",
    "    \"N_nu2_Z\",\n",
    "    \"M_nu2_ZZ\",\n",
    "    \"M_nu2_Z\",\n",
    "    \"nTot\",\n",
    "    \"bayesImVoltage\",\n",
    "    \"opticalPower\",\n",
    "    \"polarizerVoltages[0]\",\n",
    "    \"polarizerVoltages[1]\",\n",
    "    \"polarizerVoltages[2]\",\n",
    "    \"polarizerVoltages[3]\",\n",
    "    \"temp_1\",\n",
    "    \"biasVoltage_1\",\n",
    "    \"temp_2\",\n",
    "    \"biasVoltage_2\",\n",
    "    \"synErr\",\n",
    "    \"N_EC_rounds\",\n",
    "    \"maintenance_flag\",\n",
    "    \"estimator_name\",\n",
    "    \"f_EC\",\n",
    "    \"E_mu_Z_est\",\n",
    "    \"R\",\n",
    "    \"s\",\n",
    "    \"p\",\n",
    "]"
   ]
  },
  {
   "cell_type": "code",
   "execution_count": 4,
   "id": "0961f92a",
   "metadata": {},
   "outputs": [
    {
     "name": "stdout",
     "output_type": "stream",
     "text": [
      "Столбцы с пропусками и их количество:\n",
      "E_mu_phys_est    448\n",
      "f_EC             131\n",
      "dtype: int64\n",
      "Количество фреймов / Количество рядов\n",
      "frame_idx\n",
      "399    569\n",
      "400    251\n",
      "398      2\n",
      "390      1\n",
      "Name: count, dtype: int64\n",
      "Shape: (328617, 50)\n"
     ]
    }
   ],
   "source": [
    "missing_counts = df.isna().sum()\n",
    "columns_with_missing = missing_counts[missing_counts > 0]\n",
    "print(\"Столбцы с пропусками и их количество:\")\n",
    "print(columns_with_missing)\n",
    "timestamp_counts = df.groupby(\"block_id\")[\"frame_idx\"].nunique()\n",
    "print(\"Количество фреймов / Количество рядов\")\n",
    "print(timestamp_counts.value_counts())\n",
    "print(\"Shape:\", df.shape)"
   ]
  },
  {
   "cell_type": "code",
   "execution_count": 5,
   "id": "332dc999",
   "metadata": {},
   "outputs": [],
   "source": [
    "df = df.dropna(subset=[\"f_EC\"])"
   ]
  },
  {
   "cell_type": "code",
   "execution_count": 6,
   "id": "65bfb16d",
   "metadata": {},
   "outputs": [
    {
     "name": "stdout",
     "output_type": "stream",
     "text": [
      "Train: 326090\n",
      "Test: 2000\n"
     ]
    }
   ],
   "source": [
    "# Test (Val)\n",
    "start_idx = df[(df[\"block_id\"] == 1489460492) & (df[\"frame_idx\"] == 99)].index[0]\n",
    "end_idx = df[(df[\"block_id\"] == 1840064900) & (df[\"frame_idx\"] == 101)].index[0]\n",
    "\n",
    "test_df = df.loc[start_idx:end_idx].copy()\n",
    "assert len(test_df) == 2000, \"Test (Val) set size is not 2000 rows\"\n",
    "\n",
    "# Train\n",
    "all_block_ids = df[\"block_id\"].unique()\n",
    "train_blocks = [bid for bid in all_block_ids if bid not in test_df[\"block_id\"].values]\n",
    "train_df = df[df[\"block_id\"].isin(train_blocks)]\n",
    "\n",
    "print(f\"Train: {len(train_df)}\")\n",
    "print(f\"Test: {len(test_df)}\")\n"
   ]
  },
  {
   "cell_type": "code",
   "execution_count": 7,
   "id": "826e4c5f",
   "metadata": {},
   "outputs": [],
   "source": [
    "phys_features = [\n",
    "    \"bayesImVoltage\",\n",
    "    \"opticalPower\",\n",
    "    \"polarizerVoltages[0]\",\n",
    "    \"polarizerVoltages[1]\",\n",
    "    \"polarizerVoltages[2]\",\n",
    "    \"polarizerVoltages[3]\",\n",
    "    \"temp_1\",\n",
    "    \"biasVoltage_1\",\n",
    "    \"temp_2\",\n",
    "    \"biasVoltage_2\",\n",
    "]\n",
    "\n",
    "features_to_lag = phys_features + [\n",
    "    \"E_mu_Z_est\",\n",
    "    \"E_mu_Z\",\n",
    "    \"E_mu_X\",\n",
    "    \"E_nu1_X\",\n",
    "    \"E_nu2_X\",\n",
    "    \"E_nu1_Z\",\n",
    "    \"E_nu2_Z\",\n",
    "    \"N_mu_X\",\n",
    "    \"M_mu_XX\",\n",
    "    \"M_mu_XZ\",\n",
    "    \"M_mu_X\",\n",
    "    \"N_mu_Z\",\n",
    "    \"M_mu_ZZ\",\n",
    "    \"M_mu_Z\",\n",
    "    \"N_nu1_X\",\n",
    "    \"M_nu1_XX\",\n",
    "    \"M_nu1_XZ\",\n",
    "    \"M_nu1_X\",\n",
    "    \"N_nu1_Z\",\n",
    "    \"M_nu1_ZZ\",\n",
    "    \"M_nu1_Z\",\n",
    "    \"N_nu2_X\",\n",
    "    \"M_nu2_XX\",\n",
    "    \"M_nu2_XZ\",\n",
    "    \"M_nu2_X\",\n",
    "    \"N_nu2_Z\",\n",
    "    \"M_nu2_ZZ\",\n",
    "    \"M_nu2_Z\",\n",
    "]"
   ]
  },
  {
   "cell_type": "code",
   "execution_count": 8,
   "id": "a23bc811",
   "metadata": {},
   "outputs": [],
   "source": [
    "def create_lag_features(df, features_to_lag, lags):\n",
    "    df = df.copy()\n",
    "    for lag in range(1, lags + 1):\n",
    "        for feature in features_to_lag:\n",
    "            df[f\"{feature}_lag{lag}\"] = df.groupby(\"block_id\")[feature].shift(lag)\n",
    "        # df = df.dropna(subset=[f\"{feature}_lag{lag}\" for feature in features_to_lag])\n",
    "    df = df.fillna(0)\n",
    "    return df"
   ]
  },
  {
   "cell_type": "code",
   "execution_count": null,
   "id": "7ff99346",
   "metadata": {},
   "outputs": [],
   "source": [
    "train_df = create_lag_features(train_df, features_to_lag, lags=30)\n",
    "train_df = train_df[(train_df[\"N_EC_rounds\"] <= 2) & (train_df[\"f_EC\"] <= 2)]\n",
    "test_df_lag = create_lag_features(test_df, features_to_lag, lags=30)"
   ]
  },
  {
   "cell_type": "markdown",
   "id": "e113fdf8",
   "metadata": {},
   "source": [
    "# Catboost E_mu_Z"
   ]
  },
  {
   "cell_type": "code",
   "execution_count": 12,
   "id": "19cefab4",
   "metadata": {},
   "outputs": [],
   "source": [
    "import numpy as np\n",
    "from catboost import CatBoostRegressor, CatBoostClassifier\n",
    "from sklearn.model_selection import train_test_split\n",
    "from sklearn.metrics import mean_squared_error\n",
    "from sklearn.metrics import accuracy_score, classification_report\n",
    "from sklearn.preprocessing import LabelEncoder"
   ]
  },
  {
   "cell_type": "code",
   "execution_count": 13,
   "id": "ff331f99",
   "metadata": {},
   "outputs": [],
   "source": [
    "features_to_drop = [\n",
    "    \"E_mu_Z_est\",\n",
    "    \"E_mu_Z\",\n",
    "    \"E_mu_X\",\n",
    "    \"E_nu1_X\",\n",
    "    \"E_nu2_X\",\n",
    "    \"E_nu1_Z\",\n",
    "    \"E_nu2_Z\",\n",
    "    \"N_mu_X\",\n",
    "    \"M_mu_XX\",\n",
    "    \"M_mu_XZ\",\n",
    "    \"M_mu_X\",\n",
    "    \"N_mu_Z\",\n",
    "    \"M_mu_ZZ\",\n",
    "    \"M_mu_Z\",\n",
    "    \"N_nu1_X\",\n",
    "    \"M_nu1_XX\",\n",
    "    \"M_nu1_XZ\",\n",
    "    \"M_nu1_X\",\n",
    "    \"N_nu1_Z\",\n",
    "    \"M_nu1_ZZ\",\n",
    "    \"M_nu1_Z\",\n",
    "    \"N_nu2_X\",\n",
    "    \"M_nu2_XX\",\n",
    "    \"M_nu2_XZ\",\n",
    "    \"M_nu2_X\",\n",
    "    \"N_nu2_Z\",\n",
    "    \"M_nu2_ZZ\",\n",
    "    \"M_nu2_Z\",\n",
    "    \"block_id\",\n",
    "    \"frame_idx\",\n",
    "    \"estimator_name\",\n",
    "    \"maintenance_flag\",\n",
    "    \"synErr\",\n",
    "    \"N_EC_rounds\",\n",
    "    \"f_EC\",\n",
    "    \"R\",\n",
    "    \"s\",\n",
    "    \"p\",\n",
    "    \"nTot\",\n",
    "    \"E_mu_phys_est\",\n",
    "]"
   ]
  },
  {
   "cell_type": "code",
   "execution_count": 14,
   "id": "4fb734b8",
   "metadata": {},
   "outputs": [],
   "source": [
    "X_train = train_df.drop(columns=features_to_drop)\n",
    "y_train = train_df[\"E_mu_Z_est\"]\n",
    "X_test = test_df_lag.drop(columns=features_to_drop)\n",
    "y_test = test_df_lag[\"E_mu_Z_est\"]"
   ]
  },
  {
   "cell_type": "code",
   "execution_count": 15,
   "id": "b16ea4b8",
   "metadata": {},
   "outputs": [],
   "source": [
    "model_E_mu_Z = CatBoostRegressor(\n",
    "    iterations=1000,\n",
    "    learning_rate=0.05,\n",
    "    loss_function=\"RMSE\",\n",
    "    verbose=100,\n",
    "    random_state=42,\n",
    ")"
   ]
  },
  {
   "cell_type": "code",
   "execution_count": 16,
   "id": "a6715239",
   "metadata": {},
   "outputs": [
    {
     "name": "stdout",
     "output_type": "stream",
     "text": [
      "0:\tlearn: 0.0136429\ttest: 0.0030531\tbest: 0.0030531 (0)\ttotal: 146ms\tremaining: 2m 25s\n",
      "100:\tlearn: 0.0009949\ttest: 0.0001966\tbest: 0.0001966 (100)\ttotal: 7.16s\tremaining: 1m 3s\n",
      "200:\tlearn: 0.0008538\ttest: 0.0001563\tbest: 0.0001563 (200)\ttotal: 14s\tremaining: 55.7s\n",
      "300:\tlearn: 0.0007320\ttest: 0.0001465\tbest: 0.0001445 (275)\ttotal: 21.1s\tremaining: 48.9s\n",
      "400:\tlearn: 0.0006389\ttest: 0.0001420\tbest: 0.0001420 (400)\ttotal: 27.8s\tremaining: 41.5s\n",
      "500:\tlearn: 0.0005691\ttest: 0.0001398\tbest: 0.0001398 (500)\ttotal: 34.7s\tremaining: 34.6s\n",
      "600:\tlearn: 0.0005147\ttest: 0.0001420\tbest: 0.0001398 (500)\ttotal: 42s\tremaining: 27.9s\n",
      "700:\tlearn: 0.0004707\ttest: 0.0001411\tbest: 0.0001398 (500)\ttotal: 49s\tremaining: 20.9s\n",
      "800:\tlearn: 0.0004323\ttest: 0.0001401\tbest: 0.0001398 (500)\ttotal: 56.2s\tremaining: 14s\n",
      "900:\tlearn: 0.0004024\ttest: 0.0001387\tbest: 0.0001387 (897)\ttotal: 1m 3s\tremaining: 7.02s\n",
      "999:\tlearn: 0.0003741\ttest: 0.0001394\tbest: 0.0001379 (961)\ttotal: 1m 11s\tremaining: 0us\n",
      "\n",
      "bestTest = 0.0001379032588\n",
      "bestIteration = 961\n",
      "\n",
      "Shrink model to first 962 iterations.\n"
     ]
    },
    {
     "data": {
      "text/plain": [
       "<catboost.core.CatBoostRegressor at 0x718fb0b713a0>"
      ]
     },
     "execution_count": 16,
     "metadata": {},
     "output_type": "execute_result"
    }
   ],
   "source": [
    "model_E_mu_Z.fit(\n",
    "    X_train,\n",
    "    y_train,\n",
    "    eval_set=(X_test, y_test),\n",
    ")"
   ]
  },
  {
   "cell_type": "code",
   "execution_count": 17,
   "id": "f59d660c",
   "metadata": {},
   "outputs": [],
   "source": [
    "E_mu_Z_pred = model_E_mu_Z.predict(X_test)"
   ]
  },
  {
   "cell_type": "markdown",
   "id": "0621a850",
   "metadata": {},
   "source": [
    "# CatBoost R"
   ]
  },
  {
   "cell_type": "code",
   "execution_count": 19,
   "id": "6d6b4b6f",
   "metadata": {},
   "outputs": [],
   "source": [
    "features_to_drop = [\n",
    "    \"E_mu_Z\",\n",
    "    \"E_mu_X\",\n",
    "    \"E_nu1_X\",\n",
    "    \"E_nu2_X\",\n",
    "    \"E_nu1_Z\",\n",
    "    \"E_nu2_Z\",\n",
    "    \"N_mu_X\",\n",
    "    \"M_mu_XX\",\n",
    "    \"M_mu_XZ\",\n",
    "    \"M_mu_X\",\n",
    "    \"N_mu_Z\",\n",
    "    \"M_mu_ZZ\",\n",
    "    \"M_mu_Z\",\n",
    "    \"N_nu1_X\",\n",
    "    \"M_nu1_XX\",\n",
    "    \"M_nu1_XZ\",\n",
    "    \"M_nu1_X\",\n",
    "    \"N_nu1_Z\",\n",
    "    \"M_nu1_ZZ\",\n",
    "    \"M_nu1_Z\",\n",
    "    \"N_nu2_X\",\n",
    "    \"M_nu2_XX\",\n",
    "    \"M_nu2_XZ\",\n",
    "    \"M_nu2_X\",\n",
    "    \"N_nu2_Z\",\n",
    "    \"M_nu2_ZZ\",\n",
    "    \"M_nu2_Z\",\n",
    "    \"block_id\",\n",
    "    \"frame_idx\",\n",
    "    \"estimator_name\",\n",
    "    \"maintenance_flag\",\n",
    "    \"synErr\",\n",
    "    \"N_EC_rounds\",\n",
    "    \"f_EC\",\n",
    "    \"R\",\n",
    "    \"s\",\n",
    "    \"p\",\n",
    "    \"nTot\",\n",
    "    \"E_mu_phys_est\",\n",
    "]"
   ]
  },
  {
   "cell_type": "code",
   "execution_count": 20,
   "id": "695da611",
   "metadata": {},
   "outputs": [],
   "source": [
    "X_train = train_df.drop(columns=features_to_drop)\n",
    "y_train = train_df[\"R\"]\n",
    "X_test = test_df_lag.drop(columns=features_to_drop)\n",
    "y_test = test_df_lag[\"R\"]"
   ]
  },
  {
   "cell_type": "code",
   "execution_count": 21,
   "id": "d0f928b3",
   "metadata": {},
   "outputs": [
    {
     "name": "stdout",
     "output_type": "stream",
     "text": [
      "{0.5: 0, 0.55: 1, 0.6: 2, 0.65: 3, 0.7: 4, 0.75: 5, 0.8: 6, 0.85: 7}\n"
     ]
    }
   ],
   "source": [
    "le = LabelEncoder()\n",
    "y_train = le.fit_transform(y_train)\n",
    "y_test = le.transform(y_test)\n",
    "print(dict(zip(le.classes_, le.transform(le.classes_))))"
   ]
  },
  {
   "cell_type": "code",
   "execution_count": 22,
   "id": "651e196b",
   "metadata": {},
   "outputs": [
    {
     "name": "stdout",
     "output_type": "stream",
     "text": [
      "0:\tlearn: 0.9929610\ttest: 0.9965000\tbest: 0.9965000 (0)\ttotal: 1.03s\tremaining: 3m 24s\n",
      "100:\tlearn: 0.9956234\ttest: 0.9955000\tbest: 0.9980000 (80)\ttotal: 1m 3s\tremaining: 1m 2s\n",
      "199:\tlearn: 0.9958719\ttest: 0.9955000\tbest: 0.9980000 (80)\ttotal: 1m 54s\tremaining: 0us\n",
      "\n",
      "bestTest = 0.998\n",
      "bestIteration = 80\n",
      "\n",
      "Shrink model to first 81 iterations.\n"
     ]
    },
    {
     "data": {
      "text/plain": [
       "<catboost.core.CatBoostClassifier at 0x718faedb9ca0>"
      ]
     },
     "execution_count": 22,
     "metadata": {},
     "output_type": "execute_result"
    }
   ],
   "source": [
    "model_R = CatBoostClassifier(\n",
    "    iterations=200,\n",
    "    learning_rate=0.05,\n",
    "    loss_function=\"MultiClass\",\n",
    "    eval_metric=\"Accuracy\",\n",
    "    verbose=100,\n",
    "    random_state=42,\n",
    ")\n",
    "\n",
    "model_R.fit(\n",
    "    X_train,\n",
    "    y_train,\n",
    "    eval_set=(X_test, y_test),\n",
    ")"
   ]
  },
  {
   "cell_type": "code",
   "execution_count": 24,
   "id": "1112f9ac",
   "metadata": {},
   "outputs": [],
   "source": [
    "R_pred_labels = model_R.predict(X_test).flatten()\n",
    "\n",
    "R_pred = le.inverse_transform(R_pred_labels)"
   ]
  },
  {
   "cell_type": "markdown",
   "id": "b68c1e9c",
   "metadata": {},
   "source": [
    "# CatBoost s p"
   ]
  },
  {
   "cell_type": "code",
   "execution_count": 25,
   "id": "d0d0d040",
   "metadata": {},
   "outputs": [],
   "source": [
    "features_to_drop = [\n",
    "    \"E_mu_Z_est\",\n",
    "    \"E_mu_Z\",\n",
    "    \"E_mu_X\",\n",
    "    \"E_nu1_X\",\n",
    "    \"E_nu2_X\",\n",
    "    \"E_nu1_Z\",\n",
    "    \"E_nu2_Z\",\n",
    "    \"N_mu_X\",\n",
    "    \"M_mu_XX\",\n",
    "    \"M_mu_XZ\",\n",
    "    \"M_mu_X\",\n",
    "    \"N_mu_Z\",\n",
    "    \"M_mu_ZZ\",\n",
    "    \"M_mu_Z\",\n",
    "    \"N_nu1_X\",\n",
    "    \"M_nu1_XX\",\n",
    "    \"M_nu1_XZ\",\n",
    "    \"M_nu1_X\",\n",
    "    \"N_nu1_Z\",\n",
    "    \"M_nu1_ZZ\",\n",
    "    \"M_nu1_Z\",\n",
    "    \"N_nu2_X\",\n",
    "    \"M_nu2_XX\",\n",
    "    \"M_nu2_XZ\",\n",
    "    \"M_nu2_X\",\n",
    "    \"N_nu2_Z\",\n",
    "    \"M_nu2_ZZ\",\n",
    "    \"M_nu2_Z\",\n",
    "    \"block_id\",\n",
    "    \"frame_idx\",\n",
    "    \"estimator_name\",\n",
    "    \"maintenance_flag\",\n",
    "    \"synErr\",\n",
    "    \"N_EC_rounds\",\n",
    "    \"f_EC\",\n",
    "    \"s\",\n",
    "    \"p\",\n",
    "    \"nTot\",\n",
    "    \"E_mu_phys_est\",\n",
    "]"
   ]
  },
  {
   "cell_type": "code",
   "execution_count": 26,
   "id": "af616caa",
   "metadata": {},
   "outputs": [],
   "source": [
    "X_train = train_df.drop(columns=features_to_drop)\n",
    "y_train = train_df[\"s\"]\n",
    "X_test = test_df_lag.drop(columns=features_to_drop)\n",
    "y_test = test_df_lag[\"s\"]"
   ]
  },
  {
   "cell_type": "code",
   "execution_count": 27,
   "id": "da15e7b4",
   "metadata": {},
   "outputs": [],
   "source": [
    "model_s_p = CatBoostRegressor(\n",
    "    iterations=1000,\n",
    "    learning_rate=0.05,\n",
    "    loss_function=\"RMSE\",\n",
    "    verbose=100,\n",
    "    random_state=42,\n",
    ")"
   ]
  },
  {
   "cell_type": "code",
   "execution_count": 28,
   "id": "ab7c9611",
   "metadata": {},
   "outputs": [
    {
     "name": "stdout",
     "output_type": "stream",
     "text": [
      "0:\tlearn: 558.9339684\ttest: 591.7890506\tbest: 591.7890506 (0)\ttotal: 101ms\tremaining: 1m 41s\n",
      "100:\tlearn: 64.4777870\ttest: 28.4997641\tbest: 28.4997641 (100)\ttotal: 9.13s\tremaining: 1m 21s\n",
      "200:\tlearn: 41.2572805\ttest: 19.7867404\tbest: 19.7859032 (199)\ttotal: 17s\tremaining: 1m 7s\n",
      "300:\tlearn: 33.7064493\ttest: 16.4288174\tbest: 16.4288174 (300)\ttotal: 24.1s\tremaining: 55.9s\n",
      "400:\tlearn: 30.3542365\ttest: 14.6947364\tbest: 14.6947364 (400)\ttotal: 31s\tremaining: 46.4s\n",
      "500:\tlearn: 28.0619947\ttest: 13.8897064\tbest: 13.8890374 (499)\ttotal: 38.1s\tremaining: 37.9s\n",
      "600:\tlearn: 26.1203773\ttest: 13.3781017\tbest: 13.3759261 (599)\ttotal: 45.5s\tremaining: 30.2s\n",
      "700:\tlearn: 24.4481130\ttest: 13.0095027\tbest: 13.0095019 (699)\ttotal: 53s\tremaining: 22.6s\n",
      "800:\tlearn: 23.0890416\ttest: 12.7451333\tbest: 12.7448984 (799)\ttotal: 1m\tremaining: 15s\n",
      "900:\tlearn: 21.8665083\ttest: 12.4420333\tbest: 12.4420333 (900)\ttotal: 1m 8s\tremaining: 7.51s\n",
      "999:\tlearn: 20.9274134\ttest: 12.1262106\tbest: 12.1201943 (981)\ttotal: 1m 15s\tremaining: 0us\n",
      "\n",
      "bestTest = 12.12019431\n",
      "bestIteration = 981\n",
      "\n",
      "Shrink model to first 982 iterations.\n"
     ]
    },
    {
     "data": {
      "text/plain": [
       "<catboost.core.CatBoostRegressor at 0x718fb0876c60>"
      ]
     },
     "execution_count": 28,
     "metadata": {},
     "output_type": "execute_result"
    }
   ],
   "source": [
    "model_s_p.fit(\n",
    "    X_train,\n",
    "    y_train,\n",
    "    eval_set=(X_test, y_test),\n",
    ")"
   ]
  },
  {
   "cell_type": "code",
   "execution_count": 29,
   "id": "600ad366",
   "metadata": {},
   "outputs": [],
   "source": [
    "s_pred_float = model_s_p.predict(X_test)\n",
    "s_pred_int = np.round(s_pred_float).astype(int)"
   ]
  },
  {
   "cell_type": "code",
   "execution_count": 30,
   "id": "9ac0bf29",
   "metadata": {},
   "outputs": [],
   "source": [
    "p_pred_int = 4800 - s_pred_int"
   ]
  },
  {
   "cell_type": "code",
   "execution_count": 31,
   "id": "686660bc",
   "metadata": {},
   "outputs": [],
   "source": [
    "pd.DataFrame(data={\"E_mu_Z\": E_mu_Z_pred, \"R\": R_pred, \"s\": s_pred_int, \"p\": p_pred_int}).to_csv(\n",
    "    \"submission.csv\", header=False, index=False\n",
    ")"
   ]
  }
 ],
 "metadata": {
  "kernelspec": {
   "display_name": "ds-env",
   "language": "python",
   "name": "python3"
  },
  "language_info": {
   "codemirror_mode": {
    "name": "ipython",
    "version": 3
   },
   "file_extension": ".py",
   "mimetype": "text/x-python",
   "name": "python",
   "nbconvert_exporter": "python",
   "pygments_lexer": "ipython3",
   "version": "3.13.2"
  }
 },
 "nbformat": 4,
 "nbformat_minor": 5
}
