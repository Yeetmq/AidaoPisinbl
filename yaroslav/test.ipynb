{
 "cells": [
  {
   "cell_type": "markdown",
   "id": "cc762b89",
   "metadata": {},
   "source": [
    "# Импорт библиотек"
   ]
  },
  {
   "cell_type": "code",
   "execution_count": 19,
   "id": "9c86f8bd",
   "metadata": {},
   "outputs": [],
   "source": [
    "import warnings\n",
    "import pandas as pd\n",
    "\n",
    "warnings.filterwarnings(\"ignore\")"
   ]
  },
  {
   "cell_type": "markdown",
   "id": "5289c9de",
   "metadata": {},
   "source": [
    "# Подготовка данных"
   ]
  },
  {
   "cell_type": "code",
   "execution_count": 20,
   "id": "5217cc3f",
   "metadata": {},
   "outputs": [],
   "source": [
    "df = pd.read_csv(\"data/frames_errors.csv\", header=None)\n",
    "df.columns = [\n",
    "    \"block_id\",  # ID блока\n",
    "    \"frame_idx\",  # ID фрейма в блоке\n",
    "    \"E_mu_Z\",  # Факт: Реальный QBER в Z-базисе\n",
    "    \"E_mu_phys_est\",  # Альтернативная оценка QBER, основанная на физических параметрах\n",
    "    \"E_mu_X\",  # Факт: Реальный QBER в X-базисе\n",
    "    \"E_nu1_X\",  # QBER для decoy-состояния nu1 в X-базисе\n",
    "    \"E_nu2_X\",  # QBER для decoy-состояния nu2 в X-базисе\n",
    "    \"E_nu1_Z\",  # QBER для decoy-состояния nu1 в Z-базисе\n",
    "    \"E_nu2_Z\",  # QBER для decoy-состояния nu2 в Z-базисе\n",
    "    \"N_mu_X\",  # Количество отправленных сигнальных состояний в X-базисе\n",
    "    \"M_mu_XX\",  # Количество принятых сигнальных состояний (отправлено в X, принято в X)\n",
    "    \"M_mu_XZ\",  # Количество принятых сигнальных состояний (отправлено в X, принято в Z)\n",
    "    \"M_mu_X\",  # Общее количество принятых сигнальных состояний в X-базисе\n",
    "    \"N_mu_Z\",  # Количество отправленных сигнальных состояний в Z-базисе\n",
    "    \"M_mu_ZZ\",  # Количество принятых сигнальных состояний (отправлено в Z, принято в Z)\n",
    "    \"M_mu_Z\",  # Общее количество принятых сигнальных состояний в Z-базисе\n",
    "    \"N_nu1_X\",  # Количество отправленных decoy-состояний nu1 в X-базисе\n",
    "    \"M_nu1_XX\",\n",
    "    \"M_nu1_XZ\",\n",
    "    \"M_nu1_X\",\n",
    "    \"N_nu1_Z\",\n",
    "    \"M_nu1_ZZ\",\n",
    "    \"M_nu1_Z\",\n",
    "    \"N_nu2_X\",\n",
    "    \"M_nu2_XX\",\n",
    "    \"M_nu2_XZ\",\n",
    "    \"M_nu2_X\",\n",
    "    \"N_nu2_Z\",\n",
    "    \"M_nu2_ZZ\",\n",
    "    \"M_nu2_Z\",\n",
    "    \"nTot\",  # Общее количество отправленных состояний\n",
    "    \"bayesImVoltage\",  # Напряжение на модуляторе интенсивности\n",
    "    \"opticalPower\",  # Оптическая мощность\n",
    "    \"polarizerVoltages[0]\",  # Напряжение на контроллере поляризации 0\n",
    "    \"polarizerVoltages[1]\",  # Напряжение на контроллере поляризации 1\n",
    "    \"polarizerVoltages[2]\",  # Напряжение на контроллере поляризации 2\n",
    "    \"polarizerVoltages[3]\",  # Напряжение на контроллере поляризации 3\n",
    "    \"temp_1\",  # Температура детектора 1\n",
    "    \"biasVoltage_1\",  # Напряжение смещения детектора 1\n",
    "    \"temp_2\",  # Температура детектора 2\n",
    "    \"biasVoltage_2\",  # Напряжение смещения детектора 2\n",
    "    \"synErr\",  # Результат: Ошибка синдрома (1 - коррекция провалилась, 0 - успех)\n",
    "    \"N_EC_rounds\",  # Результат: Количество доп. раундов коррекции (индикатор сложности)\n",
    "    \"maintenance_flag\",  # Флаг технического обслуживания\n",
    "    \"estimator_name\",  # Название алгоритма, который выбрал параметры в реальности\n",
    "    \"f_EC\",  # Эффективность коррекции ошибок\n",
    "    \"E_mu_Z_est\",  # Предсказание: Оценка QBER, на основе которой были выбраны R, s, p\n",
    "    \"R\",  # Параметр: Скорость кода\n",
    "    \"s\",  # Параметр: Количество укороченных узлов\n",
    "    \"p\",  # Параметр: Количество проколотых узлов\n",
    "]\n",
    "\n",
    "df = df.rename(\n",
    "    columns={\n",
    "        \"block_id\": \"id\",\n",
    "        \"E_mu_Z\": \"value\",\n",
    "        \"frame_idx\": \"date\",\n",
    "    }\n",
    ")"
   ]
  },
  {
   "cell_type": "code",
   "execution_count": 21,
   "id": "0961f92a",
   "metadata": {},
   "outputs": [
    {
     "name": "stdout",
     "output_type": "stream",
     "text": [
      "Столбцы с пропусками и их количество:\n",
      "E_mu_phys_est    448\n",
      "f_EC             131\n",
      "dtype: int64\n"
     ]
    }
   ],
   "source": [
    "missing_counts = df.isna().sum()\n",
    "columns_with_missing = missing_counts[missing_counts > 0]\n",
    "\n",
    "if columns_with_missing.empty:\n",
    "    print(\"Пропусков в данных нет.\")\n",
    "else:\n",
    "    print(\"Столбцы с пропусками и их количество:\")\n",
    "    print(columns_with_missing)"
   ]
  },
  {
   "cell_type": "code",
   "execution_count": 22,
   "id": "d94fcd77",
   "metadata": {},
   "outputs": [
    {
     "name": "stdout",
     "output_type": "stream",
     "text": [
      "Количество фреймов/Количество рядов\n",
      "date\n",
      "400    815\n",
      "399      8\n",
      "Name: count, dtype: int64\n"
     ]
    }
   ],
   "source": [
    "df_for_ts = df.set_index([\"id\", \"date\"]).unstack().ffill().stack().reset_index()\n",
    "timestamp_counts = df_for_ts.groupby(\"id\")[\"date\"].nunique()\n",
    "print(\"Количество фреймов/Количество рядов\")\n",
    "print(timestamp_counts.value_counts())"
   ]
  },
  {
   "cell_type": "code",
   "execution_count": 14,
   "id": "56582052",
   "metadata": {},
   "outputs": [],
   "source": [
    "df_base = df.drop(\n",
    "    [\n",
    "        \"E_mu_phys_est\",\n",
    "        \"f_EC\",\n",
    "    ],\n",
    "    axis=1,\n",
    ")"
   ]
  },
  {
   "cell_type": "code",
   "execution_count": 23,
   "id": "b698464b",
   "metadata": {},
   "outputs": [],
   "source": [
    "df = df_base.copy()"
   ]
  },
  {
   "cell_type": "code",
   "execution_count": null,
   "id": "acea14db",
   "metadata": {},
   "outputs": [],
   "source": []
  },
  {
   "cell_type": "code",
   "execution_count": 27,
   "id": "f10405eb",
   "metadata": {},
   "outputs": [
    {
     "name": "stdout",
     "output_type": "stream",
     "text": [
      "Количество фреймов / Количество рядов\n",
      "date\n",
      "399    569\n",
      "400    251\n",
      "398      2\n",
      "390      1\n",
      "Name: count, dtype: int64\n"
     ]
    }
   ],
   "source": [
    "timestamp_counts = df.groupby(\"id\")[\"date\"].nunique()\n",
    "print(\"Количество фреймов / Количество рядов\")\n",
    "print(timestamp_counts.value_counts())"
   ]
  },
  {
   "cell_type": "code",
   "execution_count": null,
   "id": "b7132552",
   "metadata": {},
   "outputs": [],
   "source": [
    "df_for_ts = df[[\"id\", \"value\", \"date\"]].dropna(subset=[\"value\"], how=\"any\")"
   ]
  },
  {
   "cell_type": "code",
   "execution_count": 10,
   "id": "19c4a31e",
   "metadata": {},
   "outputs": [
    {
     "name": "stdout",
     "output_type": "stream",
     "text": [
      "Количество фреймов/Количество рядов\n",
      "date\n",
      "400    815\n",
      "399      8\n",
      "Name: count, dtype: int64\n"
     ]
    },
    {
     "name": "stderr",
     "output_type": "stream",
     "text": [
      "/tmp/ipykernel_5569/143935003.py:1: FutureWarning: The previous implementation of stack is deprecated and will be removed in a future version of pandas. See the What's New notes for pandas 2.1.0 for details. Specify future_stack=True to adopt the new implementation and silence this warning.\n",
      "  df_for_ts = df_for_ts.set_index([\"id\", \"date\"]).unstack().ffill().stack().reset_index()\n"
     ]
    }
   ],
   "source": [
    "df_for_ts = df_for_ts.set_index([\"id\", \"date\"]).unstack().ffill().stack().reset_index()\n",
    "timestamp_counts = df_for_ts.groupby(\"id\")[\"date\"].nunique()\n",
    "print(\"Количество фреймов/Количество рядов\")\n",
    "print(timestamp_counts.value_counts())"
   ]
  },
  {
   "cell_type": "code",
   "execution_count": 11,
   "id": "396d427c",
   "metadata": {},
   "outputs": [
    {
     "name": "stdout",
     "output_type": "stream",
     "text": [
      "Оставшиеся сегменты: 815\n"
     ]
    }
   ],
   "source": [
    "df_for_ts = df_for_ts.groupby(\"id\").filter(lambda x: len(x) == 400)\n",
    "print(\"Оставшиеся сегменты:\", df_for_ts[\"id\"].nunique())"
   ]
  },
  {
   "cell_type": "code",
   "execution_count": 20,
   "id": "0c58974b",
   "metadata": {},
   "outputs": [],
   "source": [
    "start_idx = df_for_ts[(df_for_ts[\"id\"] == 1489460492) & (df_for_ts[\"date\"] == 99)].index[0]\n",
    "end_idx = df_for_ts[(df_for_ts[\"id\"] == 1840064900) & (df_for_ts[\"date\"] == 101)].index[0]\n",
    "\n",
    "df_submit = df_for_ts.loc[start_idx:end_idx].copy()"
   ]
  },
  {
   "cell_type": "code",
   "execution_count": 21,
   "id": "219022c5",
   "metadata": {},
   "outputs": [
    {
     "data": {
      "text/html": [
       "<div>\n",
       "<style scoped>\n",
       "    .dataframe tbody tr th:only-of-type {\n",
       "        vertical-align: middle;\n",
       "    }\n",
       "\n",
       "    .dataframe tbody tr th {\n",
       "        vertical-align: top;\n",
       "    }\n",
       "\n",
       "    .dataframe thead th {\n",
       "        text-align: right;\n",
       "    }\n",
       "</style>\n",
       "<table border=\"1\" class=\"dataframe\">\n",
       "  <thead>\n",
       "    <tr style=\"text-align: right;\">\n",
       "      <th></th>\n",
       "      <th>id</th>\n",
       "      <th>date</th>\n",
       "      <th>value</th>\n",
       "    </tr>\n",
       "  </thead>\n",
       "  <tbody>\n",
       "    <tr>\n",
       "      <th>224091</th>\n",
       "      <td>1489460492</td>\n",
       "      <td>99</td>\n",
       "      <td>0.02507</td>\n",
       "    </tr>\n",
       "    <tr>\n",
       "      <th>224092</th>\n",
       "      <td>1489460492</td>\n",
       "      <td>100</td>\n",
       "      <td>0.02121</td>\n",
       "    </tr>\n",
       "    <tr>\n",
       "      <th>224093</th>\n",
       "      <td>1489460492</td>\n",
       "      <td>101</td>\n",
       "      <td>0.02029</td>\n",
       "    </tr>\n",
       "    <tr>\n",
       "      <th>224094</th>\n",
       "      <td>1489460492</td>\n",
       "      <td>102</td>\n",
       "      <td>0.01904</td>\n",
       "    </tr>\n",
       "    <tr>\n",
       "      <th>224095</th>\n",
       "      <td>1489460492</td>\n",
       "      <td>103</td>\n",
       "      <td>0.02018</td>\n",
       "    </tr>\n",
       "    <tr>\n",
       "      <th>...</th>\n",
       "      <td>...</td>\n",
       "      <td>...</td>\n",
       "      <td>...</td>\n",
       "    </tr>\n",
       "    <tr>\n",
       "      <th>276489</th>\n",
       "      <td>1840064900</td>\n",
       "      <td>97</td>\n",
       "      <td>0.01890</td>\n",
       "    </tr>\n",
       "    <tr>\n",
       "      <th>276490</th>\n",
       "      <td>1840064900</td>\n",
       "      <td>98</td>\n",
       "      <td>0.01897</td>\n",
       "    </tr>\n",
       "    <tr>\n",
       "      <th>276491</th>\n",
       "      <td>1840064900</td>\n",
       "      <td>99</td>\n",
       "      <td>0.01838</td>\n",
       "    </tr>\n",
       "    <tr>\n",
       "      <th>276492</th>\n",
       "      <td>1840064900</td>\n",
       "      <td>100</td>\n",
       "      <td>0.02000</td>\n",
       "    </tr>\n",
       "    <tr>\n",
       "      <th>276493</th>\n",
       "      <td>1840064900</td>\n",
       "      <td>101</td>\n",
       "      <td>0.01956</td>\n",
       "    </tr>\n",
       "  </tbody>\n",
       "</table>\n",
       "<p>52403 rows × 3 columns</p>\n",
       "</div>"
      ],
      "text/plain": [
       "                id  date    value\n",
       "224091  1489460492    99  0.02507\n",
       "224092  1489460492   100  0.02121\n",
       "224093  1489460492   101  0.02029\n",
       "224094  1489460492   102  0.01904\n",
       "224095  1489460492   103  0.02018\n",
       "...            ...   ...      ...\n",
       "276489  1840064900    97  0.01890\n",
       "276490  1840064900    98  0.01897\n",
       "276491  1840064900    99  0.01838\n",
       "276492  1840064900   100  0.02000\n",
       "276493  1840064900   101  0.01956\n",
       "\n",
       "[52403 rows x 3 columns]"
      ]
     },
     "execution_count": 21,
     "metadata": {},
     "output_type": "execute_result"
    }
   ],
   "source": [
    "df_submit"
   ]
  },
  {
   "cell_type": "code",
   "execution_count": 17,
   "id": "42a66127",
   "metadata": {},
   "outputs": [
    {
     "data": {
      "text/plain": [
       "815"
      ]
     },
     "execution_count": 17,
     "metadata": {},
     "output_type": "execute_result"
    }
   ],
   "source": [
    "len(df_for_ts[\"id\"].unique())"
   ]
  },
  {
   "cell_type": "code",
   "execution_count": null,
   "id": "0742be86",
   "metadata": {},
   "outputs": [],
   "source": []
  }
 ],
 "metadata": {
  "kernelspec": {
   "display_name": "ds-env",
   "language": "python",
   "name": "python3"
  },
  "language_info": {
   "codemirror_mode": {
    "name": "ipython",
    "version": 3
   },
   "file_extension": ".py",
   "mimetype": "text/x-python",
   "name": "python",
   "nbconvert_exporter": "python",
   "pygments_lexer": "ipython3",
   "version": "3.12.11"
  }
 },
 "nbformat": 4,
 "nbformat_minor": 5
}
